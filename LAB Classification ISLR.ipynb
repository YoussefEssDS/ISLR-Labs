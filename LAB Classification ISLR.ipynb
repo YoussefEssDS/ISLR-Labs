{
 "cells": [
  {
   "cell_type": "markdown",
   "metadata": {},
   "source": [
    "We will work through the LAB for classfication chapter in ISLR.\n",
    "\n",
    "Basic functions that perform least squares linear regression and other simple analyses come standard with the base distribution named MASS. So we use the library() function to run it.\n"
   ]
  },
  {
   "cell_type": "code",
   "execution_count": 177,
   "metadata": {},
   "outputs": [],
   "source": [
    "lodalibraries=function(){\n",
    "    library('MASS')\n",
    "    library('class')\n",
    "    library('ISLR')\n",
    "    print('Libraries Loaded')\n",
    "}"
   ]
  },
  {
   "cell_type": "code",
   "execution_count": 178,
   "metadata": {},
   "outputs": [
    {
     "name": "stdout",
     "output_type": "stream",
     "text": [
      "[1] \"Libraries Loaded\"\n"
     ]
    }
   ],
   "source": [
    "lodalibraries()"
   ]
  },
  {
   "cell_type": "markdown",
   "metadata": {},
   "source": [
    "# 10-"
   ]
  },
  {
   "cell_type": "code",
   "execution_count": 180,
   "metadata": {},
   "outputs": [
    {
     "name": "stderr",
     "output_type": "stream",
     "text": [
      "The following objects are masked from Weekly (pos = 3):\n",
      "\n",
      "    Direction, Lag1, Lag2, Lag3, Lag4, Lag5, Today, Volume, Year\n",
      "\n",
      "The following objects are masked from Weekly (pos = 4):\n",
      "\n",
      "    Direction, Lag1, Lag2, Lag3, Lag4, Lag5, Today, Volume, Year\n",
      "\n",
      "The following objects are masked from Weekly (pos = 5):\n",
      "\n",
      "    Direction, Lag1, Lag2, Lag3, Lag4, Lag5, Today, Volume, Year\n",
      "\n",
      "The following objects are masked from Weekly (pos = 6):\n",
      "\n",
      "    Direction, Lag1, Lag2, Lag3, Lag4, Lag5, Today, Volume, Year\n",
      "\n",
      "The following objects are masked from Weekly (pos = 7):\n",
      "\n",
      "    Direction, Lag1, Lag2, Lag3, Lag4, Lag5, Today, Volume, Year\n",
      "\n",
      "The following objects are masked from Smarket (pos = 9):\n",
      "\n",
      "    Direction, Lag1, Lag2, Lag3, Lag4, Lag5, Today, Volume, Year\n",
      "\n",
      "The following objects are masked from Smarket (pos = 10):\n",
      "\n",
      "    Direction, Lag1, Lag2, Lag3, Lag4, Lag5, Today, Volume, Year\n",
      "\n"
     ]
    },
    {
     "data": {
      "text/html": [
       "<ol class=list-inline>\n",
       "\t<li>'Year'</li>\n",
       "\t<li>'Lag1'</li>\n",
       "\t<li>'Lag2'</li>\n",
       "\t<li>'Lag3'</li>\n",
       "\t<li>'Lag4'</li>\n",
       "\t<li>'Lag5'</li>\n",
       "\t<li>'Volume'</li>\n",
       "\t<li>'Today'</li>\n",
       "\t<li>'Direction'</li>\n",
       "</ol>\n"
      ],
      "text/latex": [
       "\\begin{enumerate*}\n",
       "\\item 'Year'\n",
       "\\item 'Lag1'\n",
       "\\item 'Lag2'\n",
       "\\item 'Lag3'\n",
       "\\item 'Lag4'\n",
       "\\item 'Lag5'\n",
       "\\item 'Volume'\n",
       "\\item 'Today'\n",
       "\\item 'Direction'\n",
       "\\end{enumerate*}\n"
      ],
      "text/markdown": [
       "1. 'Year'\n",
       "2. 'Lag1'\n",
       "3. 'Lag2'\n",
       "4. 'Lag3'\n",
       "5. 'Lag4'\n",
       "6. 'Lag5'\n",
       "7. 'Volume'\n",
       "8. 'Today'\n",
       "9. 'Direction'\n",
       "\n",
       "\n"
      ],
      "text/plain": [
       "[1] \"Year\"      \"Lag1\"      \"Lag2\"      \"Lag3\"      \"Lag4\"      \"Lag5\"     \n",
       "[7] \"Volume\"    \"Today\"     \"Direction\""
      ]
     },
     "metadata": {},
     "output_type": "display_data"
    },
    {
     "data": {
      "text/plain": [
       "      Year           Lag1               Lag2               Lag3         \n",
       " Min.   :1990   Min.   :-18.1950   Min.   :-18.1950   Min.   :-18.1950  \n",
       " 1st Qu.:1995   1st Qu.: -1.1540   1st Qu.: -1.1540   1st Qu.: -1.1580  \n",
       " Median :2000   Median :  0.2410   Median :  0.2410   Median :  0.2410  \n",
       " Mean   :2000   Mean   :  0.1506   Mean   :  0.1511   Mean   :  0.1472  \n",
       " 3rd Qu.:2005   3rd Qu.:  1.4050   3rd Qu.:  1.4090   3rd Qu.:  1.4090  \n",
       " Max.   :2010   Max.   : 12.0260   Max.   : 12.0260   Max.   : 12.0260  \n",
       "      Lag4               Lag5              Volume            Today         \n",
       " Min.   :-18.1950   Min.   :-18.1950   Min.   :0.08747   Min.   :-18.1950  \n",
       " 1st Qu.: -1.1580   1st Qu.: -1.1660   1st Qu.:0.33202   1st Qu.: -1.1540  \n",
       " Median :  0.2380   Median :  0.2340   Median :1.00268   Median :  0.2410  \n",
       " Mean   :  0.1458   Mean   :  0.1399   Mean   :1.57462   Mean   :  0.1499  \n",
       " 3rd Qu.:  1.4090   3rd Qu.:  1.4050   3rd Qu.:2.05373   3rd Qu.:  1.4050  \n",
       " Max.   : 12.0260   Max.   : 12.0260   Max.   :9.32821   Max.   : 12.0260  \n",
       " Direction \n",
       " Down:484  \n",
       " Up  :605  \n",
       "           \n",
       "           \n",
       "           \n",
       "           "
      ]
     },
     "metadata": {},
     "output_type": "display_data"
    },
    {
     "data": {
      "text/html": [
       "<table>\n",
       "<thead><tr><th></th><th scope=col>Year</th><th scope=col>Lag1</th><th scope=col>Lag2</th><th scope=col>Lag3</th><th scope=col>Lag4</th><th scope=col>Lag5</th><th scope=col>Volume</th><th scope=col>Today</th></tr></thead>\n",
       "<tbody>\n",
       "\t<tr><th scope=row>Year</th><td> 1.00000000 </td><td>-0.032289274</td><td>-0.03339001 </td><td>-0.03000649 </td><td>-0.031127923</td><td>-0.030519101</td><td> 0.84194162 </td><td>-0.032459894</td></tr>\n",
       "\t<tr><th scope=row>Lag1</th><td>-0.03228927 </td><td> 1.000000000</td><td>-0.07485305 </td><td> 0.05863568 </td><td>-0.071273876</td><td>-0.008183096</td><td>-0.06495131 </td><td>-0.075031842</td></tr>\n",
       "\t<tr><th scope=row>Lag2</th><td>-0.03339001 </td><td>-0.074853051</td><td> 1.00000000 </td><td>-0.07572091 </td><td> 0.058381535</td><td>-0.072499482</td><td>-0.08551314 </td><td> 0.059166717</td></tr>\n",
       "\t<tr><th scope=row>Lag3</th><td>-0.03000649 </td><td> 0.058635682</td><td>-0.07572091 </td><td> 1.00000000 </td><td>-0.075395865</td><td> 0.060657175</td><td>-0.06928771 </td><td>-0.071243639</td></tr>\n",
       "\t<tr><th scope=row>Lag4</th><td>-0.03112792 </td><td>-0.071273876</td><td> 0.05838153 </td><td>-0.07539587 </td><td> 1.000000000</td><td>-0.075675027</td><td>-0.06107462 </td><td>-0.007825873</td></tr>\n",
       "\t<tr><th scope=row>Lag5</th><td>-0.03051910 </td><td>-0.008183096</td><td>-0.07249948 </td><td> 0.06065717 </td><td>-0.075675027</td><td> 1.000000000</td><td>-0.05851741 </td><td> 0.011012698</td></tr>\n",
       "\t<tr><th scope=row>Volume</th><td> 0.84194162 </td><td>-0.064951313</td><td>-0.08551314 </td><td>-0.06928771 </td><td>-0.061074617</td><td>-0.058517414</td><td> 1.00000000 </td><td>-0.033077783</td></tr>\n",
       "\t<tr><th scope=row>Today</th><td>-0.03245989 </td><td>-0.075031842</td><td> 0.05916672 </td><td>-0.07124364 </td><td>-0.007825873</td><td> 0.011012698</td><td>-0.03307778 </td><td> 1.000000000</td></tr>\n",
       "</tbody>\n",
       "</table>\n"
      ],
      "text/latex": [
       "\\begin{tabular}{r|llllllll}\n",
       "  & Year & Lag1 & Lag2 & Lag3 & Lag4 & Lag5 & Volume & Today\\\\\n",
       "\\hline\n",
       "\tYear &  1.00000000  & -0.032289274 & -0.03339001  & -0.03000649  & -0.031127923 & -0.030519101 &  0.84194162  & -0.032459894\\\\\n",
       "\tLag1 & -0.03228927  &  1.000000000 & -0.07485305  &  0.05863568  & -0.071273876 & -0.008183096 & -0.06495131  & -0.075031842\\\\\n",
       "\tLag2 & -0.03339001  & -0.074853051 &  1.00000000  & -0.07572091  &  0.058381535 & -0.072499482 & -0.08551314  &  0.059166717\\\\\n",
       "\tLag3 & -0.03000649  &  0.058635682 & -0.07572091  &  1.00000000  & -0.075395865 &  0.060657175 & -0.06928771  & -0.071243639\\\\\n",
       "\tLag4 & -0.03112792  & -0.071273876 &  0.05838153  & -0.07539587  &  1.000000000 & -0.075675027 & -0.06107462  & -0.007825873\\\\\n",
       "\tLag5 & -0.03051910  & -0.008183096 & -0.07249948  &  0.06065717  & -0.075675027 &  1.000000000 & -0.05851741  &  0.011012698\\\\\n",
       "\tVolume &  0.84194162  & -0.064951313 & -0.08551314  & -0.06928771  & -0.061074617 & -0.058517414 &  1.00000000  & -0.033077783\\\\\n",
       "\tToday & -0.03245989  & -0.075031842 &  0.05916672  & -0.07124364  & -0.007825873 &  0.011012698 & -0.03307778  &  1.000000000\\\\\n",
       "\\end{tabular}\n"
      ],
      "text/markdown": [
       "\n",
       "| <!--/--> | Year | Lag1 | Lag2 | Lag3 | Lag4 | Lag5 | Volume | Today | \n",
       "|---|---|---|---|---|---|---|---|\n",
       "| Year |  1.00000000  | -0.032289274 | -0.03339001  | -0.03000649  | -0.031127923 | -0.030519101 |  0.84194162  | -0.032459894 | \n",
       "| Lag1 | -0.03228927  |  1.000000000 | -0.07485305  |  0.05863568  | -0.071273876 | -0.008183096 | -0.06495131  | -0.075031842 | \n",
       "| Lag2 | -0.03339001  | -0.074853051 |  1.00000000  | -0.07572091  |  0.058381535 | -0.072499482 | -0.08551314  |  0.059166717 | \n",
       "| Lag3 | -0.03000649  |  0.058635682 | -0.07572091  |  1.00000000  | -0.075395865 |  0.060657175 | -0.06928771  | -0.071243639 | \n",
       "| Lag4 | -0.03112792  | -0.071273876 |  0.05838153  | -0.07539587  |  1.000000000 | -0.075675027 | -0.06107462  | -0.007825873 | \n",
       "| Lag5 | -0.03051910  | -0.008183096 | -0.07249948  |  0.06065717  | -0.075675027 |  1.000000000 | -0.05851741  |  0.011012698 | \n",
       "| Volume |  0.84194162  | -0.064951313 | -0.08551314  | -0.06928771  | -0.061074617 | -0.058517414 |  1.00000000  | -0.033077783 | \n",
       "| Today | -0.03245989  | -0.075031842 |  0.05916672  | -0.07124364  | -0.007825873 |  0.011012698 | -0.03307778  |  1.000000000 | \n",
       "\n",
       "\n"
      ],
      "text/plain": [
       "       Year        Lag1         Lag2        Lag3        Lag4        \n",
       "Year    1.00000000 -0.032289274 -0.03339001 -0.03000649 -0.031127923\n",
       "Lag1   -0.03228927  1.000000000 -0.07485305  0.05863568 -0.071273876\n",
       "Lag2   -0.03339001 -0.074853051  1.00000000 -0.07572091  0.058381535\n",
       "Lag3   -0.03000649  0.058635682 -0.07572091  1.00000000 -0.075395865\n",
       "Lag4   -0.03112792 -0.071273876  0.05838153 -0.07539587  1.000000000\n",
       "Lag5   -0.03051910 -0.008183096 -0.07249948  0.06065717 -0.075675027\n",
       "Volume  0.84194162 -0.064951313 -0.08551314 -0.06928771 -0.061074617\n",
       "Today  -0.03245989 -0.075031842  0.05916672 -0.07124364 -0.007825873\n",
       "       Lag5         Volume      Today       \n",
       "Year   -0.030519101  0.84194162 -0.032459894\n",
       "Lag1   -0.008183096 -0.06495131 -0.075031842\n",
       "Lag2   -0.072499482 -0.08551314  0.059166717\n",
       "Lag3    0.060657175 -0.06928771 -0.071243639\n",
       "Lag4   -0.075675027 -0.06107462 -0.007825873\n",
       "Lag5    1.000000000 -0.05851741  0.011012698\n",
       "Volume -0.058517414  1.00000000 -0.033077783\n",
       "Today   0.011012698 -0.03307778  1.000000000"
      ]
     },
     "metadata": {},
     "output_type": "display_data"
    }
   ],
   "source": [
    "attach(Weekly)\n",
    "#fix(Weekly)\n",
    "names(Weekly)\n",
    "summary(Weekly)\n",
    "cor(Weekly[,-9])\n"
   ]
  },
  {
   "cell_type": "code",
   "execution_count": 181,
   "metadata": {},
   "outputs": [
    {
     "data": {
      "image/png": "[encoded data removed]",
      "text/plain": [
       "plot without title"
      ]
     },
     "metadata": {},
     "output_type": "display_data"
    }
   ],
   "source": [
    "pairs(Weekly)"
   ]
  },
  {
   "cell_type": "markdown",
   "metadata": {},
   "source": [
    "As you can see for the covariance matrix and the scatterplots there is no clear relationship between the variables. "
   ]
  },
  {
   "cell_type": "code",
   "execution_count": 184,
   "metadata": {},
   "outputs": [
    {
     "data": {
      "text/plain": [
       "\n",
       "Call:\n",
       "glm(formula = Direction ~ . - Year - Today, family = binomial, \n",
       "    data = Weekly)\n",
       "\n",
       "Deviance Residuals: \n",
       "    Min       1Q   Median       3Q      Max  \n",
       "-1.6949  -1.2565   0.9913   1.0849   1.4579  \n",
       "\n",
       "Coefficients:\n",
       "            Estimate Std. Error z value Pr(>|z|)   \n",
       "(Intercept)  0.26686    0.08593   3.106   0.0019 **\n",
       "Lag1        -0.04127    0.02641  -1.563   0.1181   \n",
       "Lag2         0.05844    0.02686   2.175   0.0296 * \n",
       "Lag3        -0.01606    0.02666  -0.602   0.5469   \n",
       "Lag4        -0.02779    0.02646  -1.050   0.2937   \n",
       "Lag5        -0.01447    0.02638  -0.549   0.5833   \n",
       "Volume      -0.02274    0.03690  -0.616   0.5377   \n",
       "---\n",
       "Signif. codes:  0 '***' 0.001 '**' 0.01 '*' 0.05 '.' 0.1 ' ' 1\n",
       "\n",
       "(Dispersion parameter for binomial family taken to be 1)\n",
       "\n",
       "    Null deviance: 1496.2  on 1088  degrees of freedom\n",
       "Residual deviance: 1486.4  on 1082  degrees of freedom\n",
       "AIC: 1500.4\n",
       "\n",
       "Number of Fisher Scoring iterations: 4\n"
      ]
     },
     "metadata": {},
     "output_type": "display_data"
    }
   ],
   "source": [
    "lorf=glm(Direction~.-Year-Today,data=Weekly,family = binomial)\n",
    "summary(lorf)"
   ]
  },
  {
   "cell_type": "markdown",
   "metadata": {},
   "source": [
    "The coefficient for Lag2 seem to be slightly significant, while the others are not significant."
   ]
  },
  {
   "cell_type": "code",
   "execution_count": 190,
   "metadata": {},
   "outputs": [
    {
     "data": {
      "text/html": [
       "<table>\n",
       "<thead><tr><th></th><th scope=col>Up</th></tr></thead>\n",
       "<tbody>\n",
       "\t<tr><th scope=row>Down</th><td>0</td></tr>\n",
       "\t<tr><th scope=row>Up</th><td>1</td></tr>\n",
       "</tbody>\n",
       "</table>\n"
      ],
      "text/latex": [
       "\\begin{tabular}{r|l}\n",
       "  & Up\\\\\n",
       "\\hline\n",
       "\tDown & 0\\\\\n",
       "\tUp & 1\\\\\n",
       "\\end{tabular}\n"
      ],
      "text/markdown": [
       "\n",
       "| <!--/--> | Up | \n",
       "|---|---|\n",
       "| Down | 0 | \n",
       "| Up | 1 | \n",
       "\n",
       "\n"
      ],
      "text/plain": [
       "     Up\n",
       "Down 0 \n",
       "Up   1 "
      ]
     },
     "metadata": {},
     "output_type": "display_data"
    }
   ],
   "source": [
    "contrasts(Direction)"
   ]
  },
  {
   "cell_type": "code",
   "execution_count": 191,
   "metadata": {},
   "outputs": [
    {
     "name": "stdout",
     "output_type": "stream",
     "text": [
      "[1] \"The confusion matrix is as follows:\"\n"
     ]
    },
    {
     "data": {
      "text/plain": [
       "        \n",
       "response Down  Up\n",
       "    Down   54  48\n",
       "    Up    430 557"
      ]
     },
     "metadata": {},
     "output_type": "display_data"
    },
    {
     "name": "stdout",
     "output_type": "stream",
     "text": [
      "[1] \"The accuracy is:\"\n"
     ]
    },
    {
     "data": {
      "text/html": [
       "0.561065197428834"
      ],
      "text/latex": [
       "0.561065197428834"
      ],
      "text/markdown": [
       "0.561065197428834"
      ],
      "text/plain": [
       "[1] 0.5610652"
      ]
     },
     "metadata": {},
     "output_type": "display_data"
    }
   ],
   "source": [
    "predpron=predict(lorf,type = 'response')\n",
    "response=rep('Down',nrow(Weekly))\n",
    "response[predpron>0.5]='Up'\n",
    "print('The confusion matrix is as follows:')\n",
    "table(response,Weekly$Direction)\n",
    "print('The accuracy is:')\n",
    "mean(response==Weekly$Direction)"
   ]
  },
  {
   "cell_type": "markdown",
   "metadata": {},
   "source": [
    "Seems like our model is better than random guessing, although we must keep in mind that this accuracy is concerning the training data set. \n",
    "\n",
    "By investigating the confusion matrix we can get some results: \n",
    "\n",
    "    1- Only 45/(430+54)=0.1115 of the Down movement were predicted accurately.\n",
    "    2- In the other hand, 557/(557+48)=0.92 of Up movement were predicted accurately.\n"
   ]
  },
  {
   "cell_type": "code",
   "execution_count": 213,
   "metadata": {},
   "outputs": [
    {
     "data": {
      "text/plain": [
       "\n",
       "Call:\n",
       "glm(formula = Direction ~ Lag2, family = binomial, data = train)\n",
       "\n",
       "Deviance Residuals: \n",
       "   Min      1Q  Median      3Q     Max  \n",
       "-1.536  -1.264   1.021   1.091   1.368  \n",
       "\n",
       "Coefficients:\n",
       "            Estimate Std. Error z value Pr(>|z|)   \n",
       "(Intercept)  0.20326    0.06428   3.162  0.00157 **\n",
       "Lag2         0.05810    0.02870   2.024  0.04298 * \n",
       "---\n",
       "Signif. codes:  0 '***' 0.001 '**' 0.01 '*' 0.05 '.' 0.1 ' ' 1\n",
       "\n",
       "(Dispersion parameter for binomial family taken to be 1)\n",
       "\n",
       "    Null deviance: 1354.7  on 984  degrees of freedom\n",
       "Residual deviance: 1350.5  on 983  degrees of freedom\n",
       "AIC: 1354.5\n",
       "\n",
       "Number of Fisher Scoring iterations: 4\n"
      ]
     },
     "metadata": {},
     "output_type": "display_data"
    },
    {
     "data": {
      "text/plain": [
       "        \n",
       "response Down Up\n",
       "    Down    9  5\n",
       "    Up     34 56"
      ]
     },
     "metadata": {},
     "output_type": "display_data"
    },
    {
     "data": {
      "text/html": [
       "0.625"
      ],
      "text/latex": [
       "0.625"
      ],
      "text/markdown": [
       "0.625"
      ],
      "text/plain": [
       "[1] 0.625"
      ]
     },
     "metadata": {},
     "output_type": "display_data"
    }
   ],
   "source": [
    "#Spliting data into train and test sets:\n",
    "train=Weekly[Year<2009,]\n",
    "test=Weekly[Year>=2009,]\n",
    "lorf=glm(Direction~Lag2,data=train,family = binomial)\n",
    "summary(lorf)\n",
    "response=rep('Down',nrow(test))\n",
    "response[predict(lorf,test,type='response')>0.5]='Up'\n",
    "table(response,test$Direction)\n",
    "mean(response==test$Direction)"
   ]
  },
  {
   "cell_type": "code",
   "execution_count": 216,
   "metadata": {},
   "outputs": [
    {
     "name": "stdout",
     "output_type": "stream",
     "text": [
      "[1] \"****LINEAR DISCRIMINANT ANALYSIS****\"\n"
     ]
    },
    {
     "data": {
      "text/plain": [
       "Call:\n",
       "lda(Direction ~ Lag2, data = train)\n",
       "\n",
       "Prior probabilities of groups:\n",
       "     Down        Up \n",
       "0.4477157 0.5522843 \n",
       "\n",
       "Group means:\n",
       "            Lag2\n",
       "Down -0.03568254\n",
       "Up    0.26036581\n",
       "\n",
       "Coefficients of linear discriminants:\n",
       "           LD1\n",
       "Lag2 0.4414162"
      ]
     },
     "metadata": {},
     "output_type": "display_data"
    },
    {
     "data": {
      "text/plain": [
       "      \n",
       "       Down Up\n",
       "  Down    9  5\n",
       "  Up     34 56"
      ]
     },
     "metadata": {},
     "output_type": "display_data"
    },
    {
     "name": "stdout",
     "output_type": "stream",
     "text": [
      "[1] \"****QUADRATIC DISCRIMINANT ANALYSIS****\"\n"
     ]
    },
    {
     "data": {
      "text/plain": [
       "Call:\n",
       "qda(Direction ~ Lag2, data = train)\n",
       "\n",
       "Prior probabilities of groups:\n",
       "     Down        Up \n",
       "0.4477157 0.5522843 \n",
       "\n",
       "Group means:\n",
       "            Lag2\n",
       "Down -0.03568254\n",
       "Up    0.26036581"
      ]
     },
     "metadata": {},
     "output_type": "display_data"
    },
    {
     "data": {
      "text/plain": [
       "      \n",
       "       Down Up\n",
       "  Down    0  0\n",
       "  Up     43 61"
      ]
     },
     "metadata": {},
     "output_type": "display_data"
    },
    {
     "name": "stdout",
     "output_type": "stream",
     "text": [
      "[1] \"****1-KNN****\"\n"
     ]
    },
    {
     "data": {
      "text/plain": [
       "      \n",
       "knnf   Down Up\n",
       "  Down   21 30\n",
       "  Up     22 31"
      ]
     },
     "metadata": {},
     "output_type": "display_data"
    },
    {
     "name": "stdout",
     "output_type": "stream",
     "text": [
      "[1] \"****5-KNN****\"\n"
     ]
    },
    {
     "data": {
      "text/plain": [
       "      \n",
       "knnf5  Down Up\n",
       "  Down   15 22\n",
       "  Up     28 39"
      ]
     },
     "metadata": {},
     "output_type": "display_data"
    },
    {
     "name": "stdout",
     "output_type": "stream",
     "text": [
      "[1] \"****10-KNN****\"\n"
     ]
    },
    {
     "data": {
      "text/plain": [
       "      \n",
       "knnf10 Down Up\n",
       "  Down   18 21\n",
       "  Up     25 40"
      ]
     },
     "metadata": {},
     "output_type": "display_data"
    },
    {
     "name": "stdout",
     "output_type": "stream",
     "text": [
      "[1] \"****SUMMARY****\"\n"
     ]
    },
    {
     "data": {
      "text/html": [
       "<table>\n",
       "<thead><tr><th scope=col>Model</th><th scope=col>Accuracy</th></tr></thead>\n",
       "<tbody>\n",
       "\t<tr><td>Logistic Regression</td><td>0.6250000          </td></tr>\n",
       "\t<tr><td>LDA                </td><td>0.6250000          </td></tr>\n",
       "\t<tr><td>QDA                </td><td>0.5865385          </td></tr>\n",
       "\t<tr><td>1-KNN              </td><td>0.5000000          </td></tr>\n",
       "\t<tr><td>5-KNN              </td><td>0.5192308          </td></tr>\n",
       "\t<tr><td>10-KNN             </td><td>0.5576923          </td></tr>\n",
       "</tbody>\n",
       "</table>\n"
      ],
      "text/latex": [
       "\\begin{tabular}{r|ll}\n",
       " Model & Accuracy\\\\\n",
       "\\hline\n",
       "\t Logistic Regression & 0.6250000          \\\\\n",
       "\t LDA                 & 0.6250000          \\\\\n",
       "\t QDA                 & 0.5865385          \\\\\n",
       "\t 1-KNN               & 0.5000000          \\\\\n",
       "\t 5-KNN               & 0.5192308          \\\\\n",
       "\t 10-KNN              & 0.5576923          \\\\\n",
       "\\end{tabular}\n"
      ],
      "text/markdown": [
       "\n",
       "Model | Accuracy | \n",
       "|---|---|---|---|---|---|\n",
       "| Logistic Regression | 0.6250000           | \n",
       "| LDA                 | 0.6250000           | \n",
       "| QDA                 | 0.5865385           | \n",
       "| 1-KNN               | 0.5000000           | \n",
       "| 5-KNN               | 0.5192308           | \n",
       "| 10-KNN              | 0.5576923           | \n",
       "\n",
       "\n"
      ],
      "text/plain": [
       "  Model               Accuracy \n",
       "1 Logistic Regression 0.6250000\n",
       "2 LDA                 0.6250000\n",
       "3 QDA                 0.5865385\n",
       "4 1-KNN               0.5000000\n",
       "5 5-KNN               0.5192308\n",
       "6 10-KNN              0.5576923"
      ]
     },
     "metadata": {},
     "output_type": "display_data"
    }
   ],
   "source": [
    "print('****LINEAR DISCRIMINANT ANALYSIS****')\n",
    "ldaf=lda(Direction~Lag2,data=train)\n",
    "ldaf\n",
    "table(predict(ldaf,test)$class,test$Direction)\n",
    "print('****QUADRATIC DISCRIMINANT ANALYSIS****')\n",
    "qdaf=qda(Direction~Lag2,data=train)\n",
    "qdaf\n",
    "table(predict(qdaf,test)$class,test$Direction)\n",
    "print('****1-KNN****')\n",
    "set.seed(1)\n",
    "trainX=as.matrix(train$Lag2)\n",
    "testX=as.matrix(test$Lag2)\n",
    "labelsDir=as.matrix(train$Direction)\n",
    "knnf=knn(trainX,testX,labelsDir,k=1)\n",
    "table(knnf,test$Direction)\n",
    "print('****5-KNN****')\n",
    "set.seed(2)\n",
    "knnf5=knn(trainX,testX,labelsDir,k=5)\n",
    "table(knnf5,test$Direction)\n",
    "print('****10-KNN****')\n",
    "set.seed(3)\n",
    "knnf10=knn(trainX,testX,labelsDir,k=10)\n",
    "table(knnf10,test$Direction)\n",
    "results=data.frame('Model'=c('Logistic Regression','LDA','QDA','1-KNN','5-KNN','10-KNN'),'Accuracy'=c(mean(response==test$Direction),mean(predict(ldaf,test)$class==test$Direction),mean(predict(qdaf,test)$class==test$Direction),mean(knnf==test$Direction),mean(knnf5==test$Direction),mean(knnf10==test$Direction)))\n",
    "print('****SUMMARY****')\n",
    "results"
   ]
  },
  {
   "cell_type": "markdown",
   "metadata": {},
   "source": [
    "Logistic regression and LDA have provided the best test error rates, compared to more flexible methods like qda and KNN. "
   ]
  },
  {
   "cell_type": "markdown",
   "metadata": {},
   "source": [
    "# 11-"
   ]
  },
  {
   "cell_type": "code",
   "execution_count": null,
   "metadata": {},
   "outputs": [],
   "source": []
  }
 ],
 "metadata": {
  "kernelspec": {
   "display_name": "R",
   "language": "R",
   "name": "ir"
  },
  "language_info": {
   "codemirror_mode": "r",
   "file_extension": ".r",
   "mimetype": "text/x-r-source",
   "name": "R",
   "pygments_lexer": "r",
   "version": "3.5.1"
  }
 },
 "nbformat": 4,
 "nbformat_minor": 2
}

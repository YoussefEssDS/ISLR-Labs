{
 "cells": [
  {
   "cell_type": "markdown",
   "metadata": {},
   "source": [
    "We will work through the LAB for linear regression chapter in ISLR."
   ]
  },
  {
   "cell_type": "markdown",
   "metadata": {},
   "source": [
    "Basic functions that perform least squares linear regression and other simple analyses come\n",
    "standard with the base distribution named MASS. So we use the library() function to run it."
   ]
  },
  {
   "cell_type": "code",
   "execution_count": 1,
   "metadata": {},
   "outputs": [],
   "source": [
    "lodalibraries=function(){\n",
    "    library('MASS')\n",
    "    library('ISLR')\n",
    "    print('Libraries Loaded')\n",
    "}"
   ]
  },
  {
   "cell_type": "code",
   "execution_count": 2,
   "metadata": {},
   "outputs": [
    {
     "name": "stderr",
     "output_type": "stream",
     "text": [
      "Warning message:\n",
      "\"package 'ISLR' was built under R version 3.5.2\""
     ]
    },
    {
     "name": "stdout",
     "output_type": "stream",
     "text": [
      "[1] \"Libraries Loaded\"\n"
     ]
    }
   ],
   "source": [
    "lodalibraries()"
   ]
  },
  {
   "cell_type": "markdown",
   "metadata": {},
   "source": [
    "# Simple linear regression:"
   ]
  },
  {
   "cell_type": "code",
   "execution_count": 59,
   "metadata": {},
   "outputs": [],
   "source": [
    "fix(Auto)"
   ]
  },
  {
   "cell_type": "code",
   "execution_count": 4,
   "metadata": {},
   "outputs": [
    {
     "data": {
      "text/plain": [
       "\n",
       "Call:\n",
       "lm(formula = mpg ~ horsepower, data = Auto)\n",
       "\n",
       "Residuals:\n",
       "     Min       1Q   Median       3Q      Max \n",
       "-13.5710  -3.2592  -0.3435   2.7630  16.9240 \n",
       "\n",
       "Coefficients:\n",
       "             Estimate Std. Error t value Pr(>|t|)    \n",
       "(Intercept) 39.935861   0.717499   55.66   <2e-16 ***\n",
       "horsepower  -0.157845   0.006446  -24.49   <2e-16 ***\n",
       "---\n",
       "Signif. codes:  0 '***' 0.001 '**' 0.01 '*' 0.05 '.' 0.1 ' ' 1\n",
       "\n",
       "Residual standard error: 4.906 on 390 degrees of freedom\n",
       "Multiple R-squared:  0.6059,\tAdjusted R-squared:  0.6049 \n",
       "F-statistic: 599.7 on 1 and 390 DF,  p-value: < 2.2e-16\n"
      ]
     },
     "metadata": {},
     "output_type": "display_data"
    }
   ],
   "source": [
    "attach(Auto)\n",
    "slrf=lm(mpg~horsepower,data=Auto)\n",
    "summary(slrf)"
   ]
  },
  {
   "cell_type": "markdown",
   "metadata": {},
   "source": [
    "Look at the cell below for results and how to get them:\n",
    "\n",
    "\n",
    "i- Since the p-value is small then there is a relation between the response and predictor.\n",
    "\n",
    "\n",
    "ii- We use the value of RSE/mean of the response to have an idea on the error and how much it's big for this partucular problem 20,92% and R squared which is the amount of variability in mpg explained by horsepower is: 60.59%.\n",
    "\n",
    "\n",
    "iii- As you can notice from the summary of the model, horsepower coefficient is negative then the relation between mpg and horsepower is negative, in the sense that the more we have horsepower the less we have mpg, which acctualy makes sense since high specs vehicules consume more gas.\n",
    "\n",
    "\n",
    "iv-Look at the cell below.\n"
   ]
  },
  {
   "cell_type": "code",
   "execution_count": 10,
   "metadata": {},
   "outputs": [
    {
     "name": "stdout",
     "output_type": "stream",
     "text": [
      "[1] \"The error rate is:\"\n"
     ]
    },
    {
     "data": {
      "text/html": [
       "20.9237140669148"
      ],
      "text/latex": [
       "20.9237140669148"
      ],
      "text/markdown": [
       "20.9237140669148"
      ],
      "text/plain": [
       "[1] 20.92371"
      ]
     },
     "metadata": {},
     "output_type": "display_data"
    },
    {
     "name": "stdout",
     "output_type": "stream",
     "text": [
      "[1] \"The percentage of contribution of horsepower in explaining mpg is:\"\n"
     ]
    },
    {
     "data": {
      "text/html": [
       "60.5948257889435"
      ],
      "text/latex": [
       "60.5948257889435"
      ],
      "text/markdown": [
       "60.5948257889435"
      ],
      "text/plain": [
       "[1] 60.59483"
      ]
     },
     "metadata": {},
     "output_type": "display_data"
    },
    {
     "name": "stdout",
     "output_type": "stream",
     "text": [
      "[1] \"Predicting mpg for horsepower of 98:\"\n"
     ]
    },
    {
     "data": {
      "text/html": [
       "<strong>1:</strong> 24.4670771525124"
      ],
      "text/latex": [
       "\\textbf{1:} 24.4670771525124"
      ],
      "text/markdown": [
       "**1:** 24.4670771525124"
      ],
      "text/plain": [
       "       1 \n",
       "24.46708 "
      ]
     },
     "metadata": {},
     "output_type": "display_data"
    },
    {
     "name": "stdout",
     "output_type": "stream",
     "text": [
      "[1] \"The interval of confidence associated to this prediction is:\"\n"
     ]
    },
    {
     "data": {
      "text/html": [
       "<table>\n",
       "<thead><tr><th></th><th scope=col>fit</th><th scope=col>lwr</th><th scope=col>upr</th></tr></thead>\n",
       "<tbody>\n",
       "\t<tr><th scope=row>1</th><td>24.46708</td><td>23.97308</td><td>24.96108</td></tr>\n",
       "</tbody>\n",
       "</table>\n"
      ],
      "text/latex": [
       "\\begin{tabular}{r|lll}\n",
       "  & fit & lwr & upr\\\\\n",
       "\\hline\n",
       "\t1 & 24.46708 & 23.97308 & 24.96108\\\\\n",
       "\\end{tabular}\n"
      ],
      "text/markdown": [
       "\n",
       "| <!--/--> | fit | lwr | upr | \n",
       "|---|\n",
       "| 1 | 24.46708 | 23.97308 | 24.96108 | \n",
       "\n",
       "\n"
      ],
      "text/plain": [
       "  fit      lwr      upr     \n",
       "1 24.46708 23.97308 24.96108"
      ]
     },
     "metadata": {},
     "output_type": "display_data"
    },
    {
     "name": "stdout",
     "output_type": "stream",
     "text": [
      "[1] \"The interval of prediction associated to this prediction is:\"\n"
     ]
    },
    {
     "data": {
      "text/html": [
       "<table>\n",
       "<thead><tr><th></th><th scope=col>fit</th><th scope=col>lwr</th><th scope=col>upr</th></tr></thead>\n",
       "<tbody>\n",
       "\t<tr><th scope=row>1</th><td>24.46708</td><td>14.8094 </td><td>34.12476</td></tr>\n",
       "</tbody>\n",
       "</table>\n"
      ],
      "text/latex": [
       "\\begin{tabular}{r|lll}\n",
       "  & fit & lwr & upr\\\\\n",
       "\\hline\n",
       "\t1 & 24.46708 & 14.8094  & 34.12476\\\\\n",
       "\\end{tabular}\n"
      ],
      "text/markdown": [
       "\n",
       "| <!--/--> | fit | lwr | upr | \n",
       "|---|\n",
       "| 1 | 24.46708 | 14.8094  | 34.12476 | \n",
       "\n",
       "\n"
      ],
      "text/plain": [
       "  fit      lwr     upr     \n",
       "1 24.46708 14.8094 34.12476"
      ]
     },
     "metadata": {},
     "output_type": "display_data"
    }
   ],
   "source": [
    "print('The error rate is:')\n",
    "100*summary(slrf)$sigma/mean(mpg)\n",
    "print('The percentage of contribution of horsepower in explaining mpg is:')\n",
    "100*summary(slrf)$r.squared\n",
    "print('Predicting mpg for horsepower of 98:')\n",
    "predict(slrf,data.frame(horsepower=98))\n",
    "print('The interval of confidence associated to this prediction is:')\n",
    "predict(slrf,data.frame(horsepower=98),interval = 'confidence')\n",
    "print('The interval of prediction associated to this prediction is:')\n",
    "predict(slrf,data.frame(horsepower=98),interval = 'prediction')"
   ]
  },
  {
   "cell_type": "code",
   "execution_count": 13,
   "metadata": {},
   "outputs": [
    {
     "data": {
      "image/png": "[encoded data removed]",
      "text/plain": [
       "plot without title"
      ]
     },
     "metadata": {},
     "output_type": "display_data"
    }
   ],
   "source": [
    "plot(horsepower,mpg,col='darkgoldenrod1',pch=20)\n",
    "abline(slrf,col='cornflowerblue',lwd=3)"
   ]
  },
  {
   "cell_type": "code",
   "execution_count": 15,
   "metadata": {},
   "outputs": [
    {
     "data": {
      "image/png": "[encoded data removed]",
      "text/plain": [
       "Plot with title \"\""
      ]
     },
     "metadata": {},
     "output_type": "display_data"
    }
   ],
   "source": [
    "par(mfrow=c(2,2))\n",
    "plot(slrf)"
   ]
  },
  {
   "cell_type": "markdown",
   "metadata": {},
   "source": [
    "From the first graphic Residuals Vs Fitted we notice signs of non linear relationship between predictor and response.\n",
    "\n",
    "From the Q-Q plot we the standarized residuals do not have a perfect normal distribution.\n",
    "\n",
    "We can also report having a number of data points with high leverage. But in the other hand we don't have much outliers. To make sure I'll draw two plots in the folowing cell to illustrate this more clearly. "
   ]
  },
  {
   "cell_type": "code",
   "execution_count": 30,
   "metadata": {},
   "outputs": [
    {
     "data": {
      "image/png": "[encoded data removed]",
      "text/plain": [
       "plot without title"
      ]
     },
     "metadata": {},
     "output_type": "display_data"
    }
   ],
   "source": [
    "plot(hatvalues(slrf),rstudent(slrf),col='darkgoldenrod1',pch=20)\n",
    "abline(3,0,col='cornflowerblue',lwd=3)\n",
    "abline(-3,0,col='cornflowerblue',lwd=3)\n",
    "abline(v=4*2/nrow(Auto),col='cornflowerblue',lwd=3)\n",
    "\n",
    "#The data points outside the (-3,3) are likely to be outliers, we only have 2 of them!\n",
    "#Are considered high leverage observation the ones for which the hatvalue calculated by the leverage statistic is greatly \n",
    "#higher than the average which of the leverage statistic which is (p+1)/n for p predictors. In our case 2/n. I will consider\n",
    "#greatly high than average as more than 4 times higher."
   ]
  },
  {
   "cell_type": "markdown",
   "metadata": {},
   "source": [
    "# Multiple linear regression:"
   ]
  },
  {
   "cell_type": "code",
   "execution_count": 31,
   "metadata": {},
   "outputs": [
    {
     "data": {
      "image/png": "[encoded data removed]",
      "text/plain": [
       "plot without title"
      ]
     },
     "metadata": {},
     "output_type": "display_data"
    }
   ],
   "source": [
    "#Scaterplots\n",
    "pairs(Auto)"
   ]
  },
  {
   "cell_type": "code",
   "execution_count": 39,
   "metadata": {},
   "outputs": [
    {
     "data": {
      "text/html": [
       "<table>\n",
       "<thead><tr><th></th><th scope=col>mpg</th><th scope=col>cylinders</th><th scope=col>displacement</th><th scope=col>horsepower</th><th scope=col>weight</th><th scope=col>acceleration</th><th scope=col>year</th><th scope=col>origin</th></tr></thead>\n",
       "<tbody>\n",
       "\t<tr><th scope=row>mpg</th><td> 1.0000000</td><td>-0.7776175</td><td>-0.8051269</td><td>-0.7784268</td><td>-0.8322442</td><td> 0.4233285</td><td> 0.5805410</td><td> 0.5652088</td></tr>\n",
       "\t<tr><th scope=row>cylinders</th><td>-0.7776175</td><td> 1.0000000</td><td> 0.9508233</td><td> 0.8429834</td><td> 0.8975273</td><td>-0.5046834</td><td>-0.3456474</td><td>-0.5689316</td></tr>\n",
       "\t<tr><th scope=row>displacement</th><td>-0.8051269</td><td> 0.9508233</td><td> 1.0000000</td><td> 0.8972570</td><td> 0.9329944</td><td>-0.5438005</td><td>-0.3698552</td><td>-0.6145351</td></tr>\n",
       "\t<tr><th scope=row>horsepower</th><td>-0.7784268</td><td> 0.8429834</td><td> 0.8972570</td><td> 1.0000000</td><td> 0.8645377</td><td>-0.6891955</td><td>-0.4163615</td><td>-0.4551715</td></tr>\n",
       "\t<tr><th scope=row>weight</th><td>-0.8322442</td><td> 0.8975273</td><td> 0.9329944</td><td> 0.8645377</td><td> 1.0000000</td><td>-0.4168392</td><td>-0.3091199</td><td>-0.5850054</td></tr>\n",
       "\t<tr><th scope=row>acceleration</th><td> 0.4233285</td><td>-0.5046834</td><td>-0.5438005</td><td>-0.6891955</td><td>-0.4168392</td><td> 1.0000000</td><td> 0.2903161</td><td> 0.2127458</td></tr>\n",
       "\t<tr><th scope=row>year</th><td> 0.5805410</td><td>-0.3456474</td><td>-0.3698552</td><td>-0.4163615</td><td>-0.3091199</td><td> 0.2903161</td><td> 1.0000000</td><td> 0.1815277</td></tr>\n",
       "\t<tr><th scope=row>origin</th><td> 0.5652088</td><td>-0.5689316</td><td>-0.6145351</td><td>-0.4551715</td><td>-0.5850054</td><td> 0.2127458</td><td> 0.1815277</td><td> 1.0000000</td></tr>\n",
       "</tbody>\n",
       "</table>\n"
      ],
      "text/latex": [
       "\\begin{tabular}{r|llllllll}\n",
       "  & mpg & cylinders & displacement & horsepower & weight & acceleration & year & origin\\\\\n",
       "\\hline\n",
       "\tmpg &  1.0000000 & -0.7776175 & -0.8051269 & -0.7784268 & -0.8322442 &  0.4233285 &  0.5805410 &  0.5652088\\\\\n",
       "\tcylinders & -0.7776175 &  1.0000000 &  0.9508233 &  0.8429834 &  0.8975273 & -0.5046834 & -0.3456474 & -0.5689316\\\\\n",
       "\tdisplacement & -0.8051269 &  0.9508233 &  1.0000000 &  0.8972570 &  0.9329944 & -0.5438005 & -0.3698552 & -0.6145351\\\\\n",
       "\thorsepower & -0.7784268 &  0.8429834 &  0.8972570 &  1.0000000 &  0.8645377 & -0.6891955 & -0.4163615 & -0.4551715\\\\\n",
       "\tweight & -0.8322442 &  0.8975273 &  0.9329944 &  0.8645377 &  1.0000000 & -0.4168392 & -0.3091199 & -0.5850054\\\\\n",
       "\tacceleration &  0.4233285 & -0.5046834 & -0.5438005 & -0.6891955 & -0.4168392 &  1.0000000 &  0.2903161 &  0.2127458\\\\\n",
       "\tyear &  0.5805410 & -0.3456474 & -0.3698552 & -0.4163615 & -0.3091199 &  0.2903161 &  1.0000000 &  0.1815277\\\\\n",
       "\torigin &  0.5652088 & -0.5689316 & -0.6145351 & -0.4551715 & -0.5850054 &  0.2127458 &  0.1815277 &  1.0000000\\\\\n",
       "\\end{tabular}\n"
      ],
      "text/markdown": [
       "\n",
       "| <!--/--> | mpg | cylinders | displacement | horsepower | weight | acceleration | year | origin | \n",
       "|---|---|---|---|---|---|---|---|\n",
       "| mpg |  1.0000000 | -0.7776175 | -0.8051269 | -0.7784268 | -0.8322442 |  0.4233285 |  0.5805410 |  0.5652088 | \n",
       "| cylinders | -0.7776175 |  1.0000000 |  0.9508233 |  0.8429834 |  0.8975273 | -0.5046834 | -0.3456474 | -0.5689316 | \n",
       "| displacement | -0.8051269 |  0.9508233 |  1.0000000 |  0.8972570 |  0.9329944 | -0.5438005 | -0.3698552 | -0.6145351 | \n",
       "| horsepower | -0.7784268 |  0.8429834 |  0.8972570 |  1.0000000 |  0.8645377 | -0.6891955 | -0.4163615 | -0.4551715 | \n",
       "| weight | -0.8322442 |  0.8975273 |  0.9329944 |  0.8645377 |  1.0000000 | -0.4168392 | -0.3091199 | -0.5850054 | \n",
       "| acceleration |  0.4233285 | -0.5046834 | -0.5438005 | -0.6891955 | -0.4168392 |  1.0000000 |  0.2903161 |  0.2127458 | \n",
       "| year |  0.5805410 | -0.3456474 | -0.3698552 | -0.4163615 | -0.3091199 |  0.2903161 |  1.0000000 |  0.1815277 | \n",
       "| origin |  0.5652088 | -0.5689316 | -0.6145351 | -0.4551715 | -0.5850054 |  0.2127458 |  0.1815277 |  1.0000000 | \n",
       "\n",
       "\n"
      ],
      "text/plain": [
       "             mpg        cylinders  displacement horsepower weight    \n",
       "mpg           1.0000000 -0.7776175 -0.8051269   -0.7784268 -0.8322442\n",
       "cylinders    -0.7776175  1.0000000  0.9508233    0.8429834  0.8975273\n",
       "displacement -0.8051269  0.9508233  1.0000000    0.8972570  0.9329944\n",
       "horsepower   -0.7784268  0.8429834  0.8972570    1.0000000  0.8645377\n",
       "weight       -0.8322442  0.8975273  0.9329944    0.8645377  1.0000000\n",
       "acceleration  0.4233285 -0.5046834 -0.5438005   -0.6891955 -0.4168392\n",
       "year          0.5805410 -0.3456474 -0.3698552   -0.4163615 -0.3091199\n",
       "origin        0.5652088 -0.5689316 -0.6145351   -0.4551715 -0.5850054\n",
       "             acceleration year       origin    \n",
       "mpg           0.4233285    0.5805410  0.5652088\n",
       "cylinders    -0.5046834   -0.3456474 -0.5689316\n",
       "displacement -0.5438005   -0.3698552 -0.6145351\n",
       "horsepower   -0.6891955   -0.4163615 -0.4551715\n",
       "weight       -0.4168392   -0.3091199 -0.5850054\n",
       "acceleration  1.0000000    0.2903161  0.2127458\n",
       "year          0.2903161    1.0000000  0.1815277\n",
       "origin        0.2127458    0.1815277  1.0000000"
      ]
     },
     "metadata": {},
     "output_type": "display_data"
    }
   ],
   "source": [
    "cor(subset(Auto,select=-name))"
   ]
  },
  {
   "cell_type": "code",
   "execution_count": 43,
   "metadata": {},
   "outputs": [
    {
     "data": {
      "text/plain": [
       "\n",
       "Call:\n",
       "lm(formula = mpg ~ ., data = auto)\n",
       "\n",
       "Residuals:\n",
       "    Min      1Q  Median      3Q     Max \n",
       "-9.5903 -2.1565 -0.1169  1.8690 13.0604 \n",
       "\n",
       "Coefficients:\n",
       "               Estimate Std. Error t value Pr(>|t|)    \n",
       "(Intercept)  -17.218435   4.644294  -3.707  0.00024 ***\n",
       "cylinders     -0.493376   0.323282  -1.526  0.12780    \n",
       "displacement   0.019896   0.007515   2.647  0.00844 ** \n",
       "horsepower    -0.016951   0.013787  -1.230  0.21963    \n",
       "weight        -0.006474   0.000652  -9.929  < 2e-16 ***\n",
       "acceleration   0.080576   0.098845   0.815  0.41548    \n",
       "year           0.750773   0.050973  14.729  < 2e-16 ***\n",
       "origin         1.426141   0.278136   5.127 4.67e-07 ***\n",
       "---\n",
       "Signif. codes:  0 '***' 0.001 '**' 0.01 '*' 0.05 '.' 0.1 ' ' 1\n",
       "\n",
       "Residual standard error: 3.328 on 384 degrees of freedom\n",
       "Multiple R-squared:  0.8215,\tAdjusted R-squared:  0.8182 \n",
       "F-statistic: 252.4 on 7 and 384 DF,  p-value: < 2.2e-16\n"
      ]
     },
     "metadata": {},
     "output_type": "display_data"
    }
   ],
   "source": [
    "auto=subset(Auto,select=-name)\n",
    "mlrf=lm(mpg~.,data=auto)\n",
    "summary(mlrf)"
   ]
  },
  {
   "cell_type": "markdown",
   "metadata": {},
   "source": [
    "i- We have predictors that yielded small p-value inicating a significant relationship with the reponse, and others predictors for which we fail to reject the null hypothesis and thus are insignificant for predicting the response mpg.\n",
    "\n",
    "\n",
    "ii-displacement,weight,year and origin seem to statisticaly have a significant relationship to mpg.\n",
    "\n",
    "\n",
    "iii- The coefficient of year since positive and significant indicates that mpg increase by the year, which means through the years the industry is making vehicules that have more mpg ration. Which is a logical result.\n"
   ]
  },
  {
   "cell_type": "code",
   "execution_count": 45,
   "metadata": {},
   "outputs": [
    {
     "data": {
      "image/png": "[encoded data removed]",
      "text/plain": [
       "Plot with title \"\""
      ]
     },
     "metadata": {},
     "output_type": "display_data"
    }
   ],
   "source": [
    "par(mfrow=c(2,2))\n",
    "plot(mlrf)"
   ]
  },
  {
   "cell_type": "markdown",
   "metadata": {},
   "source": [
    "The plots indicate a non-linear relationship since the residuals seems to have a certain pattern.\n",
    "\n",
    "\n",
    "Also Q-Q plots indicate that the residuals follow a normal distribution except for some points which are suspect of being outliers. \n",
    "\n",
    "\n",
    "For high leverage points it seems to be that we don't have data points with unusual x values.\n",
    "\n",
    "I will draw my own plot now to confirm results!\n"
   ]
  },
  {
   "cell_type": "code",
   "execution_count": 47,
   "metadata": {},
   "outputs": [
    {
     "data": {
      "image/png": "[encoded data removed]",
      "text/plain": [
       "plot without title"
      ]
     },
     "metadata": {},
     "output_type": "display_data"
    }
   ],
   "source": [
    "plot(hatvalues(mlrf),rstudent(mlrf),col='darkgoldenrod1',pch=20)\n",
    "abline(3,0,col='cornflowerblue',lwd=3)\n",
    "abline(-3,0,col='cornflowerblue',lwd=3)\n",
    "abline(v=4*8/nrow(Auto),col='cornflowerblue',lwd=3)\n",
    "\n",
    "# As you can see we have 4-6 outliers and 2 high leverage data points, and luckly no combinaison of the two of them! "
   ]
  },
  {
   "cell_type": "markdown",
   "metadata": {},
   "source": [
    "The correlation matrix suggest strong relationships between predictors so we have a situation of collinearity that acctualy what explains that now horsepower is insignificant while it was significant for SLR model. The thing is that with collinearity we cannot distinguish the individual contributions of the predictors and fail to reject the null hypothesis for some predictors. Although since correlated these predictors have the same information about the response so we only remove these predictors representing redundant information."
   ]
  },
  {
   "cell_type": "code",
   "execution_count": 50,
   "metadata": {},
   "outputs": [
    {
     "data": {
      "text/plain": [
       "\n",
       "Call:\n",
       "lm(formula = mpg ~ displacement + weight + origin + year, data = Auto)\n",
       "\n",
       "Residuals:\n",
       "    Min      1Q  Median      3Q     Max \n",
       "-9.8102 -2.1129 -0.0388  1.7725 13.2085 \n",
       "\n",
       "Coefficients:\n",
       "               Estimate Std. Error t value Pr(>|t|)    \n",
       "(Intercept)  -1.861e+01  4.028e+00  -4.620 5.25e-06 ***\n",
       "displacement  5.588e-03  4.768e-03   1.172    0.242    \n",
       "weight       -6.575e-03  5.571e-04 -11.802  < 2e-16 ***\n",
       "origin        1.226e+00  2.670e-01   4.593 5.92e-06 ***\n",
       "year          7.714e-01  4.981e-02  15.486  < 2e-16 ***\n",
       "---\n",
       "Signif. codes:  0 '***' 0.001 '**' 0.01 '*' 0.05 '.' 0.1 ' ' 1\n",
       "\n",
       "Residual standard error: 3.346 on 387 degrees of freedom\n",
       "Multiple R-squared:  0.8181,\tAdjusted R-squared:  0.8162 \n",
       "F-statistic: 435.1 on 4 and 387 DF,  p-value: < 2.2e-16\n"
      ]
     },
     "metadata": {},
     "output_type": "display_data"
    }
   ],
   "source": [
    "mlrf1=lm(mpg~displacement+weight+origin+year,data=Auto)\n",
    "summary(mlrf1)"
   ]
  },
  {
   "cell_type": "code",
   "execution_count": 66,
   "metadata": {},
   "outputs": [
    {
     "data": {
      "text/plain": [
       "\n",
       "Call:\n",
       "lm(formula = mpg ~ weight + origin + year, data = Auto)\n",
       "\n",
       "Residuals:\n",
       "    Min      1Q  Median      3Q     Max \n",
       "-9.9440 -2.0948 -0.0389  1.7255 13.2722 \n",
       "\n",
       "Coefficients:\n",
       "              Estimate Std. Error t value Pr(>|t|)    \n",
       "(Intercept) -1.805e+01  4.001e+00  -4.510 8.60e-06 ***\n",
       "weight      -5.994e-03  2.541e-04 -23.588  < 2e-16 ***\n",
       "origin       1.150e+00  2.591e-01   4.439 1.18e-05 ***\n",
       "year         7.571e-01  4.832e-02  15.668  < 2e-16 ***\n",
       "---\n",
       "Signif. codes:  0 '***' 0.001 '**' 0.01 '*' 0.05 '.' 0.1 ' ' 1\n",
       "\n",
       "Residual standard error: 3.348 on 388 degrees of freedom\n",
       "Multiple R-squared:  0.8175,\tAdjusted R-squared:  0.816 \n",
       "F-statistic: 579.2 on 3 and 388 DF,  p-value: < 2.2e-16\n"
      ]
     },
     "metadata": {},
     "output_type": "display_data"
    },
    {
     "data": {
      "text/plain": [
       "\n",
       "Call:\n",
       "lm(formula = mpg ~ weight * origin + weight * year + origin * \n",
       "    year, data = Auto)\n",
       "\n",
       "Residuals:\n",
       "    Min      1Q  Median      3Q     Max \n",
       "-9.3861 -1.7991 -0.2057  1.4539 12.0334 \n",
       "\n",
       "Coefficients:\n",
       "                Estimate Std. Error t value Pr(>|t|)    \n",
       "(Intercept)   -1.046e+02  2.068e+01  -5.055 6.65e-07 ***\n",
       "weight         2.445e-02  5.221e-03   4.683 3.92e-06 ***\n",
       "origin         4.737e+00  5.116e+00   0.926  0.35506    \n",
       "year           1.864e+00  2.747e-01   6.784 4.43e-11 ***\n",
       "weight:origin -1.483e-03  4.755e-04  -3.119  0.00195 ** \n",
       "weight:year   -3.862e-04  7.103e-05  -5.437 9.65e-08 ***\n",
       "origin:year   -4.213e-03  6.566e-02  -0.064  0.94887    \n",
       "---\n",
       "Signif. codes:  0 '***' 0.001 '**' 0.01 '*' 0.05 '.' 0.1 ' ' 1\n",
       "\n",
       "Residual standard error: 3.11 on 385 degrees of freedom\n",
       "Multiple R-squared:  0.8437,\tAdjusted R-squared:  0.8413 \n",
       "F-statistic: 346.3 on 6 and 385 DF,  p-value: < 2.2e-16\n"
      ]
     },
     "metadata": {},
     "output_type": "display_data"
    },
    {
     "data": {
      "text/plain": [
       "\n",
       "Call:\n",
       "lm(formula = mpg ~ I(log(weight)) + I(log(origin)) + I(log(year)), \n",
       "    data = Auto)\n",
       "\n",
       "Residuals:\n",
       "    Min      1Q  Median      3Q     Max \n",
       "-9.9298 -2.0228 -0.0206  1.6119 13.1496 \n",
       "\n",
       "Coefficients:\n",
       "               Estimate Std. Error t value Pr(>|t|)    \n",
       "(Intercept)    -80.2021    17.1444  -4.678 4.01e-06 ***\n",
       "I(log(weight)) -19.0831     0.7406 -25.765  < 2e-16 ***\n",
       "I(log(origin))   1.4299     0.4417   3.237  0.00131 ** \n",
       "I(log(year))    58.9116     3.4076  17.288  < 2e-16 ***\n",
       "---\n",
       "Signif. codes:  0 '***' 0.001 '**' 0.01 '*' 0.05 '.' 0.1 ' ' 1\n",
       "\n",
       "Residual standard error: 3.135 on 388 degrees of freedom\n",
       "Multiple R-squared:  0.8399,\tAdjusted R-squared:  0.8387 \n",
       "F-statistic: 678.4 on 3 and 388 DF,  p-value: < 2.2e-16\n"
      ]
     },
     "metadata": {},
     "output_type": "display_data"
    },
    {
     "data": {
      "text/plain": [
       "\n",
       "Call:\n",
       "lm(formula = mpg ~ poly(weight, 2) + poly(origin, 2) + poly(year, \n",
       "    2), data = Auto)\n",
       "\n",
       "Residuals:\n",
       "   Min     1Q Median     3Q    Max \n",
       "-9.077 -1.628  0.045  1.457 12.996 \n",
       "\n",
       "Coefficients:\n",
       "                  Estimate Std. Error t value Pr(>|t|)    \n",
       "(Intercept)        23.4459     0.1463 160.229  < 2e-16 ***\n",
       "poly(weight, 2)1 -100.6436     3.8471 -26.161  < 2e-16 ***\n",
       "poly(weight, 2)2   29.3866     3.0594   9.605  < 2e-16 ***\n",
       "poly(origin, 2)1    9.9958     3.7489   2.666  0.00799 ** \n",
       "poly(origin, 2)2   -8.3782     3.0007  -2.792  0.00550 ** \n",
       "poly(year, 2)1     61.7015     3.1205  19.773  < 2e-16 ***\n",
       "poly(year, 2)2     16.1691     2.9340   5.511 6.55e-08 ***\n",
       "---\n",
       "Signif. codes:  0 '***' 0.001 '**' 0.01 '*' 0.05 '.' 0.1 ' ' 1\n",
       "\n",
       "Residual standard error: 2.897 on 385 degrees of freedom\n",
       "Multiple R-squared:  0.8643,\tAdjusted R-squared:  0.8622 \n",
       "F-statistic: 408.8 on 6 and 385 DF,  p-value: < 2.2e-16\n"
      ]
     },
     "metadata": {},
     "output_type": "display_data"
    }
   ],
   "source": [
    "#Now displacement is insignificant!\n",
    "mlrf2=lm(mpg~weight+origin+year,data=Auto)\n",
    "summary(mlrf2)\n",
    "#Now let's include include interractions terms, to cover any synergies within predictors.\n",
    "mlrf3=lm(mpg~weight*origin+weight*year+origin*year,data=Auto)\n",
    "summary(mlrf3)\n",
    "#Now let's include modifications on the predictors to cover the non-linearity of the relationship\n",
    "mlrf4=lm(mpg~I(log(weight))+I(log(origin))+I(log(year)),data=Auto)\n",
    "summary(mlrf4)\n",
    "mlrf5=lm(mpg~poly(weight,2)+poly(origin,2)+poly(year,2),data=Auto)\n",
    "summary(mlrf5)"
   ]
  },
  {
   "cell_type": "markdown",
   "metadata": {},
   "source": [
    "As we move towards a non-linear predictors we get better R-squared and less error rate, although we must keep in mind this is only the training error and judging the quality of the model from it is certainly biased."
   ]
  },
  {
   "cell_type": "code",
   "execution_count": 96,
   "metadata": {},
   "outputs": [
    {
     "data": {
      "text/html": [
       "<ol class=list-inline>\n",
       "\t<li>'call'</li>\n",
       "\t<li>'terms'</li>\n",
       "\t<li>'residuals'</li>\n",
       "\t<li>'coefficients'</li>\n",
       "\t<li>'aliased'</li>\n",
       "\t<li>'sigma'</li>\n",
       "\t<li>'df'</li>\n",
       "\t<li>'r.squared'</li>\n",
       "\t<li>'adj.r.squared'</li>\n",
       "\t<li>'fstatistic'</li>\n",
       "\t<li>'cov.unscaled'</li>\n",
       "</ol>\n"
      ],
      "text/latex": [
       "\\begin{enumerate*}\n",
       "\\item 'call'\n",
       "\\item 'terms'\n",
       "\\item 'residuals'\n",
       "\\item 'coefficients'\n",
       "\\item 'aliased'\n",
       "\\item 'sigma'\n",
       "\\item 'df'\n",
       "\\item 'r.squared'\n",
       "\\item 'adj.r.squared'\n",
       "\\item 'fstatistic'\n",
       "\\item 'cov.unscaled'\n",
       "\\end{enumerate*}\n"
      ],
      "text/markdown": [
       "1. 'call'\n",
       "2. 'terms'\n",
       "3. 'residuals'\n",
       "4. 'coefficients'\n",
       "5. 'aliased'\n",
       "6. 'sigma'\n",
       "7. 'df'\n",
       "8. 'r.squared'\n",
       "9. 'adj.r.squared'\n",
       "10. 'fstatistic'\n",
       "11. 'cov.unscaled'\n",
       "\n",
       "\n"
      ],
      "text/plain": [
       " [1] \"call\"          \"terms\"         \"residuals\"     \"coefficients\" \n",
       " [5] \"aliased\"       \"sigma\"         \"df\"            \"r.squared\"    \n",
       " [9] \"adj.r.squared\" \"fstatistic\"    \"cov.unscaled\" "
      ]
     },
     "metadata": {},
     "output_type": "display_data"
    }
   ],
   "source": [
    "names(summary(mlrf))"
   ]
  },
  {
   "cell_type": "code",
   "execution_count": 120,
   "metadata": {},
   "outputs": [
    {
     "data": {
      "text/html": [
       "<table>\n",
       "<thead><tr><th scope=col>Model</th><th scope=col>Predictors</th><th scope=col>R.squared</th><th scope=col>RSE</th><th scope=col>Error</th></tr></thead>\n",
       "<tbody>\n",
       "\t<tr><td>1                                                                </td><td>lm, mpg ~ displacement + weight + origin + year, Auto            </td><td>0.8180977                                                        </td><td>3.345995                                                         </td><td>14.27112                                                         </td></tr>\n",
       "\t<tr><td>2                                                                </td><td>lm, mpg ~ weight + origin + year, Auto                           </td><td>0.8174522                                                        </td><td>3.347605                                                         </td><td>14.27798                                                         </td></tr>\n",
       "\t<tr><td>3                                                                </td><td>lm, mpg ~ weight * origin + weight * year + origin * year, Auto  </td><td>0.8436896                                                        </td><td>3.109748                                                         </td><td>13.26350                                                         </td></tr>\n",
       "\t<tr><td>4                                                                </td><td>lm, mpg ~ I(log(weight)) + I(log(origin)) + I(log(year)), Auto   </td><td>0.8398884                                                        </td><td>3.135142                                                         </td><td>13.37181                                                         </td></tr>\n",
       "\t<tr><td>5                                                                </td><td>lm, mpg ~ poly(weight, 2) + poly(origin, 2) + poly(year, 2), Auto</td><td>0.8643326                                                        </td><td>2.897138                                                         </td><td>12.35668                                                         </td></tr>\n",
       "</tbody>\n",
       "</table>\n"
      ],
      "text/latex": [
       "\\begin{tabular}{r|lllll}\n",
       " Model & Predictors & R.squared & RSE & Error\\\\\n",
       "\\hline\n",
       "\t 1                                                                                  & lm, mpg \\textasciitilde{} displacement + weight + origin + year, Auto             & 0.8180977                                                                          & 3.345995                                                                           & 14.27112                                                                          \\\\\n",
       "\t 2                                                                                  & lm, mpg \\textasciitilde{} weight + origin + year, Auto                            & 0.8174522                                                                          & 3.347605                                                                           & 14.27798                                                                          \\\\\n",
       "\t 3                                                                                  & lm, mpg \\textasciitilde{} weight * origin + weight * year + origin * year, Auto   & 0.8436896                                                                          & 3.109748                                                                           & 13.26350                                                                          \\\\\n",
       "\t 4                                                                                  & lm, mpg \\textasciitilde{} I(log(weight)) + I(log(origin)) + I(log(year)), Auto    & 0.8398884                                                                          & 3.135142                                                                           & 13.37181                                                                          \\\\\n",
       "\t 5                                                                                  & lm, mpg \\textasciitilde{} poly(weight, 2) + poly(origin, 2) + poly(year, 2), Auto & 0.8643326                                                                          & 2.897138                                                                           & 12.35668                                                                          \\\\\n",
       "\\end{tabular}\n"
      ],
      "text/markdown": [
       "\n",
       "Model | Predictors | R.squared | RSE | Error | \n",
       "|---|---|---|---|---|\n",
       "| 1                                                                 | lm, mpg ~ displacement + weight + origin + year, Auto             | 0.8180977                                                         | 3.345995                                                          | 14.27112                                                          | \n",
       "| 2                                                                 | lm, mpg ~ weight + origin + year, Auto                            | 0.8174522                                                         | 3.347605                                                          | 14.27798                                                          | \n",
       "| 3                                                                 | lm, mpg ~ weight * origin + weight * year + origin * year, Auto   | 0.8436896                                                         | 3.109748                                                          | 13.26350                                                          | \n",
       "| 4                                                                 | lm, mpg ~ I(log(weight)) + I(log(origin)) + I(log(year)), Auto    | 0.8398884                                                         | 3.135142                                                          | 13.37181                                                          | \n",
       "| 5                                                                 | lm, mpg ~ poly(weight, 2) + poly(origin, 2) + poly(year, 2), Auto | 0.8643326                                                         | 2.897138                                                          | 12.35668                                                          | \n",
       "\n",
       "\n"
      ],
      "text/plain": [
       "  Model Predictors                                                       \n",
       "1 1     lm, mpg ~ displacement + weight + origin + year, Auto            \n",
       "2 2     lm, mpg ~ weight + origin + year, Auto                           \n",
       "3 3     lm, mpg ~ weight * origin + weight * year + origin * year, Auto  \n",
       "4 4     lm, mpg ~ I(log(weight)) + I(log(origin)) + I(log(year)), Auto   \n",
       "5 5     lm, mpg ~ poly(weight, 2) + poly(origin, 2) + poly(year, 2), Auto\n",
       "  R.squared RSE      Error   \n",
       "1 0.8180977 3.345995 14.27112\n",
       "2 0.8174522 3.347605 14.27798\n",
       "3 0.8436896 3.109748 13.26350\n",
       "4 0.8398884 3.135142 13.37181\n",
       "5 0.8643326 2.897138 12.35668"
      ]
     },
     "metadata": {},
     "output_type": "display_data"
    }
   ],
   "source": [
    "models=list(mlrf1,mlrf2,mlrf3,mlrf4,mlrf5)\n",
    "pred=list()\n",
    "r=list()\n",
    "rse=list()\n",
    "error=list()\n",
    "for (model in models) {\n",
    "    pred=append(pred,toString(summary(model)$call))\n",
    "    r=append(r,summary(model)$r.squared)\n",
    "    rse=append(rse,summary(model)$sigma) \n",
    "    #error=append(error,)\n",
    "}\n",
    "pred=unlist(pred)\n",
    "r=unlist(r)\n",
    "rse=unlist(rse)\n",
    "results=data.frame(\"Model\"=1:5,\"Predictors\"=pred,\"R-squared\"=r,\"RSE\"=rse,'Error'=100*rse/mean(mpg))\n",
    "results"
   ]
  },
  {
   "cell_type": "markdown",
   "metadata": {},
   "source": [
    "# 11-"
   ]
  },
  {
   "cell_type": "code",
   "execution_count": 144,
   "metadata": {},
   "outputs": [],
   "source": [
    "set.seed(1)\n",
    "x=rnorm(100)\n",
    "y=2*x+rnorm(100)"
   ]
  },
  {
   "cell_type": "code",
   "execution_count": 146,
   "metadata": {},
   "outputs": [
    {
     "data": {
      "text/plain": [
       "\n",
       "Call:\n",
       "lm(formula = y ~ x + 0)\n",
       "\n",
       "Residuals:\n",
       "    Min      1Q  Median      3Q     Max \n",
       "-1.9154 -0.6472 -0.1771  0.5056  2.3109 \n",
       "\n",
       "Coefficients:\n",
       "  Estimate Std. Error t value Pr(>|t|)    \n",
       "x   1.9939     0.1065   18.73   <2e-16 ***\n",
       "---\n",
       "Signif. codes:  0 '***' 0.001 '**' 0.01 '*' 0.05 '.' 0.1 ' ' 1\n",
       "\n",
       "Residual standard error: 0.9586 on 99 degrees of freedom\n",
       "Multiple R-squared:  0.7798,\tAdjusted R-squared:  0.7776 \n",
       "F-statistic: 350.7 on 1 and 99 DF,  p-value: < 2.2e-16\n"
      ]
     },
     "metadata": {},
     "output_type": "display_data"
    }
   ],
   "source": [
    "slrwi1=lm(y~x+0)\n",
    "summary(slrwi1)"
   ]
  },
  {
   "cell_type": "markdown",
   "metadata": {},
   "source": [
    "We have an estimate for beta equal to 1,9939 really close to the actual value 2. The p-value corresponding to null hypothesis is almost so the relationship as we know exists and we reject the null hypothesis. R squared is 0,7798 is a little lower than you would expect but it's high enough the RSE is small and equal to 0,9586."
   ]
  },
  {
   "cell_type": "code",
   "execution_count": 147,
   "metadata": {},
   "outputs": [
    {
     "data": {
      "text/plain": [
       "\n",
       "Call:\n",
       "lm(formula = x ~ y + 0)\n",
       "\n",
       "Residuals:\n",
       "    Min      1Q  Median      3Q     Max \n",
       "-0.8699 -0.2368  0.1030  0.2858  0.8938 \n",
       "\n",
       "Coefficients:\n",
       "  Estimate Std. Error t value Pr(>|t|)    \n",
       "y  0.39111    0.02089   18.73   <2e-16 ***\n",
       "---\n",
       "Signif. codes:  0 '***' 0.001 '**' 0.01 '*' 0.05 '.' 0.1 ' ' 1\n",
       "\n",
       "Residual standard error: 0.4246 on 99 degrees of freedom\n",
       "Multiple R-squared:  0.7798,\tAdjusted R-squared:  0.7776 \n",
       "F-statistic: 350.7 on 1 and 99 DF,  p-value: < 2.2e-16\n"
      ]
     },
     "metadata": {},
     "output_type": "display_data"
    }
   ],
   "source": [
    "slrwi2=lm(x~y+0)\n",
    "summary(slrwi2)"
   ]
  },
  {
   "cell_type": "markdown",
   "metadata": {},
   "source": [
    "We can say the exact same thing about the reverse regression, but instead in this situation beta actual value would be 0,5 and we will try to estimate that by least squares the estimate is 0,391 which is off by 0,1, worst estimate than for y~x coefficient. \n",
    "\n",
    "\n",
    "c- We trying to modelize the same problem first $y=2*x+\\varepsilon$  and after $x=0,5*(y-\\varepsilon)$ instead. "
   ]
  },
  {
   "cell_type": "markdown",
   "metadata": {},
   "source": [
    "d- For simple linear regression without intercept we have: \n",
    "         $SE(\\hat{\\beta})=\\sqrt{\\frac{\\sum_{i=1}^{n}(y_i-\\hat{\\beta} x_i)^2}{(n-1)\\sum_{i=1}^{n}x_i^2}}$ and $\\hat{\\beta}=\\frac{\\sum_{i=1}^{n}y_ix_i}{\\sum_{i=1}^{n}x_i^2}$\n",
    "  \n",
    "  \n",
    "  $t=\\frac{\\hat\\beta}{SE(\\hat{\\beta})}$ \n",
    "  \n",
    "  $t=\\frac{\\sum_{i=1}^{n}y_ix_i}{\\sum_{i=1}^{n}x_i^2} \\sqrt{\\frac{(n-1)\\sum_{i=1}^{n}x_i^2}{\\sum_{i=1}^{n}(y_i-\\hat{\\beta} x_i)^2}}$ \n",
    "  \n",
    "  $t=\\frac{\\sqrt{n-1}\\sum_{i=1}^{n}y_ix_i}{\\sqrt{\\sum_{i=1}^{n}x_i^2(\\sum_{i=1}^{n}y_i^2-2\\hat{\\beta}\\sum_{i=1}^{n}y_ix_i+\\hat{\\beta}^2\\sum_{i=1}^{n}x_i^2)}}$\n",
    "\n",
    "Let A be: \n",
    "\n",
    "$A=\\sum_{i=1}^{n}x_i^2(\\sum_{i=1}^{n}y_i^2-2\\hat{\\beta}\\sum_{i=1}^{n}y_ix_i+\\hat{\\beta}^2\\sum_{i=1}^{n}x_i^2)$\n",
    "\n",
    "then:\n",
    "\n",
    "$A=(\\sum_{i=1}^{n}x_i^2)(\\sum_{i=1}^{n}y_i^2)-2\\frac{\\sum_{i=1}^{n}y_ix_i}{\\sum_{i=1}^{n}x_i^2}\\sum_{i=1}^{n}y_ix_i\\sum_{i=1}^{n}x_i^2+(\\frac{\\sum_{i=1}^{n}y_ix_i}{\\sum_{i=1}^{n}x_i^2})^2(\\sum_{i=1}^{n}x_i^2)^2$\n",
    "\n",
    "it is finally simple to get to:\n",
    "\n",
    "$A=(\\sum_{i=1}^{n}x_i^2)(\\sum_{i=1}^{n}y_i^2)-(\\sum_{i=1}^{n}y_ix_i)^2$\n",
    "  \n",
    "And we conclude that: \n",
    "\n",
    "$t=\\frac{\\sqrt{n-1}\\sum_{i=1}^{n}y_ix_i}{\\sqrt{A}}=\\frac{\\sqrt{n-1}\\sum_{i=1}^{n}y_ix_i}{\\sqrt{(\\sum_{i=1}^{n}x_i^2)(\\sum_{i=1}^{n}y_i^2)-(\\sum_{i=1}^{n}y_ix_i)^2}}$\n",
    "  \n"
   ]
  },
  {
   "cell_type": "code",
   "execution_count": 149,
   "metadata": {},
   "outputs": [
    {
     "data": {
      "text/html": [
       "100"
      ],
      "text/latex": [
       "100"
      ],
      "text/markdown": [
       "100"
      ],
      "text/plain": [
       "[1] 100"
      ]
     },
     "metadata": {},
     "output_type": "display_data"
    },
    {
     "data": {
      "text/html": [
       "100"
      ],
      "text/latex": [
       "100"
      ],
      "text/markdown": [
       "100"
      ],
      "text/plain": [
       "[1] 100"
      ]
     },
     "metadata": {},
     "output_type": "display_data"
    },
    {
     "name": "stdout",
     "output_type": "stream",
     "text": [
      "[1] 18.72593\n"
     ]
    }
   ],
   "source": [
    "#let's compare t-values for both models, well by inspecting formula more closely you will notice we'll have same t-value for both models:\n",
    "length(x)\n",
    "length(y)\n",
    "t=sqrt(length(x)-1)*sum(y*x)/sqrt(sum(x^2)*sum(y^2)-(sum(y*x))^2)\n",
    "print(t)\n",
    "#We get the same result as both models."
   ]
  },
  {
   "cell_type": "markdown",
   "metadata": {},
   "source": [
    "(e) We just proved that algebraically and in R.\n",
    "\n",
    "(f) Let's prove the last result for SLR with intercept."
   ]
  },
  {
   "cell_type": "code",
   "execution_count": 151,
   "metadata": {},
   "outputs": [
    {
     "data": {
      "text/plain": [
       "\n",
       "Call:\n",
       "lm(formula = y ~ x)\n",
       "\n",
       "Residuals:\n",
       "    Min      1Q  Median      3Q     Max \n",
       "-1.8768 -0.6138 -0.1395  0.5394  2.3462 \n",
       "\n",
       "Coefficients:\n",
       "            Estimate Std. Error t value Pr(>|t|)    \n",
       "(Intercept) -0.03769    0.09699  -0.389    0.698    \n",
       "x            1.99894    0.10773  18.556   <2e-16 ***\n",
       "---\n",
       "Signif. codes:  0 '***' 0.001 '**' 0.01 '*' 0.05 '.' 0.1 ' ' 1\n",
       "\n",
       "Residual standard error: 0.9628 on 98 degrees of freedom\n",
       "Multiple R-squared:  0.7784,\tAdjusted R-squared:  0.7762 \n",
       "F-statistic: 344.3 on 1 and 98 DF,  p-value: < 2.2e-16\n"
      ]
     },
     "metadata": {},
     "output_type": "display_data"
    },
    {
     "data": {
      "text/plain": [
       "\n",
       "Call:\n",
       "lm(formula = x ~ y)\n",
       "\n",
       "Residuals:\n",
       "     Min       1Q   Median       3Q      Max \n",
       "-0.90848 -0.28101  0.06274  0.24570  0.85736 \n",
       "\n",
       "Coefficients:\n",
       "            Estimate Std. Error t value Pr(>|t|)    \n",
       "(Intercept)  0.03880    0.04266    0.91    0.365    \n",
       "y            0.38942    0.02099   18.56   <2e-16 ***\n",
       "---\n",
       "Signif. codes:  0 '***' 0.001 '**' 0.01 '*' 0.05 '.' 0.1 ' ' 1\n",
       "\n",
       "Residual standard error: 0.4249 on 98 degrees of freedom\n",
       "Multiple R-squared:  0.7784,\tAdjusted R-squared:  0.7762 \n",
       "F-statistic: 344.3 on 1 and 98 DF,  p-value: < 2.2e-16\n"
      ]
     },
     "metadata": {},
     "output_type": "display_data"
    }
   ],
   "source": [
    "set.seed(1)\n",
    "x=rnorm(100)\n",
    "y=2*x+rnorm(100)\n",
    "slr1=lm(y~x)\n",
    "slr2=lm(x~y)\n",
    "summary(slr1)\n",
    "summary(slr2)\n",
    "#As you see below both t-values of the intercept null hypothesis are equal for the 2 models."
   ]
  },
  {
   "cell_type": "markdown",
   "metadata": {},
   "source": [
    "12- Easy exercise, I'll just leave the hint and move on. The intercept is the same for both models of y on x and x on y is when: $\\sum_{i=1}^{n}x_i^2=\\sum_{i=1}^{n}y_i^2$"
   ]
  },
  {
   "cell_type": "markdown",
   "metadata": {},
   "source": [
    "# 13-"
   ]
  },
  {
   "cell_type": "code",
   "execution_count": 212,
   "metadata": {},
   "outputs": [],
   "source": [
    "set.seed(5)\n",
    "x=rnorm(100)\n",
    "eps=rnorm(100,mean=0,sd=0.25)\n",
    "y=-1+0.5*x+eps"
   ]
  },
  {
   "cell_type": "code",
   "execution_count": 213,
   "metadata": {},
   "outputs": [],
   "source": [
    "beta0=-1\n",
    "beta1=0.5\n",
    "leny=length(y) #100 obviously!"
   ]
  },
  {
   "cell_type": "code",
   "execution_count": 214,
   "metadata": {},
   "outputs": [
    {
     "data": {
      "image/png": "[encoded data removed]",
      "text/plain": [
       "plot without title"
      ]
     },
     "metadata": {},
     "output_type": "display_data"
    }
   ],
   "source": [
    "plot(x,y,col='darkgoldenrod1',pch=20)"
   ]
  },
  {
   "cell_type": "code",
   "execution_count": 215,
   "metadata": {
    "scrolled": true
   },
   "outputs": [
    {
     "data": {
      "text/plain": [
       "\n",
       "Call:\n",
       "lm(formula = y ~ x)\n",
       "\n",
       "Residuals:\n",
       "     Min       1Q   Median       3Q      Max \n",
       "-0.62059 -0.15387  0.02532  0.18585  0.68291 \n",
       "\n",
       "Coefficients:\n",
       "            Estimate Std. Error t value Pr(>|t|)    \n",
       "(Intercept) -0.99693    0.02611  -38.18   <2e-16 ***\n",
       "x            0.53328    0.02775   19.22   <2e-16 ***\n",
       "---\n",
       "Signif. codes:  0 '***' 0.001 '**' 0.01 '*' 0.05 '.' 0.1 ' ' 1\n",
       "\n",
       "Residual standard error: 0.261 on 98 degrees of freedom\n",
       "Multiple R-squared:  0.7903,\tAdjusted R-squared:  0.7882 \n",
       "F-statistic: 369.4 on 1 and 98 DF,  p-value: < 2.2e-16\n"
      ]
     },
     "metadata": {},
     "output_type": "display_data"
    }
   ],
   "source": [
    "slrff1=lm(y~x)\n",
    "summary(slrff1)"
   ]
  },
  {
   "cell_type": "markdown",
   "metadata": {},
   "source": [
    "The model have a little error term 0.261 and somehow high $R^2$ value of 0,79 this due to the values of $\\hat{\\beta_0}$ and $\\hat{\\beta_1}$ that are close to the actual values."
   ]
  },
  {
   "cell_type": "code",
   "execution_count": 216,
   "metadata": {},
   "outputs": [
    {
     "data": {
      "image/png": "[encoded data removed]",
      "text/plain": [
       "plot without title"
      ]
     },
     "metadata": {},
     "output_type": "display_data"
    }
   ],
   "source": [
    "plot(x,y,col='darkgoldenrod1',pch=20)\n",
    "abline(slrff1,lwd=3,col='cornflowerblue')\n",
    "abline(-1,0.5,lwd=3,col='brown2')\n",
    "legend(-2.25,0.2,legend=c('Real','Estimate'),col=c('brown2','cornflowerblue'),lwd=3)"
   ]
  },
  {
   "cell_type": "code",
   "execution_count": 217,
   "metadata": {},
   "outputs": [
    {
     "data": {
      "text/plain": [
       "\n",
       "Call:\n",
       "lm(formula = y ~ poly(x, 2))\n",
       "\n",
       "Residuals:\n",
       "     Min       1Q   Median       3Q      Max \n",
       "-0.61154 -0.16155  0.01887  0.20026  0.68997 \n",
       "\n",
       "Coefficients:\n",
       "            Estimate Std. Error t value Pr(>|t|)    \n",
       "(Intercept) -0.98005    0.02617 -37.448   <2e-16 ***\n",
       "poly(x, 2)1  5.01572    0.26171  19.165   <2e-16 ***\n",
       "poly(x, 2)2 -0.17489    0.26171  -0.668    0.506    \n",
       "---\n",
       "Signif. codes:  0 '***' 0.001 '**' 0.01 '*' 0.05 '.' 0.1 ' ' 1\n",
       "\n",
       "Residual standard error: 0.2617 on 97 degrees of freedom\n",
       "Multiple R-squared:  0.7913,\tAdjusted R-squared:  0.787 \n",
       "F-statistic: 183.9 on 2 and 97 DF,  p-value: < 2.2e-16\n"
      ]
     },
     "metadata": {},
     "output_type": "display_data"
    }
   ],
   "source": [
    "slrfq=lm(y~poly(x,2))\n",
    "summary(slrfq)"
   ]
  },
  {
   "cell_type": "markdown",
   "metadata": {},
   "source": [
    "We notice very slight decrease in $R^2$ and $RSE$ this is to be expected, as we get the model more flexible we fit more the learning data, although this change is not that significant, since the p-value related the the null hypothesis concerning the coefficient for $x^2$ is very large. So no, no improvement have been introduced by the quadratic term. Logical enough since the true relationship is linear."
   ]
  },
  {
   "cell_type": "code",
   "execution_count": 226,
   "metadata": {},
   "outputs": [],
   "source": [
    "#We change the value of eps to 0.1\n",
    "set.seed(5)\n",
    "x=rnorm(100)\n",
    "eps=rnorm(100,mean=0,sd=0.1)\n",
    "y=-1+0.5*x+eps"
   ]
  },
  {
   "cell_type": "code",
   "execution_count": 227,
   "metadata": {},
   "outputs": [
    {
     "data": {
      "text/plain": [
       "\n",
       "Call:\n",
       "lm(formula = y ~ x)\n",
       "\n",
       "Residuals:\n",
       "     Min       1Q   Median       3Q      Max \n",
       "-0.24824 -0.06155  0.01013  0.07434  0.27316 \n",
       "\n",
       "Coefficients:\n",
       "            Estimate Std. Error t value Pr(>|t|)    \n",
       "(Intercept) -0.99877    0.01044  -95.62   <2e-16 ***\n",
       "x            0.51331    0.01110   46.25   <2e-16 ***\n",
       "---\n",
       "Signif. codes:  0 '***' 0.001 '**' 0.01 '*' 0.05 '.' 0.1 ' ' 1\n",
       "\n",
       "Residual standard error: 0.1044 on 98 degrees of freedom\n",
       "Multiple R-squared:  0.9562,\tAdjusted R-squared:  0.9557 \n",
       "F-statistic:  2139 on 1 and 98 DF,  p-value: < 2.2e-16\n"
      ]
     },
     "metadata": {},
     "output_type": "display_data"
    }
   ],
   "source": [
    "slrff2=lm(y~x)\n",
    "summary(slrff2)"
   ]
  },
  {
   "cell_type": "code",
   "execution_count": 228,
   "metadata": {},
   "outputs": [
    {
     "data": {
      "image/png": "[encoded data removed]",
      "text/plain": [
       "plot without title"
      ]
     },
     "metadata": {},
     "output_type": "display_data"
    }
   ],
   "source": [
    "plot(x,y,col='darkgoldenrod1',pch=20)\n",
    "abline(slrff2,lwd=3,col='cornflowerblue')\n",
    "abline(-1,0.5,lwd=3,col='brown2')\n",
    "legend(-2.25,0.25,legend=c('Real','Estimate'),col=c('brown2','cornflowerblue'),lwd=3)\n",
    "#As you can see the two lines the estimated and real are almost identical  "
   ]
  },
  {
   "cell_type": "markdown",
   "metadata": {},
   "source": [
    "As you would expect reducing the variance of the irreductible error will make the linear regression perform better and get close as possible to the actual function."
   ]
  },
  {
   "cell_type": "code",
   "execution_count": 229,
   "metadata": {},
   "outputs": [],
   "source": [
    "#We change the value of eps to 0.5\n",
    "set.seed(5)\n",
    "x=rnorm(100)\n",
    "eps=rnorm(100,mean=0,sd=0.5)\n",
    "y=-1+0.5*x+eps"
   ]
  },
  {
   "cell_type": "code",
   "execution_count": 230,
   "metadata": {},
   "outputs": [
    {
     "data": {
      "text/plain": [
       "\n",
       "Call:\n",
       "lm(formula = y ~ x)\n",
       "\n",
       "Residuals:\n",
       "     Min       1Q   Median       3Q      Max \n",
       "-1.24118 -0.30774  0.05064  0.37170  1.36583 \n",
       "\n",
       "Coefficients:\n",
       "            Estimate Std. Error t value Pr(>|t|)    \n",
       "(Intercept) -0.99385    0.05222  -19.03   <2e-16 ***\n",
       "x            0.56656    0.05549   10.21   <2e-16 ***\n",
       "---\n",
       "Signif. codes:  0 '***' 0.001 '**' 0.01 '*' 0.05 '.' 0.1 ' ' 1\n",
       "\n",
       "Residual standard error: 0.5219 on 98 degrees of freedom\n",
       "Multiple R-squared:  0.5154,\tAdjusted R-squared:  0.5105 \n",
       "F-statistic: 104.2 on 1 and 98 DF,  p-value: < 2.2e-16\n"
      ]
     },
     "metadata": {},
     "output_type": "display_data"
    }
   ],
   "source": [
    "slrff3=lm(y~x)\n",
    "summary(slrff3)"
   ]
  },
  {
   "cell_type": "code",
   "execution_count": 233,
   "metadata": {},
   "outputs": [
    {
     "data": {
      "image/png": "[encoded data removed]",
      "text/plain": [
       "plot without title"
      ]
     },
     "metadata": {},
     "output_type": "display_data"
    }
   ],
   "source": [
    "plot(x,y,col='darkgoldenrod1',pch=20)\n",
    "abline(slrff3,lwd=3,col='cornflowerblue')\n",
    "abline(-1,0.5,lwd=3,col='brown2')\n",
    "legend(-2.25,0.5,legend=c('Real','Estimate'),col=c('brown2','cornflowerblue'),lwd=3)\n",
    "#As you can see the two lines the estimated and real are almost identical  "
   ]
  },
  {
   "cell_type": "markdown",
   "metadata": {},
   "source": [
    "As you would expect increasing the variance of the irreductible error will make the linear regression perform worse than before and be largely off the actual function."
   ]
  },
  {
   "cell_type": "code",
   "execution_count": 234,
   "metadata": {},
   "outputs": [
    {
     "data": {
      "text/html": [
       "<ol class=list-inline>\n",
       "\t<li>'call'</li>\n",
       "\t<li>'terms'</li>\n",
       "\t<li>'residuals'</li>\n",
       "\t<li>'coefficients'</li>\n",
       "\t<li>'aliased'</li>\n",
       "\t<li>'sigma'</li>\n",
       "\t<li>'df'</li>\n",
       "\t<li>'r.squared'</li>\n",
       "\t<li>'adj.r.squared'</li>\n",
       "\t<li>'fstatistic'</li>\n",
       "\t<li>'cov.unscaled'</li>\n",
       "</ol>\n"
      ],
      "text/latex": [
       "\\begin{enumerate*}\n",
       "\\item 'call'\n",
       "\\item 'terms'\n",
       "\\item 'residuals'\n",
       "\\item 'coefficients'\n",
       "\\item 'aliased'\n",
       "\\item 'sigma'\n",
       "\\item 'df'\n",
       "\\item 'r.squared'\n",
       "\\item 'adj.r.squared'\n",
       "\\item 'fstatistic'\n",
       "\\item 'cov.unscaled'\n",
       "\\end{enumerate*}\n"
      ],
      "text/markdown": [
       "1. 'call'\n",
       "2. 'terms'\n",
       "3. 'residuals'\n",
       "4. 'coefficients'\n",
       "5. 'aliased'\n",
       "6. 'sigma'\n",
       "7. 'df'\n",
       "8. 'r.squared'\n",
       "9. 'adj.r.squared'\n",
       "10. 'fstatistic'\n",
       "11. 'cov.unscaled'\n",
       "\n",
       "\n"
      ],
      "text/plain": [
       " [1] \"call\"          \"terms\"         \"residuals\"     \"coefficients\" \n",
       " [5] \"aliased\"       \"sigma\"         \"df\"            \"r.squared\"    \n",
       " [9] \"adj.r.squared\" \"fstatistic\"    \"cov.unscaled\" "
      ]
     },
     "metadata": {},
     "output_type": "display_data"
    }
   ],
   "source": [
    "summary(slrff3))"
   ]
  },
  {
   "cell_type": "code",
   "execution_count": 238,
   "metadata": {},
   "outputs": [
    {
     "data": {
      "text/html": [
       "<table>\n",
       "<thead><tr><th></th><th scope=col>2.5 %</th><th scope=col>97.5 %</th></tr></thead>\n",
       "<tbody>\n",
       "\t<tr><th scope=row>(Intercept)</th><td>-1.0487431</td><td>-0.9451071</td></tr>\n",
       "\t<tr><th scope=row>x</th><td> 0.4782154</td><td> 0.5883401</td></tr>\n",
       "</tbody>\n",
       "</table>\n"
      ],
      "text/latex": [
       "\\begin{tabular}{r|ll}\n",
       "  & 2.5 \\% & 97.5 \\%\\\\\n",
       "\\hline\n",
       "\t(Intercept) & -1.0487431 & -0.9451071\\\\\n",
       "\tx &  0.4782154 &  0.5883401\\\\\n",
       "\\end{tabular}\n"
      ],
      "text/markdown": [
       "\n",
       "| <!--/--> | 2.5 % | 97.5 % | \n",
       "|---|---|\n",
       "| (Intercept) | -1.0487431 | -0.9451071 | \n",
       "| x |  0.4782154 |  0.5883401 | \n",
       "\n",
       "\n"
      ],
      "text/plain": [
       "            2.5 %      97.5 %    \n",
       "(Intercept) -1.0487431 -0.9451071\n",
       "x            0.4782154  0.5883401"
      ]
     },
     "metadata": {},
     "output_type": "display_data"
    },
    {
     "data": {
      "text/html": [
       "<table>\n",
       "<thead><tr><th></th><th scope=col>2.5 %</th><th scope=col>97.5 %</th></tr></thead>\n",
       "<tbody>\n",
       "\t<tr><th scope=row>(Intercept)</th><td>-1.0194973</td><td>-0.9780428</td></tr>\n",
       "\t<tr><th scope=row>x</th><td> 0.4912861</td><td> 0.5353361</td></tr>\n",
       "</tbody>\n",
       "</table>\n"
      ],
      "text/latex": [
       "\\begin{tabular}{r|ll}\n",
       "  & 2.5 \\% & 97.5 \\%\\\\\n",
       "\\hline\n",
       "\t(Intercept) & -1.0194973 & -0.9780428\\\\\n",
       "\tx &  0.4912861 &  0.5353361\\\\\n",
       "\\end{tabular}\n"
      ],
      "text/markdown": [
       "\n",
       "| <!--/--> | 2.5 % | 97.5 % | \n",
       "|---|---|\n",
       "| (Intercept) | -1.0194973 | -0.9780428 | \n",
       "| x |  0.4912861 |  0.5353361 | \n",
       "\n",
       "\n"
      ],
      "text/plain": [
       "            2.5 %      97.5 %    \n",
       "(Intercept) -1.0194973 -0.9780428\n",
       "x            0.4912861  0.5353361"
      ]
     },
     "metadata": {},
     "output_type": "display_data"
    },
    {
     "data": {
      "text/html": [
       "<table>\n",
       "<thead><tr><th></th><th scope=col>2.5 %</th><th scope=col>97.5 %</th></tr></thead>\n",
       "<tbody>\n",
       "\t<tr><th scope=row>(Intercept)</th><td>-1.0974863</td><td>-0.8902142</td></tr>\n",
       "\t<tr><th scope=row>x</th><td> 0.4564307</td><td> 0.6766803</td></tr>\n",
       "</tbody>\n",
       "</table>\n"
      ],
      "text/latex": [
       "\\begin{tabular}{r|ll}\n",
       "  & 2.5 \\% & 97.5 \\%\\\\\n",
       "\\hline\n",
       "\t(Intercept) & -1.0974863 & -0.8902142\\\\\n",
       "\tx &  0.4564307 &  0.6766803\\\\\n",
       "\\end{tabular}\n"
      ],
      "text/markdown": [
       "\n",
       "| <!--/--> | 2.5 % | 97.5 % | \n",
       "|---|---|\n",
       "| (Intercept) | -1.0974863 | -0.8902142 | \n",
       "| x |  0.4564307 |  0.6766803 | \n",
       "\n",
       "\n"
      ],
      "text/plain": [
       "            2.5 %      97.5 %    \n",
       "(Intercept) -1.0974863 -0.8902142\n",
       "x            0.4564307  0.6766803"
      ]
     },
     "metadata": {},
     "output_type": "display_data"
    }
   ],
   "source": [
    "confint(slrff1)\n",
    "confint(slrff2)\n",
    "confint(slrff3)"
   ]
  },
  {
   "cell_type": "markdown",
   "metadata": {},
   "source": [
    "We notice that for the noiser the data is the wider the confidence interval is for both coefficients, logical enough since adding incertainty to data adds incertainty to the estimation based on this same data :\n",
    "\n",
    "$\\sigma=0,25 => \\beta_0max-\\beta_0min=0,103636$ & $\\beta_1max-\\beta_1min=0.1101247$\n",
    "\n",
    "$\\sigma=0,1 => \\beta_0max-\\beta_0min=0.0414545$ & $\\beta_1max-\\beta_1min=0.04405$\n",
    "\n",
    "$\\sigma=0,5 => \\beta_0max-\\beta_0min=0.2072721$ & $\\beta_1max-\\beta_1min=0.2202496$\n"
   ]
  },
  {
   "cell_type": "markdown",
   "metadata": {},
   "source": [
    "# 14-"
   ]
  },
  {
   "cell_type": "code",
   "execution_count": 5,
   "metadata": {},
   "outputs": [],
   "source": [
    "set.seed(10)\n",
    "x1=runif(100) #100 random number from the uniform distribution!\n",
    "x2=0.5*x1+rnorm(100)/10\n",
    "y=2+2*x1+0.3*x2+rnorm(100)"
   ]
  },
  {
   "cell_type": "markdown",
   "metadata": {},
   "source": [
    "$\\beta_0=2$,   $\\beta_1=2$ and $\\beta_2=0,3$"
   ]
  },
  {
   "cell_type": "code",
   "execution_count": 7,
   "metadata": {},
   "outputs": [
    {
     "data": {
      "image/png": "[encoded data removed]",
      "text/plain": [
       "plot without title"
      ]
     },
     "metadata": {},
     "output_type": "display_data"
    }
   ],
   "source": [
    "plot(x1,x2,col='darkgoldenrod1',pch=20)"
   ]
  },
  {
   "cell_type": "markdown",
   "metadata": {},
   "source": [
    "We notice the existence of somehow linear a relationship between x1 and x2, since as x1 increases x2 increases too! "
   ]
  },
  {
   "cell_type": "code",
   "execution_count": 8,
   "metadata": {},
   "outputs": [
    {
     "data": {
      "text/plain": [
       "\n",
       "Call:\n",
       "lm(formula = y ~ x1 + x2)\n",
       "\n",
       "Residuals:\n",
       "     Min       1Q   Median       3Q      Max \n",
       "-2.02507 -0.64102 -0.04811  0.64382  2.09265 \n",
       "\n",
       "Coefficients:\n",
       "            Estimate Std. Error t value Pr(>|t|)    \n",
       "(Intercept)   1.7651     0.1876   9.409 2.54e-15 ***\n",
       "x1            3.1604     0.6444   4.904 3.77e-06 ***\n",
       "x2           -1.3863     0.9787  -1.417     0.16    \n",
       "---\n",
       "Signif. codes:  0 '***' 0.001 '**' 0.01 '*' 0.05 '.' 0.1 ' ' 1\n",
       "\n",
       "Residual standard error: 0.9377 on 97 degrees of freedom\n",
       "Multiple R-squared:  0.321,\tAdjusted R-squared:  0.307 \n",
       "F-statistic: 22.93 on 2 and 97 DF,  p-value: 7.002e-09\n"
      ]
     },
     "metadata": {},
     "output_type": "display_data"
    }
   ],
   "source": [
    "lmlrf=lm(y~x1+x2)\n",
    "summary(lmlrf)"
   ]
  },
  {
   "cell_type": "markdown",
   "metadata": {},
   "source": [
    "We couldn't reject the null hypothesis for $\\hat{\\beta_2}$ because we have collinearity between predictors. How is that? Well as we have seen in the collinearity section, if we have collinearity the cost function will tend to have a wider section (compared to when there is no collinearity) of values close to the minimum value of the cost function which means any slight change of data points could cause the least square estimates to change. This unwanted sense of uncertainty tends to reduce the accuracy of the coefficient estimates and thus we get a larger Standard error and hence it causes a decline in the t-statistic and we fail to reject the null hypothesis for some significant predictors such as x2 in this case."
   ]
  },
  {
   "cell_type": "code",
   "execution_count": 11,
   "metadata": {},
   "outputs": [
    {
     "data": {
      "text/plain": [
       "\n",
       "Call:\n",
       "lm(formula = y ~ x1)\n",
       "\n",
       "Residuals:\n",
       "     Min       1Q   Median       3Q      Max \n",
       "-2.14104 -0.68538 -0.07084  0.71946  2.09537 \n",
       "\n",
       "Coefficients:\n",
       "            Estimate Std. Error t value Pr(>|t|)    \n",
       "(Intercept)   1.7858     0.1880   9.499 1.48e-15 ***\n",
       "x1            2.4065     0.3653   6.588 2.23e-09 ***\n",
       "---\n",
       "Signif. codes:  0 '***' 0.001 '**' 0.01 '*' 0.05 '.' 0.1 ' ' 1\n",
       "\n",
       "Residual standard error: 0.9425 on 98 degrees of freedom\n",
       "Multiple R-squared:  0.307,\tAdjusted R-squared:  0.2999 \n",
       "F-statistic: 43.41 on 1 and 98 DF,  p-value: 2.235e-09\n"
      ]
     },
     "metadata": {},
     "output_type": "display_data"
    },
    {
     "data": {
      "text/plain": [
       "\n",
       "Call:\n",
       "lm(formula = y ~ x2)\n",
       "\n",
       "Residuals:\n",
       "    Min      1Q  Median      3Q     Max \n",
       "-2.5776 -0.7731  0.1079  0.7634  2.4292 \n",
       "\n",
       "Coefficients:\n",
       "            Estimate Std. Error t value Pr(>|t|)    \n",
       "(Intercept)   2.2717     0.1741  13.051  < 2e-16 ***\n",
       "x2            2.5773     0.6134   4.202 5.85e-05 ***\n",
       "---\n",
       "Signif. codes:  0 '***' 0.001 '**' 0.01 '*' 0.05 '.' 0.1 ' ' 1\n",
       "\n",
       "Residual standard error: 1.042 on 98 degrees of freedom\n",
       "Multiple R-squared:  0.1527,\tAdjusted R-squared:  0.144 \n",
       "F-statistic: 17.65 on 1 and 98 DF,  p-value: 5.847e-05\n"
      ]
     },
     "metadata": {},
     "output_type": "display_data"
    }
   ],
   "source": [
    "lslrf1=lm(y~x1)\n",
    "lslrf2=lm(y~x2)\n",
    "summary(lslrf1)\n",
    "summary(lslrf2)"
   ]
  },
  {
   "cell_type": "markdown",
   "metadata": {},
   "source": [
    "We reject the null hypothesis for both models because the p-value for the null hypothesis is baisacly zero. Which means that individually both predictors are significant.\n",
    "\n",
    "14-c There is no contradiction since predictors are collinear and collinearity causes that we cannot detect the individual contributions of predictors to the response."
   ]
  },
  {
   "cell_type": "code",
   "execution_count": 12,
   "metadata": {},
   "outputs": [
    {
     "data": {
      "text/plain": [
       "\n",
       "Call:\n",
       "lm(formula = y ~ x1 + x2)\n",
       "\n",
       "Residuals:\n",
       "    Min      1Q  Median      3Q     Max \n",
       "-2.3001 -0.8156 -0.0130  0.7543  3.0327 \n",
       "\n",
       "Coefficients:\n",
       "            Estimate Std. Error t value Pr(>|t|)    \n",
       "(Intercept)   1.9029     0.1995   9.540 1.21e-15 ***\n",
       "x1            1.6371     0.5730   2.857  0.00523 ** \n",
       "x2            1.1258     0.8324   1.353  0.17932    \n",
       "---\n",
       "Signif. codes:  0 '***' 0.001 '**' 0.01 '*' 0.05 '.' 0.1 ' ' 1\n",
       "\n",
       "Residual standard error: 1.013 on 98 degrees of freedom\n",
       "Multiple R-squared:  0.2574,\tAdjusted R-squared:  0.2423 \n",
       "F-statistic: 16.99 on 2 and 98 DF,  p-value: 4.636e-07\n"
      ]
     },
     "metadata": {},
     "output_type": "display_data"
    },
    {
     "data": {
      "text/plain": [
       "\n",
       "Call:\n",
       "lm(formula = y ~ x1)\n",
       "\n",
       "Residuals:\n",
       "    Min      1Q  Median      3Q     Max \n",
       "-2.2238 -0.7532 -0.0511  0.6951  3.8657 \n",
       "\n",
       "Coefficients:\n",
       "            Estimate Std. Error t value Pr(>|t|)    \n",
       "(Intercept)   1.9137     0.2001   9.562 9.88e-16 ***\n",
       "x1            2.2061     0.3907   5.646 1.57e-07 ***\n",
       "---\n",
       "Signif. codes:  0 '***' 0.001 '**' 0.01 '*' 0.05 '.' 0.1 ' ' 1\n",
       "\n",
       "Residual standard error: 1.017 on 99 degrees of freedom\n",
       "Multiple R-squared:  0.2436,\tAdjusted R-squared:  0.2359 \n",
       "F-statistic: 31.88 on 1 and 99 DF,  p-value: 1.572e-07\n"
      ]
     },
     "metadata": {},
     "output_type": "display_data"
    },
    {
     "data": {
      "text/plain": [
       "\n",
       "Call:\n",
       "lm(formula = y ~ x2)\n",
       "\n",
       "Residuals:\n",
       "     Min       1Q   Median       3Q      Max \n",
       "-2.58188 -0.81333  0.07991  0.74748  2.37107 \n",
       "\n",
       "Coefficients:\n",
       "            Estimate Std. Error t value Pr(>|t|)    \n",
       "(Intercept)   2.2197     0.1717  12.928  < 2e-16 ***\n",
       "x2            2.8716     0.5853   4.906 3.65e-06 ***\n",
       "---\n",
       "Signif. codes:  0 '***' 0.001 '**' 0.01 '*' 0.05 '.' 0.1 ' ' 1\n",
       "\n",
       "Residual standard error: 1.049 on 99 degrees of freedom\n",
       "Multiple R-squared:  0.1956,\tAdjusted R-squared:  0.1875 \n",
       "F-statistic: 24.07 on 1 and 99 DF,  p-value: 3.65e-06\n"
      ]
     },
     "metadata": {},
     "output_type": "display_data"
    }
   ],
   "source": [
    "x1=c(x1,0.1)\n",
    "x2=c(x2,0.8)\n",
    "y=c(y,6)\n",
    "lslrf1=lm(y~x1)\n",
    "lslrf2=lm(y~x2)\n",
    "lmlrf=lm(y~x1+x2)\n",
    "summary(lmlrf)\n",
    "summary(lslrf1)\n",
    "summary(lslrf2)"
   ]
  },
  {
   "cell_type": "code",
   "execution_count": 52,
   "metadata": {},
   "outputs": [
    {
     "data": {
      "text/html": [
       "<table>\n",
       "<thead><tr><th></th><th scope=col>hatvalues</th><th scope=col>rstudent</th><th scope=col>x1</th><th scope=col>x2</th><th scope=col>y</th></tr></thead>\n",
       "<tbody>\n",
       "\t<tr><th scope=row>101</th><td>0.3968186</td><td>4.164214 </td><td>0.1      </td><td>0.8      </td><td>6        </td></tr>\n",
       "</tbody>\n",
       "</table>\n"
      ],
      "text/latex": [
       "\\begin{tabular}{r|lllll}\n",
       "  & hatvalues & rstudent & x1 & x2 & y\\\\\n",
       "\\hline\n",
       "\t101 & 0.3968186 & 4.164214  & 0.1       & 0.8       & 6        \\\\\n",
       "\\end{tabular}\n"
      ],
      "text/markdown": [
       "\n",
       "| <!--/--> | hatvalues | rstudent | x1 | x2 | y | \n",
       "|---|\n",
       "| 101 | 0.3968186 | 4.164214  | 0.1       | 0.8       | 6         | \n",
       "\n",
       "\n"
      ],
      "text/plain": [
       "    hatvalues rstudent x1  x2  y\n",
       "101 0.3968186 4.164214 0.1 0.8 6"
      ]
     },
     "metadata": {},
     "output_type": "display_data"
    },
    {
     "data": {
      "image/png": "[encoded data removed]",
      "text/plain": [
       "plot without title"
      ]
     },
     "metadata": {},
     "output_type": "display_data"
    }
   ],
   "source": [
    "plot(hatvalues(lmlrf),rstudent(lmlrf),col='darkgoldenrod1',pch=20)\n",
    "l=data.frame('hatvalues'=hatvalues(lmlrf),'rstudent'=rstudent(lmlrf),'x1'=x1,'x2'=x2,'y'=y)\n",
    "outlihlev=subset(l,hatvalues>0.12 & (rstudent>3 || rstudent<3))\n",
    "outlihlev\n",
    "abline(v=12/100,col='cornflowerblue',lwd=3)\n",
    "abline(a=3,b=0,col='cornflowerblue',lwd=3)\n",
    "abline(a=-3,b=0,col='cornflowerblue',lwd=3)\n",
    "text(outlihlev$hatvalues,outlihlev$rstudent,labels = paste('x1=',outlihlev$x1,sep = \"\"),pos = 1, cex=0.7)\n",
    "text(outlihlev$hatvalues,outlihlev$rstudent,labels = paste('x2=',outlihlev$x2,sep = \"\"),pos=2,cex=0.7)\n",
    "text(outlihlev$hatvalues,outlihlev$rstudent,labels = paste('y=',outlihlev$y,sep = \"\"),pos=3,cex=0.7)"
   ]
  },
  {
   "cell_type": "markdown",
   "metadata": {},
   "source": [
    "As you can see above the point added is clearly both an outlier and a high leverage point. This is a nasty combinaison as it affects the fit for the data and also the measures of quality of the fit. So it's better to delete before working with the data!\n",
    "\n",
    "Reminder: We consider as outlier data points foe which the studentized value is larger in absolute value than 3. And is considered a high leverage data points each point for which the leverage statistic (hatvalue in R) is 'greatly' larger than the average of this statistic which is: $\\frac{p+1}{n}$ with: $p$=number of predictors for the model and $n$ number of observations. I defined 'greatly' larger as 4 times higher than the average."
   ]
  },
  {
   "cell_type": "markdown",
   "metadata": {},
   "source": [
    "# 15-"
   ]
  },
  {
   "cell_type": "code",
   "execution_count": 60,
   "metadata": {},
   "outputs": [
    {
     "name": "stderr",
     "output_type": "stream",
     "text": [
      "The following objects are masked from Boston (pos = 3):\n",
      "\n",
      "    age, black, chas, crim, dis, indus, lstat, medv, nox, ptratio, rad,\n",
      "    rm, tax, zn\n",
      "\n",
      "The following objects are masked from Boston (pos = 4):\n",
      "\n",
      "    age, black, chas, crim, dis, indus, lstat, medv, nox, ptratio, rad,\n",
      "    rm, tax, zn\n",
      "\n"
     ]
    },
    {
     "data": {
      "text/plain": [
       "      crim                zn             indus            chas        \n",
       " Min.   : 0.00632   Min.   :  0.00   Min.   : 0.46   Min.   :0.00000  \n",
       " 1st Qu.: 0.08204   1st Qu.:  0.00   1st Qu.: 5.19   1st Qu.:0.00000  \n",
       " Median : 0.25651   Median :  0.00   Median : 9.69   Median :0.00000  \n",
       " Mean   : 3.61352   Mean   : 11.36   Mean   :11.14   Mean   :0.06917  \n",
       " 3rd Qu.: 3.67708   3rd Qu.: 12.50   3rd Qu.:18.10   3rd Qu.:0.00000  \n",
       " Max.   :88.97620   Max.   :100.00   Max.   :27.74   Max.   :1.00000  \n",
       "      nox               rm             age              dis        \n",
       " Min.   :0.3850   Min.   :3.561   Min.   :  2.90   Min.   : 1.130  \n",
       " 1st Qu.:0.4490   1st Qu.:5.886   1st Qu.: 45.02   1st Qu.: 2.100  \n",
       " Median :0.5380   Median :6.208   Median : 77.50   Median : 3.207  \n",
       " Mean   :0.5547   Mean   :6.285   Mean   : 68.57   Mean   : 3.795  \n",
       " 3rd Qu.:0.6240   3rd Qu.:6.623   3rd Qu.: 94.08   3rd Qu.: 5.188  \n",
       " Max.   :0.8710   Max.   :8.780   Max.   :100.00   Max.   :12.127  \n",
       "      rad              tax           ptratio          black       \n",
       " Min.   : 1.000   Min.   :187.0   Min.   :12.60   Min.   :  0.32  \n",
       " 1st Qu.: 4.000   1st Qu.:279.0   1st Qu.:17.40   1st Qu.:375.38  \n",
       " Median : 5.000   Median :330.0   Median :19.05   Median :391.44  \n",
       " Mean   : 9.549   Mean   :408.2   Mean   :18.46   Mean   :356.67  \n",
       " 3rd Qu.:24.000   3rd Qu.:666.0   3rd Qu.:20.20   3rd Qu.:396.23  \n",
       " Max.   :24.000   Max.   :711.0   Max.   :22.00   Max.   :396.90  \n",
       "     lstat            medv      \n",
       " Min.   : 1.73   Min.   : 5.00  \n",
       " 1st Qu.: 6.95   1st Qu.:17.02  \n",
       " Median :11.36   Median :21.20  \n",
       " Mean   :12.65   Mean   :22.53  \n",
       " 3rd Qu.:16.95   3rd Qu.:25.00  \n",
       " Max.   :37.97   Max.   :50.00  "
      ]
     },
     "metadata": {},
     "output_type": "display_data"
    }
   ],
   "source": [
    "library(MASS)\n",
    "attach(Boston)\n",
    "summary(Boston)\n",
    "fix(Boston)"
   ]
  },
  {
   "cell_type": "code",
   "execution_count": 63,
   "metadata": {},
   "outputs": [],
   "source": [
    "?Boston"
   ]
  },
  {
   "cell_type": "markdown",
   "metadata": {},
   "source": [
    "Notice that the chas variable is qualitative, and is equal to 1 if a given neighborhood bounds the river, 0 if not. Let's let R know about this by changing that variable to quantitative."
   ]
  },
  {
   "cell_type": "code",
   "execution_count": 66,
   "metadata": {},
   "outputs": [],
   "source": [
    "Boston$chas=factor(Boston$chas,labels = c('N','Y'))"
   ]
  },
  {
   "cell_type": "code",
   "execution_count": 68,
   "metadata": {},
   "outputs": [
    {
     "data": {
      "text/html": [
       "<ol class=list-inline>\n",
       "\t<li>'crim'</li>\n",
       "\t<li>'zn'</li>\n",
       "\t<li>'indus'</li>\n",
       "\t<li>'chas'</li>\n",
       "\t<li>'nox'</li>\n",
       "\t<li>'rm'</li>\n",
       "\t<li>'age'</li>\n",
       "\t<li>'dis'</li>\n",
       "\t<li>'rad'</li>\n",
       "\t<li>'tax'</li>\n",
       "\t<li>'ptratio'</li>\n",
       "\t<li>'black'</li>\n",
       "\t<li>'lstat'</li>\n",
       "\t<li>'medv'</li>\n",
       "</ol>\n"
      ],
      "text/latex": [
       "\\begin{enumerate*}\n",
       "\\item 'crim'\n",
       "\\item 'zn'\n",
       "\\item 'indus'\n",
       "\\item 'chas'\n",
       "\\item 'nox'\n",
       "\\item 'rm'\n",
       "\\item 'age'\n",
       "\\item 'dis'\n",
       "\\item 'rad'\n",
       "\\item 'tax'\n",
       "\\item 'ptratio'\n",
       "\\item 'black'\n",
       "\\item 'lstat'\n",
       "\\item 'medv'\n",
       "\\end{enumerate*}\n"
      ],
      "text/markdown": [
       "1. 'crim'\n",
       "2. 'zn'\n",
       "3. 'indus'\n",
       "4. 'chas'\n",
       "5. 'nox'\n",
       "6. 'rm'\n",
       "7. 'age'\n",
       "8. 'dis'\n",
       "9. 'rad'\n",
       "10. 'tax'\n",
       "11. 'ptratio'\n",
       "12. 'black'\n",
       "13. 'lstat'\n",
       "14. 'medv'\n",
       "\n",
       "\n"
      ],
      "text/plain": [
       " [1] \"crim\"    \"zn\"      \"indus\"   \"chas\"    \"nox\"     \"rm\"      \"age\"    \n",
       " [8] \"dis\"     \"rad\"     \"tax\"     \"ptratio\" \"black\"   \"lstat\"   \"medv\"   "
      ]
     },
     "metadata": {},
     "output_type": "display_data"
    }
   ],
   "source": [
    "names(Boston)"
   ]
  },
  {
   "cell_type": "code",
   "execution_count": 110,
   "metadata": {},
   "outputs": [
    {
     "name": "stdout",
     "output_type": "stream",
     "text": [
      "\n",
      "Call:\n",
      "lm(formula = crim ~ zn)\n",
      "\n",
      "Residuals:\n",
      "   Min     1Q Median     3Q    Max \n",
      "-4.429 -4.222 -2.620  1.250 84.523 \n",
      "\n",
      "Coefficients:\n",
      "            Estimate Std. Error t value Pr(>|t|)    \n",
      "(Intercept)  4.45369    0.41722  10.675  < 2e-16 ***\n",
      "zn          -0.07393    0.01609  -4.594 5.51e-06 ***\n",
      "---\n",
      "Signif. codes:  0 '***' 0.001 '**' 0.01 '*' 0.05 '.' 0.1 ' ' 1\n",
      "\n",
      "Residual standard error: 8.435 on 504 degrees of freedom\n",
      "Multiple R-squared:  0.04019,\tAdjusted R-squared:  0.03828 \n",
      "F-statistic:  21.1 on 1 and 504 DF,  p-value: 5.506e-06\n",
      "\n"
     ]
    },
    {
     "data": {
      "image/png": "[encoded data removed]",
      "text/plain": [
       "Plot with title \"\""
      ]
     },
     "metadata": {},
     "output_type": "display_data"
    },
    {
     "name": "stdout",
     "output_type": "stream",
     "text": [
      "\n",
      "Call:\n",
      "lm(formula = crim ~ indus)\n",
      "\n",
      "Residuals:\n",
      "    Min      1Q  Median      3Q     Max \n",
      "-11.972  -2.698  -0.736   0.712  81.813 \n",
      "\n",
      "Coefficients:\n",
      "            Estimate Std. Error t value Pr(>|t|)    \n",
      "(Intercept) -2.06374    0.66723  -3.093  0.00209 ** \n",
      "indus        0.50978    0.05102   9.991  < 2e-16 ***\n",
      "---\n",
      "Signif. codes:  0 '***' 0.001 '**' 0.01 '*' 0.05 '.' 0.1 ' ' 1\n",
      "\n",
      "Residual standard error: 7.866 on 504 degrees of freedom\n",
      "Multiple R-squared:  0.1653,\tAdjusted R-squared:  0.1637 \n",
      "F-statistic: 99.82 on 1 and 504 DF,  p-value: < 2.2e-16\n",
      "\n"
     ]
    },
    {
     "data": {
      "image/png": "[encoded data removed]",
      "text/plain": [
       "Plot with title \"\""
      ]
     },
     "metadata": {},
     "output_type": "display_data"
    },
    {
     "name": "stdout",
     "output_type": "stream",
     "text": [
      "\n",
      "Call:\n",
      "lm(formula = crim ~ chas)\n",
      "\n",
      "Residuals:\n",
      "   Min     1Q Median     3Q    Max \n",
      "-3.738 -3.661 -3.435  0.018 85.232 \n",
      "\n",
      "Coefficients:\n",
      "            Estimate Std. Error t value Pr(>|t|)    \n",
      "(Intercept)   3.7444     0.3961   9.453   <2e-16 ***\n",
      "chas         -1.8928     1.5061  -1.257    0.209    \n",
      "---\n",
      "Signif. codes:  0 '***' 0.001 '**' 0.01 '*' 0.05 '.' 0.1 ' ' 1\n",
      "\n",
      "Residual standard error: 8.597 on 504 degrees of freedom\n",
      "Multiple R-squared:  0.003124,\tAdjusted R-squared:  0.001146 \n",
      "F-statistic: 1.579 on 1 and 504 DF,  p-value: 0.2094\n",
      "\n"
     ]
    },
    {
     "data": {
      "image/png": "[encoded data removed]",
      "text/plain": [
       "Plot with title \"\""
      ]
     },
     "metadata": {},
     "output_type": "display_data"
    },
    {
     "name": "stdout",
     "output_type": "stream",
     "text": [
      "\n",
      "Call:\n",
      "lm(formula = crim ~ nox)\n",
      "\n",
      "Residuals:\n",
      "    Min      1Q  Median      3Q     Max \n",
      "-12.371  -2.738  -0.974   0.559  81.728 \n",
      "\n",
      "Coefficients:\n",
      "            Estimate Std. Error t value Pr(>|t|)    \n",
      "(Intercept)  -13.720      1.699  -8.073 5.08e-15 ***\n",
      "nox           31.249      2.999  10.419  < 2e-16 ***\n",
      "---\n",
      "Signif. codes:  0 '***' 0.001 '**' 0.01 '*' 0.05 '.' 0.1 ' ' 1\n",
      "\n",
      "Residual standard error: 7.81 on 504 degrees of freedom\n",
      "Multiple R-squared:  0.1772,\tAdjusted R-squared:  0.1756 \n",
      "F-statistic: 108.6 on 1 and 504 DF,  p-value: < 2.2e-16\n",
      "\n"
     ]
    },
    {
     "data": {
      "image/png": "[encoded data removed]",
      "text/plain": [
       "Plot with title \"\""
      ]
     },
     "metadata": {},
     "output_type": "display_data"
    },
    {
     "name": "stdout",
     "output_type": "stream",
     "text": [
      "\n",
      "Call:\n",
      "lm(formula = crim ~ rm)\n",
      "\n",
      "Residuals:\n",
      "   Min     1Q Median     3Q    Max \n",
      "-6.604 -3.952 -2.654  0.989 87.197 \n",
      "\n",
      "Coefficients:\n",
      "            Estimate Std. Error t value Pr(>|t|)    \n",
      "(Intercept)   20.482      3.365   6.088 2.27e-09 ***\n",
      "rm            -2.684      0.532  -5.045 6.35e-07 ***\n",
      "---\n",
      "Signif. codes:  0 '***' 0.001 '**' 0.01 '*' 0.05 '.' 0.1 ' ' 1\n",
      "\n",
      "Residual standard error: 8.401 on 504 degrees of freedom\n",
      "Multiple R-squared:  0.04807,\tAdjusted R-squared:  0.04618 \n",
      "F-statistic: 25.45 on 1 and 504 DF,  p-value: 6.347e-07\n",
      "\n"
     ]
    },
    {
     "data": {
      "image/png": "[encoded data removed]",
      "text/plain": [
       "Plot with title \"\""
      ]
     },
     "metadata": {},
     "output_type": "display_data"
    },
    {
     "name": "stdout",
     "output_type": "stream",
     "text": [
      "\n",
      "Call:\n",
      "lm(formula = crim ~ age)\n",
      "\n",
      "Residuals:\n",
      "   Min     1Q Median     3Q    Max \n",
      "-6.789 -4.257 -1.230  1.527 82.849 \n",
      "\n",
      "Coefficients:\n",
      "            Estimate Std. Error t value Pr(>|t|)    \n",
      "(Intercept) -3.77791    0.94398  -4.002 7.22e-05 ***\n",
      "age          0.10779    0.01274   8.463 2.85e-16 ***\n",
      "---\n",
      "Signif. codes:  0 '***' 0.001 '**' 0.01 '*' 0.05 '.' 0.1 ' ' 1\n",
      "\n",
      "Residual standard error: 8.057 on 504 degrees of freedom\n",
      "Multiple R-squared:  0.1244,\tAdjusted R-squared:  0.1227 \n",
      "F-statistic: 71.62 on 1 and 504 DF,  p-value: 2.855e-16\n",
      "\n"
     ]
    },
    {
     "data": {
      "image/png": "[encoded data removed]",
      "text/plain": [
       "Plot with title \"\""
      ]
     },
     "metadata": {},
     "output_type": "display_data"
    },
    {
     "name": "stdout",
     "output_type": "stream",
     "text": [
      "\n",
      "Call:\n",
      "lm(formula = crim ~ dis)\n",
      "\n",
      "Residuals:\n",
      "   Min     1Q Median     3Q    Max \n",
      "-6.708 -4.134 -1.527  1.516 81.674 \n",
      "\n",
      "Coefficients:\n",
      "            Estimate Std. Error t value Pr(>|t|)    \n",
      "(Intercept)   9.4993     0.7304  13.006   <2e-16 ***\n",
      "dis          -1.5509     0.1683  -9.213   <2e-16 ***\n",
      "---\n",
      "Signif. codes:  0 '***' 0.001 '**' 0.01 '*' 0.05 '.' 0.1 ' ' 1\n",
      "\n",
      "Residual standard error: 7.965 on 504 degrees of freedom\n",
      "Multiple R-squared:  0.1441,\tAdjusted R-squared:  0.1425 \n",
      "F-statistic: 84.89 on 1 and 504 DF,  p-value: < 2.2e-16\n",
      "\n"
     ]
    },
    {
     "data": {
      "image/png": "[encoded data removed]",
      "text/plain": [
       "Plot with title \"\""
      ]
     },
     "metadata": {},
     "output_type": "display_data"
    },
    {
     "name": "stdout",
     "output_type": "stream",
     "text": [
      "\n",
      "Call:\n",
      "lm(formula = crim ~ rad)\n",
      "\n",
      "Residuals:\n",
      "    Min      1Q  Median      3Q     Max \n",
      "-10.164  -1.381  -0.141   0.660  76.433 \n",
      "\n",
      "Coefficients:\n",
      "            Estimate Std. Error t value Pr(>|t|)    \n",
      "(Intercept) -2.28716    0.44348  -5.157 3.61e-07 ***\n",
      "rad          0.61791    0.03433  17.998  < 2e-16 ***\n",
      "---\n",
      "Signif. codes:  0 '***' 0.001 '**' 0.01 '*' 0.05 '.' 0.1 ' ' 1\n",
      "\n",
      "Residual standard error: 6.718 on 504 degrees of freedom\n",
      "Multiple R-squared:  0.3913,\tAdjusted R-squared:   0.39 \n",
      "F-statistic: 323.9 on 1 and 504 DF,  p-value: < 2.2e-16\n",
      "\n"
     ]
    },
    {
     "data": {
      "image/png": "[encoded data removed]",
      "text/plain": [
       "Plot with title \"\""
      ]
     },
     "metadata": {},
     "output_type": "display_data"
    },
    {
     "name": "stdout",
     "output_type": "stream",
     "text": [
      "\n",
      "Call:\n",
      "lm(formula = crim ~ tax)\n",
      "\n",
      "Residuals:\n",
      "    Min      1Q  Median      3Q     Max \n",
      "-12.513  -2.738  -0.194   1.065  77.696 \n",
      "\n",
      "Coefficients:\n",
      "             Estimate Std. Error t value Pr(>|t|)    \n",
      "(Intercept) -8.528369   0.815809  -10.45   <2e-16 ***\n",
      "tax          0.029742   0.001847   16.10   <2e-16 ***\n",
      "---\n",
      "Signif. codes:  0 '***' 0.001 '**' 0.01 '*' 0.05 '.' 0.1 ' ' 1\n",
      "\n",
      "Residual standard error: 6.997 on 504 degrees of freedom\n",
      "Multiple R-squared:  0.3396,\tAdjusted R-squared:  0.3383 \n",
      "F-statistic: 259.2 on 1 and 504 DF,  p-value: < 2.2e-16\n",
      "\n"
     ]
    },
    {
     "data": {
      "image/png": "[encoded data removed]",
      "text/plain": [
       "Plot with title \"\""
      ]
     },
     "metadata": {},
     "output_type": "display_data"
    },
    {
     "name": "stdout",
     "output_type": "stream",
     "text": [
      "\n",
      "Call:\n",
      "lm(formula = crim ~ ptratio)\n",
      "\n",
      "Residuals:\n",
      "   Min     1Q Median     3Q    Max \n",
      "-7.654 -3.985 -1.912  1.825 83.353 \n",
      "\n",
      "Coefficients:\n",
      "            Estimate Std. Error t value Pr(>|t|)    \n",
      "(Intercept) -17.6469     3.1473  -5.607 3.40e-08 ***\n",
      "ptratio       1.1520     0.1694   6.801 2.94e-11 ***\n",
      "---\n",
      "Signif. codes:  0 '***' 0.001 '**' 0.01 '*' 0.05 '.' 0.1 ' ' 1\n",
      "\n",
      "Residual standard error: 8.24 on 504 degrees of freedom\n",
      "Multiple R-squared:  0.08407,\tAdjusted R-squared:  0.08225 \n",
      "F-statistic: 46.26 on 1 and 504 DF,  p-value: 2.943e-11\n",
      "\n"
     ]
    },
    {
     "data": {
      "image/png": "[encoded data removed]",
      "text/plain": [
       "Plot with title \"\""
      ]
     },
     "metadata": {},
     "output_type": "display_data"
    },
    {
     "name": "stdout",
     "output_type": "stream",
     "text": [
      "\n",
      "Call:\n",
      "lm(formula = crim ~ black)\n",
      "\n",
      "Residuals:\n",
      "    Min      1Q  Median      3Q     Max \n",
      "-13.756  -2.299  -2.095  -1.296  86.822 \n",
      "\n",
      "Coefficients:\n",
      "             Estimate Std. Error t value Pr(>|t|)    \n",
      "(Intercept) 16.553529   1.425903  11.609   <2e-16 ***\n",
      "black       -0.036280   0.003873  -9.367   <2e-16 ***\n",
      "---\n",
      "Signif. codes:  0 '***' 0.001 '**' 0.01 '*' 0.05 '.' 0.1 ' ' 1\n",
      "\n",
      "Residual standard error: 7.946 on 504 degrees of freedom\n",
      "Multiple R-squared:  0.1483,\tAdjusted R-squared:  0.1466 \n",
      "F-statistic: 87.74 on 1 and 504 DF,  p-value: < 2.2e-16\n",
      "\n"
     ]
    },
    {
     "data": {
      "image/png": "[encoded data removed]",
      "text/plain": [
       "Plot with title \"\""
      ]
     },
     "metadata": {},
     "output_type": "display_data"
    },
    {
     "name": "stdout",
     "output_type": "stream",
     "text": [
      "\n",
      "Call:\n",
      "lm(formula = crim ~ lstat)\n",
      "\n",
      "Residuals:\n",
      "    Min      1Q  Median      3Q     Max \n",
      "-13.925  -2.822  -0.664   1.079  82.862 \n",
      "\n",
      "Coefficients:\n",
      "            Estimate Std. Error t value Pr(>|t|)    \n",
      "(Intercept) -3.33054    0.69376  -4.801 2.09e-06 ***\n",
      "lstat        0.54880    0.04776  11.491  < 2e-16 ***\n",
      "---\n",
      "Signif. codes:  0 '***' 0.001 '**' 0.01 '*' 0.05 '.' 0.1 ' ' 1\n",
      "\n",
      "Residual standard error: 7.664 on 504 degrees of freedom\n",
      "Multiple R-squared:  0.2076,\tAdjusted R-squared:  0.206 \n",
      "F-statistic:   132 on 1 and 504 DF,  p-value: < 2.2e-16\n",
      "\n"
     ]
    },
    {
     "data": {
      "image/png": "[encoded data removed]",
      "text/plain": [
       "Plot with title \"\""
      ]
     },
     "metadata": {},
     "output_type": "display_data"
    },
    {
     "name": "stdout",
     "output_type": "stream",
     "text": [
      "\n",
      "Call:\n",
      "lm(formula = crim ~ medv)\n",
      "\n",
      "Residuals:\n",
      "   Min     1Q Median     3Q    Max \n",
      "-9.071 -4.022 -2.343  1.298 80.957 \n",
      "\n",
      "Coefficients:\n",
      "            Estimate Std. Error t value Pr(>|t|)    \n",
      "(Intercept) 11.79654    0.93419   12.63   <2e-16 ***\n",
      "medv        -0.36316    0.03839   -9.46   <2e-16 ***\n",
      "---\n",
      "Signif. codes:  0 '***' 0.001 '**' 0.01 '*' 0.05 '.' 0.1 ' ' 1\n",
      "\n",
      "Residual standard error: 7.934 on 504 degrees of freedom\n",
      "Multiple R-squared:  0.1508,\tAdjusted R-squared:  0.1491 \n",
      "F-statistic: 89.49 on 1 and 504 DF,  p-value: < 2.2e-16\n",
      "\n"
     ]
    },
    {
     "data": {
      "image/png": "[encoded data removed]",
      "text/plain": [
       "Plot with title \"\""
      ]
     },
     "metadata": {},
     "output_type": "display_data"
    }
   ],
   "source": [
    "lf1=lm(crim~zn) #Significant\n",
    "lf2=lm(crim~indus)#Significant\n",
    "lf3=lm(crim~chas)#insignificant\n",
    "lf4=lm(crim~nox)#Significant\n",
    "lf5=lm(crim~rm)#Significant\n",
    "lf6=lm(crim~age)#Significant\n",
    "lf7=lm(crim~dis)#Significant\n",
    "lf8=lm(crim~rad)#Significant\n",
    "lf9=lm(crim~tax)#Significant\n",
    "lf10=lm(crim~ptratio)#Significant\n",
    "lf11=lm(crim~black)#Significant\n",
    "lf12=lm(crim~lstat)#Significant\n",
    "lf13=lm(crim~medv)#Significant\n",
    "models=list(lf1,lf2,lf3,lf4,lf5,lf6,lf7,lf8,lf9,lf10,lf11,lf12,lf13)\n",
    "pred=list(zn,indus,chas,nox,rm,age,dis,rad,tax,ptratio,black,lstat,medv)\n",
    "\n",
    "for (model in models){\n",
    "    summary(model)\n",
    "    par(mfrow=c(2,2))\n",
    "    plot(model)\n",
    "    print(summary(model))\n",
    "}\n",
    "#All models except chas have very small p-values and we can reject the null hypothesis which mwans there is some kind of relation \n",
    "#between the predictor and the response."
   ]
  },
  {
   "cell_type": "code",
   "execution_count": 108,
   "metadata": {},
   "outputs": [
    {
     "data": {
      "text/plain": [
       "\n",
       "Call:\n",
       "lm(formula = crim ~ ., data = Boston)\n",
       "\n",
       "Residuals:\n",
       "   Min     1Q Median     3Q    Max \n",
       "-9.924 -2.120 -0.353  1.019 75.051 \n",
       "\n",
       "Coefficients:\n",
       "              Estimate Std. Error t value Pr(>|t|)    \n",
       "(Intercept)  17.033228   7.234903   2.354 0.018949 *  \n",
       "zn            0.044855   0.018734   2.394 0.017025 *  \n",
       "indus        -0.063855   0.083407  -0.766 0.444294    \n",
       "chasY        -0.749134   1.180147  -0.635 0.525867    \n",
       "nox         -10.313535   5.275536  -1.955 0.051152 .  \n",
       "rm            0.430131   0.612830   0.702 0.483089    \n",
       "age           0.001452   0.017925   0.081 0.935488    \n",
       "dis          -0.987176   0.281817  -3.503 0.000502 ***\n",
       "rad           0.588209   0.088049   6.680 6.46e-11 ***\n",
       "tax          -0.003780   0.005156  -0.733 0.463793    \n",
       "ptratio      -0.271081   0.186450  -1.454 0.146611    \n",
       "black        -0.007538   0.003673  -2.052 0.040702 *  \n",
       "lstat         0.126211   0.075725   1.667 0.096208 .  \n",
       "medv         -0.198887   0.060516  -3.287 0.001087 ** \n",
       "---\n",
       "Signif. codes:  0 '***' 0.001 '**' 0.01 '*' 0.05 '.' 0.1 ' ' 1\n",
       "\n",
       "Residual standard error: 6.439 on 492 degrees of freedom\n",
       "Multiple R-squared:  0.454,\tAdjusted R-squared:  0.4396 \n",
       "F-statistic: 31.47 on 13 and 492 DF,  p-value: < 2.2e-16\n"
      ]
     },
     "metadata": {},
     "output_type": "display_data"
    }
   ],
   "source": [
    "mlf=lm(crim~.,data=Boston)\n",
    "summary(mlf)"
   ]
  },
  {
   "cell_type": "markdown",
   "metadata": {},
   "source": [
    "We can reject the null hypothesis for: zn, dis, rad, black and medv."
   ]
  },
  {
   "cell_type": "code",
   "execution_count": 122,
   "metadata": {},
   "outputs": [
    {
     "data": {
      "image/png": "[encoded data removed]",
      "text/plain": [
       "plot without title"
      ]
     },
     "metadata": {},
     "output_type": "display_data"
    }
   ],
   "source": [
    "sc=c(lf1$coefficients[2],lf2$coefficients[2],lf3$coefficients[2],lf4$coefficients[2],lf5$coefficients[2],lf6$coefficients[2],lf7$coefficients[2],lf8$coefficients[2],lf9$coefficients[2],lf10$coefficients[2],lf11$coefficients[2],lf12$coefficients[2],lf13$coefficients[2])\n",
    "mc=c(mlf$coefficients[2:14])\n",
    "plot(sc,mc,col='darkgoldenrod1',pch=20)"
   ]
  },
  {
   "cell_type": "markdown",
   "metadata": {},
   "source": [
    "We notice that all variables apart from nox have approximately the same coefficient value for both single and multiple linear regression fits."
   ]
  },
  {
   "cell_type": "code",
   "execution_count": 127,
   "metadata": {},
   "outputs": [
    {
     "name": "stdout",
     "output_type": "stream",
     "text": [
      "\n",
      "Call:\n",
      "lm(formula = crim ~ poly(zn, 3))\n",
      "\n",
      "Residuals:\n",
      "   Min     1Q Median     3Q    Max \n",
      "-4.821 -4.614 -1.294  0.473 84.130 \n",
      "\n",
      "Coefficients:\n",
      "             Estimate Std. Error t value Pr(>|t|)    \n",
      "(Intercept)    3.6135     0.3722   9.709  < 2e-16 ***\n",
      "poly(zn, 3)1 -38.7498     8.3722  -4.628  4.7e-06 ***\n",
      "poly(zn, 3)2  23.9398     8.3722   2.859  0.00442 ** \n",
      "poly(zn, 3)3 -10.0719     8.3722  -1.203  0.22954    \n",
      "---\n",
      "Signif. codes:  0 '***' 0.001 '**' 0.01 '*' 0.05 '.' 0.1 ' ' 1\n",
      "\n",
      "Residual standard error: 8.372 on 502 degrees of freedom\n",
      "Multiple R-squared:  0.05824,\tAdjusted R-squared:  0.05261 \n",
      "F-statistic: 10.35 on 3 and 502 DF,  p-value: 1.281e-06\n",
      "\n",
      "\n",
      "Call:\n",
      "lm(formula = crim ~ poly(indus, 3))\n",
      "\n",
      "Residuals:\n",
      "   Min     1Q Median     3Q    Max \n",
      "-8.278 -2.514  0.054  0.764 79.713 \n",
      "\n",
      "Coefficients:\n",
      "                Estimate Std. Error t value Pr(>|t|)    \n",
      "(Intercept)        3.614      0.330  10.950  < 2e-16 ***\n",
      "poly(indus, 3)1   78.591      7.423  10.587  < 2e-16 ***\n",
      "poly(indus, 3)2  -24.395      7.423  -3.286  0.00109 ** \n",
      "poly(indus, 3)3  -54.130      7.423  -7.292  1.2e-12 ***\n",
      "---\n",
      "Signif. codes:  0 '***' 0.001 '**' 0.01 '*' 0.05 '.' 0.1 ' ' 1\n",
      "\n",
      "Residual standard error: 7.423 on 502 degrees of freedom\n",
      "Multiple R-squared:  0.2597,\tAdjusted R-squared:  0.2552 \n",
      "F-statistic: 58.69 on 3 and 502 DF,  p-value: < 2.2e-16\n",
      "\n",
      "\n",
      "Call:\n",
      "lm(formula = crim ~ poly(chas, 1))\n",
      "\n",
      "Residuals:\n",
      "   Min     1Q Median     3Q    Max \n",
      "-3.738 -3.661 -3.435  0.018 85.232 \n",
      "\n",
      "Coefficients:\n",
      "              Estimate Std. Error t value Pr(>|t|)    \n",
      "(Intercept)     3.6135     0.3822   9.455   <2e-16 ***\n",
      "poly(chas, 1) -10.8036     8.5966  -1.257    0.209    \n",
      "---\n",
      "Signif. codes:  0 '***' 0.001 '**' 0.01 '*' 0.05 '.' 0.1 ' ' 1\n",
      "\n",
      "Residual standard error: 8.597 on 504 degrees of freedom\n",
      "Multiple R-squared:  0.003124,\tAdjusted R-squared:  0.001146 \n",
      "F-statistic: 1.579 on 1 and 504 DF,  p-value: 0.2094\n",
      "\n",
      "\n",
      "Call:\n",
      "lm(formula = crim ~ poly(nox, 3))\n",
      "\n",
      "Residuals:\n",
      "   Min     1Q Median     3Q    Max \n",
      "-9.110 -2.068 -0.255  0.739 78.302 \n",
      "\n",
      "Coefficients:\n",
      "              Estimate Std. Error t value Pr(>|t|)    \n",
      "(Intercept)     3.6135     0.3216  11.237  < 2e-16 ***\n",
      "poly(nox, 3)1  81.3720     7.2336  11.249  < 2e-16 ***\n",
      "poly(nox, 3)2 -28.8286     7.2336  -3.985 7.74e-05 ***\n",
      "poly(nox, 3)3 -60.3619     7.2336  -8.345 6.96e-16 ***\n",
      "---\n",
      "Signif. codes:  0 '***' 0.001 '**' 0.01 '*' 0.05 '.' 0.1 ' ' 1\n",
      "\n",
      "Residual standard error: 7.234 on 502 degrees of freedom\n",
      "Multiple R-squared:  0.297,\tAdjusted R-squared:  0.2928 \n",
      "F-statistic: 70.69 on 3 and 502 DF,  p-value: < 2.2e-16\n",
      "\n",
      "\n",
      "Call:\n",
      "lm(formula = crim ~ poly(rm, 3))\n",
      "\n",
      "Residuals:\n",
      "    Min      1Q  Median      3Q     Max \n",
      "-18.485  -3.468  -2.221  -0.015  87.219 \n",
      "\n",
      "Coefficients:\n",
      "             Estimate Std. Error t value Pr(>|t|)    \n",
      "(Intercept)    3.6135     0.3703   9.758  < 2e-16 ***\n",
      "poly(rm, 3)1 -42.3794     8.3297  -5.088 5.13e-07 ***\n",
      "poly(rm, 3)2  26.5768     8.3297   3.191  0.00151 ** \n",
      "poly(rm, 3)3  -5.5103     8.3297  -0.662  0.50858    \n",
      "---\n",
      "Signif. codes:  0 '***' 0.001 '**' 0.01 '*' 0.05 '.' 0.1 ' ' 1\n",
      "\n",
      "Residual standard error: 8.33 on 502 degrees of freedom\n",
      "Multiple R-squared:  0.06779,\tAdjusted R-squared:  0.06222 \n",
      "F-statistic: 12.17 on 3 and 502 DF,  p-value: 1.067e-07\n",
      "\n",
      "\n",
      "Call:\n",
      "lm(formula = crim ~ poly(age, 3))\n",
      "\n",
      "Residuals:\n",
      "   Min     1Q Median     3Q    Max \n",
      "-9.762 -2.673 -0.516  0.019 82.842 \n",
      "\n",
      "Coefficients:\n",
      "              Estimate Std. Error t value Pr(>|t|)    \n",
      "(Intercept)     3.6135     0.3485  10.368  < 2e-16 ***\n",
      "poly(age, 3)1  68.1820     7.8397   8.697  < 2e-16 ***\n",
      "poly(age, 3)2  37.4845     7.8397   4.781 2.29e-06 ***\n",
      "poly(age, 3)3  21.3532     7.8397   2.724  0.00668 ** \n",
      "---\n",
      "Signif. codes:  0 '***' 0.001 '**' 0.01 '*' 0.05 '.' 0.1 ' ' 1\n",
      "\n",
      "Residual standard error: 7.84 on 502 degrees of freedom\n",
      "Multiple R-squared:  0.1742,\tAdjusted R-squared:  0.1693 \n",
      "F-statistic: 35.31 on 3 and 502 DF,  p-value: < 2.2e-16\n",
      "\n",
      "\n",
      "Call:\n",
      "lm(formula = crim ~ poly(dis, 3))\n",
      "\n",
      "Residuals:\n",
      "    Min      1Q  Median      3Q     Max \n",
      "-10.757  -2.588   0.031   1.267  76.378 \n",
      "\n",
      "Coefficients:\n",
      "              Estimate Std. Error t value Pr(>|t|)    \n",
      "(Intercept)     3.6135     0.3259  11.087  < 2e-16 ***\n",
      "poly(dis, 3)1 -73.3886     7.3315 -10.010  < 2e-16 ***\n",
      "poly(dis, 3)2  56.3730     7.3315   7.689 7.87e-14 ***\n",
      "poly(dis, 3)3 -42.6219     7.3315  -5.814 1.09e-08 ***\n",
      "---\n",
      "Signif. codes:  0 '***' 0.001 '**' 0.01 '*' 0.05 '.' 0.1 ' ' 1\n",
      "\n",
      "Residual standard error: 7.331 on 502 degrees of freedom\n",
      "Multiple R-squared:  0.2778,\tAdjusted R-squared:  0.2735 \n",
      "F-statistic: 64.37 on 3 and 502 DF,  p-value: < 2.2e-16\n",
      "\n",
      "\n",
      "Call:\n",
      "lm(formula = crim ~ poly(rad, 3))\n",
      "\n",
      "Residuals:\n",
      "    Min      1Q  Median      3Q     Max \n",
      "-10.381  -0.412  -0.269   0.179  76.217 \n",
      "\n",
      "Coefficients:\n",
      "              Estimate Std. Error t value Pr(>|t|)    \n",
      "(Intercept)     3.6135     0.2971  12.164  < 2e-16 ***\n",
      "poly(rad, 3)1 120.9074     6.6824  18.093  < 2e-16 ***\n",
      "poly(rad, 3)2  17.4923     6.6824   2.618  0.00912 ** \n",
      "poly(rad, 3)3   4.6985     6.6824   0.703  0.48231    \n",
      "---\n",
      "Signif. codes:  0 '***' 0.001 '**' 0.01 '*' 0.05 '.' 0.1 ' ' 1\n",
      "\n",
      "Residual standard error: 6.682 on 502 degrees of freedom\n",
      "Multiple R-squared:    0.4,\tAdjusted R-squared:  0.3965 \n",
      "F-statistic: 111.6 on 3 and 502 DF,  p-value: < 2.2e-16\n",
      "\n",
      "\n",
      "Call:\n",
      "lm(formula = crim ~ poly(tax, 3))\n",
      "\n",
      "Residuals:\n",
      "    Min      1Q  Median      3Q     Max \n",
      "-13.273  -1.389   0.046   0.536  76.950 \n",
      "\n",
      "Coefficients:\n",
      "              Estimate Std. Error t value Pr(>|t|)    \n",
      "(Intercept)     3.6135     0.3047  11.860  < 2e-16 ***\n",
      "poly(tax, 3)1 112.6458     6.8537  16.436  < 2e-16 ***\n",
      "poly(tax, 3)2  32.0873     6.8537   4.682 3.67e-06 ***\n",
      "poly(tax, 3)3  -7.9968     6.8537  -1.167    0.244    \n",
      "---\n",
      "Signif. codes:  0 '***' 0.001 '**' 0.01 '*' 0.05 '.' 0.1 ' ' 1\n",
      "\n",
      "Residual standard error: 6.854 on 502 degrees of freedom\n",
      "Multiple R-squared:  0.3689,\tAdjusted R-squared:  0.3651 \n",
      "F-statistic:  97.8 on 3 and 502 DF,  p-value: < 2.2e-16\n",
      "\n",
      "\n",
      "Call:\n",
      "lm(formula = crim ~ poly(ptratio, 3))\n",
      "\n",
      "Residuals:\n",
      "   Min     1Q Median     3Q    Max \n",
      "-6.833 -4.146 -1.655  1.408 82.697 \n",
      "\n",
      "Coefficients:\n",
      "                  Estimate Std. Error t value Pr(>|t|)    \n",
      "(Intercept)          3.614      0.361  10.008  < 2e-16 ***\n",
      "poly(ptratio, 3)1   56.045      8.122   6.901 1.57e-11 ***\n",
      "poly(ptratio, 3)2   24.775      8.122   3.050  0.00241 ** \n",
      "poly(ptratio, 3)3  -22.280      8.122  -2.743  0.00630 ** \n",
      "---\n",
      "Signif. codes:  0 '***' 0.001 '**' 0.01 '*' 0.05 '.' 0.1 ' ' 1\n",
      "\n",
      "Residual standard error: 8.122 on 502 degrees of freedom\n",
      "Multiple R-squared:  0.1138,\tAdjusted R-squared:  0.1085 \n",
      "F-statistic: 21.48 on 3 and 502 DF,  p-value: 4.171e-13\n",
      "\n",
      "\n",
      "Call:\n",
      "lm(formula = crim ~ poly(black, 3))\n",
      "\n",
      "Residuals:\n",
      "    Min      1Q  Median      3Q     Max \n",
      "-13.096  -2.343  -2.128  -1.439  86.790 \n",
      "\n",
      "Coefficients:\n",
      "                Estimate Std. Error t value Pr(>|t|)    \n",
      "(Intercept)       3.6135     0.3536  10.218   <2e-16 ***\n",
      "poly(black, 3)1 -74.4312     7.9546  -9.357   <2e-16 ***\n",
      "poly(black, 3)2   5.9264     7.9546   0.745    0.457    \n",
      "poly(black, 3)3  -4.8346     7.9546  -0.608    0.544    \n",
      "---\n",
      "Signif. codes:  0 '***' 0.001 '**' 0.01 '*' 0.05 '.' 0.1 ' ' 1\n",
      "\n",
      "Residual standard error: 7.955 on 502 degrees of freedom\n",
      "Multiple R-squared:  0.1498,\tAdjusted R-squared:  0.1448 \n",
      "F-statistic: 29.49 on 3 and 502 DF,  p-value: < 2.2e-16\n",
      "\n",
      "\n",
      "Call:\n",
      "lm(formula = crim ~ poly(lstat, 3))\n",
      "\n",
      "Residuals:\n",
      "    Min      1Q  Median      3Q     Max \n",
      "-15.234  -2.151  -0.486   0.066  83.353 \n",
      "\n",
      "Coefficients:\n",
      "                Estimate Std. Error t value Pr(>|t|)    \n",
      "(Intercept)       3.6135     0.3392  10.654   <2e-16 ***\n",
      "poly(lstat, 3)1  88.0697     7.6294  11.543   <2e-16 ***\n",
      "poly(lstat, 3)2  15.8882     7.6294   2.082   0.0378 *  \n",
      "poly(lstat, 3)3 -11.5740     7.6294  -1.517   0.1299    \n",
      "---\n",
      "Signif. codes:  0 '***' 0.001 '**' 0.01 '*' 0.05 '.' 0.1 ' ' 1\n",
      "\n",
      "Residual standard error: 7.629 on 502 degrees of freedom\n",
      "Multiple R-squared:  0.2179,\tAdjusted R-squared:  0.2133 \n",
      "F-statistic: 46.63 on 3 and 502 DF,  p-value: < 2.2e-16\n",
      "\n",
      "\n",
      "Call:\n",
      "lm(formula = crim ~ poly(medv, 3))\n",
      "\n",
      "Residuals:\n",
      "    Min      1Q  Median      3Q     Max \n",
      "-24.427  -1.976  -0.437   0.439  73.655 \n",
      "\n",
      "Coefficients:\n",
      "               Estimate Std. Error t value Pr(>|t|)    \n",
      "(Intercept)       3.614      0.292  12.374  < 2e-16 ***\n",
      "poly(medv, 3)1  -75.058      6.569 -11.426  < 2e-16 ***\n",
      "poly(medv, 3)2   88.086      6.569  13.409  < 2e-16 ***\n",
      "poly(medv, 3)3  -48.033      6.569  -7.312 1.05e-12 ***\n",
      "---\n",
      "Signif. codes:  0 '***' 0.001 '**' 0.01 '*' 0.05 '.' 0.1 ' ' 1\n",
      "\n",
      "Residual standard error: 6.569 on 502 degrees of freedom\n",
      "Multiple R-squared:  0.4202,\tAdjusted R-squared:  0.4167 \n",
      "F-statistic: 121.3 on 3 and 502 DF,  p-value: < 2.2e-16\n",
      "\n"
     ]
    }
   ],
   "source": [
    "cf1=lm(crim~poly(zn,3)) #Significant till the quadratic fit but non significant after the third power term.\n",
    "cf2=lm(crim~poly(indus,3))#Significant till the last power term.\n",
    "cf4=lm(crim~poly(nox,3))#Significant till the last power term.\n",
    "cf5=lm(crim~poly(rm,3))#Significant till the quadratic fit but non significant after the third power term.\n",
    "cf6=lm(crim~poly(age,3))#Significant till the last power term.\n",
    "cf7=lm(crim~poly(dis,3))#Significant till the last power term.\n",
    "cf8=lm(crim~poly(rad,3))#Significant till the quadratic fit but non significant after the third power term.\n",
    "cf9=lm(crim~poly(tax,3))#Significant till the quadratic fit but non significant after the third power term.\n",
    "cf10=lm(crim~poly(ptratio,3))#Significant till the last power term.\n",
    "cf11=lm(crim~poly(black,3))#Non-Significant starting at the quadratic fit.\n",
    "cf12=lm(crim~poly(lstat,3))#Significant starting at the quadratic fit.\n",
    "cf13=lm(crim~poly(medv,3))#Significant till the last power term.\n",
    "models=list(cf1,cf2,cf3,cf4,cf5,cf6,cf7,cf8,cf9,cf10,cf11,cf12,cf13)\n",
    "pred=list(zn,indus,chas,nox,rm,age,dis,rad,tax,ptratio,black,lstat,medv)\n",
    "for (model in models){\n",
    "    print(summary(model))\n",
    "}"
   ]
  }
 ],
 "metadata": {
  "kernelspec": {
   "display_name": "R",
   "language": "R",
   "name": "ir"
  },
  "language_info": {
   "codemirror_mode": "r",
   "file_extension": ".r",
   "mimetype": "text/x-r-source",
   "name": "R",
   "pygments_lexer": "r",
   "version": "3.5.1"
  }
 },
 "nbformat": 4,
 "nbformat_minor": 2
}

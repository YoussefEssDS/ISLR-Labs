{
 "cells": [
  {
   "cell_type": "markdown",
   "metadata": {},
   "source": [
    "We will work through the LAB for linear regression chapter in ISLR."
   ]
  },
  {
   "cell_type": "markdown",
   "metadata": {},
   "source": [
    "Basic functions that perform least squares linear regression and other simple analyses come\n",
    "standard with the base distribution named MASS. So we use the library() function to run it."
   ]
  },
  {
   "cell_type": "code",
   "execution_count": 1,
   "metadata": {},
   "outputs": [],
   "source": [
    "lodalibraries=function(){\n",
    "    library('MASS')\n",
    "    library('ISLR')\n",
    "    print('Libraries Loaded')\n",
    "}"
   ]
  },
  {
   "cell_type": "code",
   "execution_count": 2,
   "metadata": {},
   "outputs": [
    {
     "name": "stderr",
     "output_type": "stream",
     "text": [
      "Warning message:\n",
      "\"package 'ISLR' was built under R version 3.5.2\""
     ]
    },
    {
     "name": "stdout",
     "output_type": "stream",
     "text": [
      "[1] \"Libraries Loaded\"\n"
     ]
    }
   ],
   "source": [
    "lodalibraries()"
   ]
  },
  {
   "cell_type": "markdown",
   "metadata": {},
   "source": [
    "# Simple linear regression:"
   ]
  },
  {
   "cell_type": "code",
   "execution_count": 59,
   "metadata": {},
   "outputs": [],
   "source": [
    "fix(Auto)"
   ]
  },
  {
   "cell_type": "code",
   "execution_count": 4,
   "metadata": {},
   "outputs": [
    {
     "data": {
      "text/plain": [
       "\n",
       "Call:\n",
       "lm(formula = mpg ~ horsepower, data = Auto)\n",
       "\n",
       "Residuals:\n",
       "     Min       1Q   Median       3Q      Max \n",
       "-13.5710  -3.2592  -0.3435   2.7630  16.9240 \n",
       "\n",
       "Coefficients:\n",
       "             Estimate Std. Error t value Pr(>|t|)    \n",
       "(Intercept) 39.935861   0.717499   55.66   <2e-16 ***\n",
       "horsepower  -0.157845   0.006446  -24.49   <2e-16 ***\n",
       "---\n",
       "Signif. codes:  0 '***' 0.001 '**' 0.01 '*' 0.05 '.' 0.1 ' ' 1\n",
       "\n",
       "Residual standard error: 4.906 on 390 degrees of freedom\n",
       "Multiple R-squared:  0.6059,\tAdjusted R-squared:  0.6049 \n",
       "F-statistic: 599.7 on 1 and 390 DF,  p-value: < 2.2e-16\n"
      ]
     },
     "metadata": {},
     "output_type": "display_data"
    }
   ],
   "source": [
    "attach(Auto)\n",
    "slrf=lm(mpg~horsepower,data=Auto)\n",
    "summary(slrf)"
   ]
  },
  {
   "cell_type": "markdown",
   "metadata": {},
   "source": [
    "Look at the cell below for results and how to get them:\n",
    "\n",
    "\n",
    "i- Since the p-value is small then there is a relation between the response and predictor.\n",
    "\n",
    "\n",
    "ii- We use the value of RSE/mean of the response to have an idea on the error and how much it's big for this partucular problem 20,92% and R squared which is the amount of variability in mpg explained by horsepower is: 60.59%.\n",
    "\n",
    "\n",
    "iii- As you can notice from the summary of the model, horsepower coefficient is negative then the relation between mpg and horsepower is negative, in the sense that the more we have horsepower the less we have mpg, which acctualy makes sense since high specs vehicules consume more gas.\n",
    "\n",
    "\n",
    "iv-Look at the cell below.\n"
   ]
  },
  {
   "cell_type": "code",
   "execution_count": 10,
   "metadata": {},
   "outputs": [
    {
     "name": "stdout",
     "output_type": "stream",
     "text": [
      "[1] \"The error rate is:\"\n"
     ]
    },
    {
     "data": {
      "text/html": [
       "20.9237140669148"
      ],
      "text/latex": [
       "20.9237140669148"
      ],
      "text/markdown": [
       "20.9237140669148"
      ],
      "text/plain": [
       "[1] 20.92371"
      ]
     },
     "metadata": {},
     "output_type": "display_data"
    },
    {
     "name": "stdout",
     "output_type": "stream",
     "text": [
      "[1] \"The percentage of contribution of horsepower in explaining mpg is:\"\n"
     ]
    },
    {
     "data": {
      "text/html": [
       "60.5948257889435"
      ],
      "text/latex": [
       "60.5948257889435"
      ],
      "text/markdown": [
       "60.5948257889435"
      ],
      "text/plain": [
       "[1] 60.59483"
      ]
     },
     "metadata": {},
     "output_type": "display_data"
    },
    {
     "name": "stdout",
     "output_type": "stream",
     "text": [
      "[1] \"Predicting mpg for horsepower of 98:\"\n"
     ]
    },
    {
     "data": {
      "text/html": [
       "<strong>1:</strong> 24.4670771525124"
      ],
      "text/latex": [
       "\\textbf{1:} 24.4670771525124"
      ],
      "text/markdown": [
       "**1:** 24.4670771525124"
      ],
      "text/plain": [
       "       1 \n",
       "24.46708 "
      ]
     },
     "metadata": {},
     "output_type": "display_data"
    },
    {
     "name": "stdout",
     "output_type": "stream",
     "text": [
      "[1] \"The interval of confidence associated to this prediction is:\"\n"
     ]
    },
    {
     "data": {
      "text/html": [
       "<table>\n",
       "<thead><tr><th></th><th scope=col>fit</th><th scope=col>lwr</th><th scope=col>upr</th></tr></thead>\n",
       "<tbody>\n",
       "\t<tr><th scope=row>1</th><td>24.46708</td><td>23.97308</td><td>24.96108</td></tr>\n",
       "</tbody>\n",
       "</table>\n"
      ],
      "text/latex": [
       "\\begin{tabular}{r|lll}\n",
       "  & fit & lwr & upr\\\\\n",
       "\\hline\n",
       "\t1 & 24.46708 & 23.97308 & 24.96108\\\\\n",
       "\\end{tabular}\n"
      ],
      "text/markdown": [
       "\n",
       "| <!--/--> | fit | lwr | upr | \n",
       "|---|\n",
       "| 1 | 24.46708 | 23.97308 | 24.96108 | \n",
       "\n",
       "\n"
      ],
      "text/plain": [
       "  fit      lwr      upr     \n",
       "1 24.46708 23.97308 24.96108"
      ]
     },
     "metadata": {},
     "output_type": "display_data"
    },
    {
     "name": "stdout",
     "output_type": "stream",
     "text": [
      "[1] \"The interval of prediction associated to this prediction is:\"\n"
     ]
    },
    {
     "data": {
      "text/html": [
       "<table>\n",
       "<thead><tr><th></th><th scope=col>fit</th><th scope=col>lwr</th><th scope=col>upr</th></tr></thead>\n",
       "<tbody>\n",
       "\t<tr><th scope=row>1</th><td>24.46708</td><td>14.8094 </td><td>34.12476</td></tr>\n",
       "</tbody>\n",
       "</table>\n"
      ],
      "text/latex": [
       "\\begin{tabular}{r|lll}\n",
       "  & fit & lwr & upr\\\\\n",
       "\\hline\n",
       "\t1 & 24.46708 & 14.8094  & 34.12476\\\\\n",
       "\\end{tabular}\n"
      ],
      "text/markdown": [
       "\n",
       "| <!--/--> | fit | lwr | upr | \n",
       "|---|\n",
       "| 1 | 24.46708 | 14.8094  | 34.12476 | \n",
       "\n",
       "\n"
      ],
      "text/plain": [
       "  fit      lwr     upr     \n",
       "1 24.46708 14.8094 34.12476"
      ]
     },
     "metadata": {},
     "output_type": "display_data"
    }
   ],
   "source": [
    "print('The error rate is:')\n",
    "100*summary(slrf)$sigma/mean(mpg)\n",
    "print('The percentage of contribution of horsepower in explaining mpg is:')\n",
    "100*summary(slrf)$r.squared\n",
    "print('Predicting mpg for horsepower of 98:')\n",
    "predict(slrf,data.frame(horsepower=98))\n",
    "print('The interval of confidence associated to this prediction is:')\n",
    "predict(slrf,data.frame(horsepower=98),interval = 'confidence')\n",
    "print('The interval of prediction associated to this prediction is:')\n",
    "predict(slrf,data.frame(horsepower=98),interval = 'prediction')"
   ]
  },
  {
   "cell_type": "code",
   "execution_count": 13,
   "metadata": {},
   "outputs": [
    {
     "data": {
      "image/png": "[encoded data removed]",
      "text/plain": [
       "plot without title"
      ]
     },
     "metadata": {},
     "output_type": "display_data"
    }
   ],
   "source": [
    "plot(horsepower,mpg,col='darkgoldenrod1',pch=20)\n",
    "abline(slrf,col='cornflowerblue',lwd=3)"
   ]
  },
  {
   "cell_type": "code",
   "execution_count": 15,
   "metadata": {},
   "outputs": [
    {
     "data": {
      "image/png": "[encoded data removed]",
      "text/plain": [
       "Plot with title \"\""
      ]
     },
     "metadata": {},
     "output_type": "display_data"
    }
   ],
   "source": [
    "par(mfrow=c(2,2))\n",
    "plot(slrf)"
   ]
  },
  {
   "cell_type": "markdown",
   "metadata": {},
   "source": [
    "From the first graphic Residuals Vs Fitted we notice signs of non linear relationship between predictor and response.\n",
    "\n",
    "From the Q-Q plot we the standarized residuals do not have a perfect normal distribution.\n",
    "\n",
    "We can also report having a number of data points with high leverage. But in the other hand we don't have much outliers. To make sure I'll draw two plots in the folowing cell to illustrate this more clearly. "
   ]
  },
  {
   "cell_type": "code",
   "execution_count": 30,
   "metadata": {},
   "outputs": [
    {
     "data": {
      "image/png": "[encoded data removed]",
      "text/plain": [
       "plot without title"
      ]
     },
     "metadata": {},
     "output_type": "display_data"
    }
   ],
   "source": [
    "plot(hatvalues(slrf),rstudent(slrf),col='darkgoldenrod1',pch=20)\n",
    "abline(3,0,col='cornflowerblue',lwd=3)\n",
    "abline(-3,0,col='cornflowerblue',lwd=3)\n",
    "abline(v=4*2/nrow(Auto),col='cornflowerblue',lwd=3)\n",
    "\n",
    "#The data points outside the (-3,3) are likely to be outliers, we only have 2 of them!\n",
    "#Are considered high leverage observation the ones for which the hatvalue calculated by the leverage statistic is greatly \n",
    "#higher than the average which of the leverage statistic which is (p+1)/n for p predictors. In our case 2/n. I will consider\n",
    "#greatly high than average as more than 4 times higher."
   ]
  },
  {
   "cell_type": "markdown",
   "metadata": {},
   "source": [
    "# Multiple linear regression:"
   ]
  },
  {
   "cell_type": "code",
   "execution_count": 31,
   "metadata": {},
   "outputs": [
    {
     "data": {
      "image/png": "[encoded data removed]",
      "text/plain": [
       "plot without title"
      ]
     },
     "metadata": {},
     "output_type": "display_data"
    }
   ],
   "source": [
    "#Scaterplots\n",
    "pairs(Auto)"
   ]
  },
  {
   "cell_type": "code",
   "execution_count": 39,
   "metadata": {},
   "outputs": [
    {
     "data": {
      "text/html": [
       "<table>\n",
       "<thead><tr><th></th><th scope=col>mpg</th><th scope=col>cylinders</th><th scope=col>displacement</th><th scope=col>horsepower</th><th scope=col>weight</th><th scope=col>acceleration</th><th scope=col>year</th><th scope=col>origin</th></tr></thead>\n",
       "<tbody>\n",
       "\t<tr><th scope=row>mpg</th><td> 1.0000000</td><td>-0.7776175</td><td>-0.8051269</td><td>-0.7784268</td><td>-0.8322442</td><td> 0.4233285</td><td> 0.5805410</td><td> 0.5652088</td></tr>\n",
       "\t<tr><th scope=row>cylinders</th><td>-0.7776175</td><td> 1.0000000</td><td> 0.9508233</td><td> 0.8429834</td><td> 0.8975273</td><td>-0.5046834</td><td>-0.3456474</td><td>-0.5689316</td></tr>\n",
       "\t<tr><th scope=row>displacement</th><td>-0.8051269</td><td> 0.9508233</td><td> 1.0000000</td><td> 0.8972570</td><td> 0.9329944</td><td>-0.5438005</td><td>-0.3698552</td><td>-0.6145351</td></tr>\n",
       "\t<tr><th scope=row>horsepower</th><td>-0.7784268</td><td> 0.8429834</td><td> 0.8972570</td><td> 1.0000000</td><td> 0.8645377</td><td>-0.6891955</td><td>-0.4163615</td><td>-0.4551715</td></tr>\n",
       "\t<tr><th scope=row>weight</th><td>-0.8322442</td><td> 0.8975273</td><td> 0.9329944</td><td> 0.8645377</td><td> 1.0000000</td><td>-0.4168392</td><td>-0.3091199</td><td>-0.5850054</td></tr>\n",
       "\t<tr><th scope=row>acceleration</th><td> 0.4233285</td><td>-0.5046834</td><td>-0.5438005</td><td>-0.6891955</td><td>-0.4168392</td><td> 1.0000000</td><td> 0.2903161</td><td> 0.2127458</td></tr>\n",
       "\t<tr><th scope=row>year</th><td> 0.5805410</td><td>-0.3456474</td><td>-0.3698552</td><td>-0.4163615</td><td>-0.3091199</td><td> 0.2903161</td><td> 1.0000000</td><td> 0.1815277</td></tr>\n",
       "\t<tr><th scope=row>origin</th><td> 0.5652088</td><td>-0.5689316</td><td>-0.6145351</td><td>-0.4551715</td><td>-0.5850054</td><td> 0.2127458</td><td> 0.1815277</td><td> 1.0000000</td></tr>\n",
       "</tbody>\n",
       "</table>\n"
      ],
      "text/latex": [
       "\\begin{tabular}{r|llllllll}\n",
       "  & mpg & cylinders & displacement & horsepower & weight & acceleration & year & origin\\\\\n",
       "\\hline\n",
       "\tmpg &  1.0000000 & -0.7776175 & -0.8051269 & -0.7784268 & -0.8322442 &  0.4233285 &  0.5805410 &  0.5652088\\\\\n",
       "\tcylinders & -0.7776175 &  1.0000000 &  0.9508233 &  0.8429834 &  0.8975273 & -0.5046834 & -0.3456474 & -0.5689316\\\\\n",
       "\tdisplacement & -0.8051269 &  0.9508233 &  1.0000000 &  0.8972570 &  0.9329944 & -0.5438005 & -0.3698552 & -0.6145351\\\\\n",
       "\thorsepower & -0.7784268 &  0.8429834 &  0.8972570 &  1.0000000 &  0.8645377 & -0.6891955 & -0.4163615 & -0.4551715\\\\\n",
       "\tweight & -0.8322442 &  0.8975273 &  0.9329944 &  0.8645377 &  1.0000000 & -0.4168392 & -0.3091199 & -0.5850054\\\\\n",
       "\tacceleration &  0.4233285 & -0.5046834 & -0.5438005 & -0.6891955 & -0.4168392 &  1.0000000 &  0.2903161 &  0.2127458\\\\\n",
       "\tyear &  0.5805410 & -0.3456474 & -0.3698552 & -0.4163615 & -0.3091199 &  0.2903161 &  1.0000000 &  0.1815277\\\\\n",
       "\torigin &  0.5652088 & -0.5689316 & -0.6145351 & -0.4551715 & -0.5850054 &  0.2127458 &  0.1815277 &  1.0000000\\\\\n",
       "\\end{tabular}\n"
      ],
      "text/markdown": [
       "\n",
       "| <!--/--> | mpg | cylinders | displacement | horsepower | weight | acceleration | year | origin | \n",
       "|---|---|---|---|---|---|---|---|\n",
       "| mpg |  1.0000000 | -0.7776175 | -0.8051269 | -0.7784268 | -0.8322442 |  0.4233285 |  0.5805410 |  0.5652088 | \n",
       "| cylinders | -0.7776175 |  1.0000000 |  0.9508233 |  0.8429834 |  0.8975273 | -0.5046834 | -0.3456474 | -0.5689316 | \n",
       "| displacement | -0.8051269 |  0.9508233 |  1.0000000 |  0.8972570 |  0.9329944 | -0.5438005 | -0.3698552 | -0.6145351 | \n",
       "| horsepower | -0.7784268 |  0.8429834 |  0.8972570 |  1.0000000 |  0.8645377 | -0.6891955 | -0.4163615 | -0.4551715 | \n",
       "| weight | -0.8322442 |  0.8975273 |  0.9329944 |  0.8645377 |  1.0000000 | -0.4168392 | -0.3091199 | -0.5850054 | \n",
       "| acceleration |  0.4233285 | -0.5046834 | -0.5438005 | -0.6891955 | -0.4168392 |  1.0000000 |  0.2903161 |  0.2127458 | \n",
       "| year |  0.5805410 | -0.3456474 | -0.3698552 | -0.4163615 | -0.3091199 |  0.2903161 |  1.0000000 |  0.1815277 | \n",
       "| origin |  0.5652088 | -0.5689316 | -0.6145351 | -0.4551715 | -0.5850054 |  0.2127458 |  0.1815277 |  1.0000000 | \n",
       "\n",
       "\n"
      ],
      "text/plain": [
       "             mpg        cylinders  displacement horsepower weight    \n",
       "mpg           1.0000000 -0.7776175 -0.8051269   -0.7784268 -0.8322442\n",
       "cylinders    -0.7776175  1.0000000  0.9508233    0.8429834  0.8975273\n",
       "displacement -0.8051269  0.9508233  1.0000000    0.8972570  0.9329944\n",
       "horsepower   -0.7784268  0.8429834  0.8972570    1.0000000  0.8645377\n",
       "weight       -0.8322442  0.8975273  0.9329944    0.8645377  1.0000000\n",
       "acceleration  0.4233285 -0.5046834 -0.5438005   -0.6891955 -0.4168392\n",
       "year          0.5805410 -0.3456474 -0.3698552   -0.4163615 -0.3091199\n",
       "origin        0.5652088 -0.5689316 -0.6145351   -0.4551715 -0.5850054\n",
       "             acceleration year       origin    \n",
       "mpg           0.4233285    0.5805410  0.5652088\n",
       "cylinders    -0.5046834   -0.3456474 -0.5689316\n",
       "displacement -0.5438005   -0.3698552 -0.6145351\n",
       "horsepower   -0.6891955   -0.4163615 -0.4551715\n",
       "weight       -0.4168392   -0.3091199 -0.5850054\n",
       "acceleration  1.0000000    0.2903161  0.2127458\n",
       "year          0.2903161    1.0000000  0.1815277\n",
       "origin        0.2127458    0.1815277  1.0000000"
      ]
     },
     "metadata": {},
     "output_type": "display_data"
    }
   ],
   "source": [
    "cor(subset(Auto,select=-name))"
   ]
  },
  {
   "cell_type": "code",
   "execution_count": 43,
   "metadata": {},
   "outputs": [
    {
     "data": {
      "text/plain": [
       "\n",
       "Call:\n",
       "lm(formula = mpg ~ ., data = auto)\n",
       "\n",
       "Residuals:\n",
       "    Min      1Q  Median      3Q     Max \n",
       "-9.5903 -2.1565 -0.1169  1.8690 13.0604 \n",
       "\n",
       "Coefficients:\n",
       "               Estimate Std. Error t value Pr(>|t|)    \n",
       "(Intercept)  -17.218435   4.644294  -3.707  0.00024 ***\n",
       "cylinders     -0.493376   0.323282  -1.526  0.12780    \n",
       "displacement   0.019896   0.007515   2.647  0.00844 ** \n",
       "horsepower    -0.016951   0.013787  -1.230  0.21963    \n",
       "weight        -0.006474   0.000652  -9.929  < 2e-16 ***\n",
       "acceleration   0.080576   0.098845   0.815  0.41548    \n",
       "year           0.750773   0.050973  14.729  < 2e-16 ***\n",
       "origin         1.426141   0.278136   5.127 4.67e-07 ***\n",
       "---\n",
       "Signif. codes:  0 '***' 0.001 '**' 0.01 '*' 0.05 '.' 0.1 ' ' 1\n",
       "\n",
       "Residual standard error: 3.328 on 384 degrees of freedom\n",
       "Multiple R-squared:  0.8215,\tAdjusted R-squared:  0.8182 \n",
       "F-statistic: 252.4 on 7 and 384 DF,  p-value: < 2.2e-16\n"
      ]
     },
     "metadata": {},
     "output_type": "display_data"
    }
   ],
   "source": [
    "auto=subset(Auto,select=-name)\n",
    "mlrf=lm(mpg~.,data=auto)\n",
    "summary(mlrf)"
   ]
  },
  {
   "cell_type": "markdown",
   "metadata": {},
   "source": [
    "i- We have predictors that yielded small p-value inicating a significant relationship with the reponse, and others predictors for which we fail to reject the null hypothesis and thus are insignificant for predicting the response mpg.\n",
    "\n",
    "\n",
    "ii-displacement,weight,year and origin seem to statisticaly have a significant relationship to mpg.\n",
    "\n",
    "\n",
    "iii- The coefficient of year since positive and significant indicates that mpg increase by the year, which means through the years the industry is making vehicules that have more mpg ration. Which is a logical result.\n"
   ]
  },
  {
   "cell_type": "code",
   "execution_count": 45,
   "metadata": {},
   "outputs": [
    {
     "data": {
      "image/png": "[encoded data removed]",
      "text/plain": [
       "Plot with title \"\""
      ]
     },
     "metadata": {},
     "output_type": "display_data"
    }
   ],
   "source": [
    "par(mfrow=c(2,2))\n",
    "plot(mlrf)"
   ]
  },
  {
   "cell_type": "markdown",
   "metadata": {},
   "source": [
    "The plots indicate a non-linear relationship since the residuals seems to have a certain pattern.\n",
    "\n",
    "\n",
    "Also Q-Q plots indicate that the residuals follow a normal distribution except for some points which are suspect of being outliers. \n",
    "\n",
    "\n",
    "For high leverage points it seems to be that we don't have data points with unusual x values.\n",
    "\n",
    "I will draw my own plot now to confirm results!\n"
   ]
  },
  {
   "cell_type": "code",
   "execution_count": 47,
   "metadata": {},
   "outputs": [
    {
     "data": {
      "image/png": "[encoded data removed]",
      "text/plain": [
       "plot without title"
      ]
     },
     "metadata": {},
     "output_type": "display_data"
    }
   ],
   "source": [
    "plot(hatvalues(mlrf),rstudent(mlrf),col='darkgoldenrod1',pch=20)\n",
    "abline(3,0,col='cornflowerblue',lwd=3)\n",
    "abline(-3,0,col='cornflowerblue',lwd=3)\n",
    "abline(v=4*8/nrow(Auto),col='cornflowerblue',lwd=3)\n",
    "\n",
    "# As you can see we have 4-6 outliers and 2 high leverage data points, and luckly no combinaison of the two of them! "
   ]
  },
  {
   "cell_type": "markdown",
   "metadata": {},
   "source": [
    "The correlation matrix suggest strong relationships between predictors so we have a situation of collinearity that acctualy what explains that now horsepower is insignificant while it was significant for SLR model. The thing is that with collinearity we cannot distinguish the individual contributions of the predictors and fail to reject the null hypothesis for some predictors. Although since correlated these predictors have the same information about the response so we only remove these predictors representing redundant information."
   ]
  },
  {
   "cell_type": "code",
   "execution_count": 50,
   "metadata": {},
   "outputs": [
    {
     "data": {
      "text/plain": [
       "\n",
       "Call:\n",
       "lm(formula = mpg ~ displacement + weight + origin + year, data = Auto)\n",
       "\n",
       "Residuals:\n",
       "    Min      1Q  Median      3Q     Max \n",
       "-9.8102 -2.1129 -0.0388  1.7725 13.2085 \n",
       "\n",
       "Coefficients:\n",
       "               Estimate Std. Error t value Pr(>|t|)    \n",
       "(Intercept)  -1.861e+01  4.028e+00  -4.620 5.25e-06 ***\n",
       "displacement  5.588e-03  4.768e-03   1.172    0.242    \n",
       "weight       -6.575e-03  5.571e-04 -11.802  < 2e-16 ***\n",
       "origin        1.226e+00  2.670e-01   4.593 5.92e-06 ***\n",
       "year          7.714e-01  4.981e-02  15.486  < 2e-16 ***\n",
       "---\n",
       "Signif. codes:  0 '***' 0.001 '**' 0.01 '*' 0.05 '.' 0.1 ' ' 1\n",
       "\n",
       "Residual standard error: 3.346 on 387 degrees of freedom\n",
       "Multiple R-squared:  0.8181,\tAdjusted R-squared:  0.8162 \n",
       "F-statistic: 435.1 on 4 and 387 DF,  p-value: < 2.2e-16\n"
      ]
     },
     "metadata": {},
     "output_type": "display_data"
    }
   ],
   "source": [
    "mlrf1=lm(mpg~displacement+weight+origin+year,data=Auto)\n",
    "summary(mlrf1)"
   ]
  },
  {
   "cell_type": "code",
   "execution_count": 66,
   "metadata": {},
   "outputs": [
    {
     "data": {
      "text/plain": [
       "\n",
       "Call:\n",
       "lm(formula = mpg ~ weight + origin + year, data = Auto)\n",
       "\n",
       "Residuals:\n",
       "    Min      1Q  Median      3Q     Max \n",
       "-9.9440 -2.0948 -0.0389  1.7255 13.2722 \n",
       "\n",
       "Coefficients:\n",
       "              Estimate Std. Error t value Pr(>|t|)    \n",
       "(Intercept) -1.805e+01  4.001e+00  -4.510 8.60e-06 ***\n",
       "weight      -5.994e-03  2.541e-04 -23.588  < 2e-16 ***\n",
       "origin       1.150e+00  2.591e-01   4.439 1.18e-05 ***\n",
       "year         7.571e-01  4.832e-02  15.668  < 2e-16 ***\n",
       "---\n",
       "Signif. codes:  0 '***' 0.001 '**' 0.01 '*' 0.05 '.' 0.1 ' ' 1\n",
       "\n",
       "Residual standard error: 3.348 on 388 degrees of freedom\n",
       "Multiple R-squared:  0.8175,\tAdjusted R-squared:  0.816 \n",
       "F-statistic: 579.2 on 3 and 388 DF,  p-value: < 2.2e-16\n"
      ]
     },
     "metadata": {},
     "output_type": "display_data"
    },
    {
     "data": {
      "text/plain": [
       "\n",
       "Call:\n",
       "lm(formula = mpg ~ weight * origin + weight * year + origin * \n",
       "    year, data = Auto)\n",
       "\n",
       "Residuals:\n",
       "    Min      1Q  Median      3Q     Max \n",
       "-9.3861 -1.7991 -0.2057  1.4539 12.0334 \n",
       "\n",
       "Coefficients:\n",
       "                Estimate Std. Error t value Pr(>|t|)    \n",
       "(Intercept)   -1.046e+02  2.068e+01  -5.055 6.65e-07 ***\n",
       "weight         2.445e-02  5.221e-03   4.683 3.92e-06 ***\n",
       "origin         4.737e+00  5.116e+00   0.926  0.35506    \n",
       "year           1.864e+00  2.747e-01   6.784 4.43e-11 ***\n",
       "weight:origin -1.483e-03  4.755e-04  -3.119  0.00195 ** \n",
       "weight:year   -3.862e-04  7.103e-05  -5.437 9.65e-08 ***\n",
       "origin:year   -4.213e-03  6.566e-02  -0.064  0.94887    \n",
       "---\n",
       "Signif. codes:  0 '***' 0.001 '**' 0.01 '*' 0.05 '.' 0.1 ' ' 1\n",
       "\n",
       "Residual standard error: 3.11 on 385 degrees of freedom\n",
       "Multiple R-squared:  0.8437,\tAdjusted R-squared:  0.8413 \n",
       "F-statistic: 346.3 on 6 and 385 DF,  p-value: < 2.2e-16\n"
      ]
     },
     "metadata": {},
     "output_type": "display_data"
    },
    {
     "data": {
      "text/plain": [
       "\n",
       "Call:\n",
       "lm(formula = mpg ~ I(log(weight)) + I(log(origin)) + I(log(year)), \n",
       "    data = Auto)\n",
       "\n",
       "Residuals:\n",
       "    Min      1Q  Median      3Q     Max \n",
       "-9.9298 -2.0228 -0.0206  1.6119 13.1496 \n",
       "\n",
       "Coefficients:\n",
       "               Estimate Std. Error t value Pr(>|t|)    \n",
       "(Intercept)    -80.2021    17.1444  -4.678 4.01e-06 ***\n",
       "I(log(weight)) -19.0831     0.7406 -25.765  < 2e-16 ***\n",
       "I(log(origin))   1.4299     0.4417   3.237  0.00131 ** \n",
       "I(log(year))    58.9116     3.4076  17.288  < 2e-16 ***\n",
       "---\n",
       "Signif. codes:  0 '***' 0.001 '**' 0.01 '*' 0.05 '.' 0.1 ' ' 1\n",
       "\n",
       "Residual standard error: 3.135 on 388 degrees of freedom\n",
       "Multiple R-squared:  0.8399,\tAdjusted R-squared:  0.8387 \n",
       "F-statistic: 678.4 on 3 and 388 DF,  p-value: < 2.2e-16\n"
      ]
     },
     "metadata": {},
     "output_type": "display_data"
    },
    {
     "data": {
      "text/plain": [
       "\n",
       "Call:\n",
       "lm(formula = mpg ~ poly(weight, 2) + poly(origin, 2) + poly(year, \n",
       "    2), data = Auto)\n",
       "\n",
       "Residuals:\n",
       "   Min     1Q Median     3Q    Max \n",
       "-9.077 -1.628  0.045  1.457 12.996 \n",
       "\n",
       "Coefficients:\n",
       "                  Estimate Std. Error t value Pr(>|t|)    \n",
       "(Intercept)        23.4459     0.1463 160.229  < 2e-16 ***\n",
       "poly(weight, 2)1 -100.6436     3.8471 -26.161  < 2e-16 ***\n",
       "poly(weight, 2)2   29.3866     3.0594   9.605  < 2e-16 ***\n",
       "poly(origin, 2)1    9.9958     3.7489   2.666  0.00799 ** \n",
       "poly(origin, 2)2   -8.3782     3.0007  -2.792  0.00550 ** \n",
       "poly(year, 2)1     61.7015     3.1205  19.773  < 2e-16 ***\n",
       "poly(year, 2)2     16.1691     2.9340   5.511 6.55e-08 ***\n",
       "---\n",
       "Signif. codes:  0 '***' 0.001 '**' 0.01 '*' 0.05 '.' 0.1 ' ' 1\n",
       "\n",
       "Residual standard error: 2.897 on 385 degrees of freedom\n",
       "Multiple R-squared:  0.8643,\tAdjusted R-squared:  0.8622 \n",
       "F-statistic: 408.8 on 6 and 385 DF,  p-value: < 2.2e-16\n"
      ]
     },
     "metadata": {},
     "output_type": "display_data"
    }
   ],
   "source": [
    "#Now displacement is insignificant!\n",
    "mlrf2=lm(mpg~weight+origin+year,data=Auto)\n",
    "summary(mlrf2)\n",
    "#Now let's include include interractions terms, to cover any synergies within predictors.\n",
    "mlrf3=lm(mpg~weight*origin+weight*year+origin*year,data=Auto)\n",
    "summary(mlrf3)\n",
    "#Now let's include modifications on the predictors to cover the non-linearity of the relationship\n",
    "mlrf4=lm(mpg~I(log(weight))+I(log(origin))+I(log(year)),data=Auto)\n",
    "summary(mlrf4)\n",
    "mlrf5=lm(mpg~poly(weight,2)+poly(origin,2)+poly(year,2),data=Auto)\n",
    "summary(mlrf5)"
   ]
  },
  {
   "cell_type": "markdown",
   "metadata": {},
   "source": [
    "As we move towards a non-linear predictors we get better R-squared and less error rate, although we must keep in mind this is only the training error and judging the quality of the model from it is certainly biased."
   ]
  },
  {
   "cell_type": "code",
   "execution_count": 96,
   "metadata": {},
   "outputs": [
    {
     "data": {
      "text/html": [
       "<ol class=list-inline>\n",
       "\t<li>'call'</li>\n",
       "\t<li>'terms'</li>\n",
       "\t<li>'residuals'</li>\n",
       "\t<li>'coefficients'</li>\n",
       "\t<li>'aliased'</li>\n",
       "\t<li>'sigma'</li>\n",
       "\t<li>'df'</li>\n",
       "\t<li>'r.squared'</li>\n",
       "\t<li>'adj.r.squared'</li>\n",
       "\t<li>'fstatistic'</li>\n",
       "\t<li>'cov.unscaled'</li>\n",
       "</ol>\n"
      ],
      "text/latex": [
       "\\begin{enumerate*}\n",
       "\\item 'call'\n",
       "\\item 'terms'\n",
       "\\item 'residuals'\n",
       "\\item 'coefficients'\n",
       "\\item 'aliased'\n",
       "\\item 'sigma'\n",
       "\\item 'df'\n",
       "\\item 'r.squared'\n",
       "\\item 'adj.r.squared'\n",
       "\\item 'fstatistic'\n",
       "\\item 'cov.unscaled'\n",
       "\\end{enumerate*}\n"
      ],
      "text/markdown": [
       "1. 'call'\n",
       "2. 'terms'\n",
       "3. 'residuals'\n",
       "4. 'coefficients'\n",
       "5. 'aliased'\n",
       "6. 'sigma'\n",
       "7. 'df'\n",
       "8. 'r.squared'\n",
       "9. 'adj.r.squared'\n",
       "10. 'fstatistic'\n",
       "11. 'cov.unscaled'\n",
       "\n",
       "\n"
      ],
      "text/plain": [
       " [1] \"call\"          \"terms\"         \"residuals\"     \"coefficients\" \n",
       " [5] \"aliased\"       \"sigma\"         \"df\"            \"r.squared\"    \n",
       " [9] \"adj.r.squared\" \"fstatistic\"    \"cov.unscaled\" "
      ]
     },
     "metadata": {},
     "output_type": "display_data"
    }
   ],
   "source": [
    "names(summary(mlrf))"
   ]
  },
  {
   "cell_type": "code",
   "execution_count": 120,
   "metadata": {},
   "outputs": [
    {
     "data": {
      "text/html": [
       "<table>\n",
       "<thead><tr><th scope=col>Model</th><th scope=col>Predictors</th><th scope=col>R.squared</th><th scope=col>RSE</th><th scope=col>Error</th></tr></thead>\n",
       "<tbody>\n",
       "\t<tr><td>1                                                                </td><td>lm, mpg ~ displacement + weight + origin + year, Auto            </td><td>0.8180977                                                        </td><td>3.345995                                                         </td><td>14.27112                                                         </td></tr>\n",
       "\t<tr><td>2                                                                </td><td>lm, mpg ~ weight + origin + year, Auto                           </td><td>0.8174522                                                        </td><td>3.347605                                                         </td><td>14.27798                                                         </td></tr>\n",
       "\t<tr><td>3                                                                </td><td>lm, mpg ~ weight * origin + weight * year + origin * year, Auto  </td><td>0.8436896                                                        </td><td>3.109748                                                         </td><td>13.26350                                                         </td></tr>\n",
       "\t<tr><td>4                                                                </td><td>lm, mpg ~ I(log(weight)) + I(log(origin)) + I(log(year)), Auto   </td><td>0.8398884                                                        </td><td>3.135142                                                         </td><td>13.37181                                                         </td></tr>\n",
       "\t<tr><td>5                                                                </td><td>lm, mpg ~ poly(weight, 2) + poly(origin, 2) + poly(year, 2), Auto</td><td>0.8643326                                                        </td><td>2.897138                                                         </td><td>12.35668                                                         </td></tr>\n",
       "</tbody>\n",
       "</table>\n"
      ],
      "text/latex": [
       "\\begin{tabular}{r|lllll}\n",
       " Model & Predictors & R.squared & RSE & Error\\\\\n",
       "\\hline\n",
       "\t 1                                                                                  & lm, mpg \\textasciitilde{} displacement + weight + origin + year, Auto             & 0.8180977                                                                          & 3.345995                                                                           & 14.27112                                                                          \\\\\n",
       "\t 2                                                                                  & lm, mpg \\textasciitilde{} weight + origin + year, Auto                            & 0.8174522                                                                          & 3.347605                                                                           & 14.27798                                                                          \\\\\n",
       "\t 3                                                                                  & lm, mpg \\textasciitilde{} weight * origin + weight * year + origin * year, Auto   & 0.8436896                                                                          & 3.109748                                                                           & 13.26350                                                                          \\\\\n",
       "\t 4                                                                                  & lm, mpg \\textasciitilde{} I(log(weight)) + I(log(origin)) + I(log(year)), Auto    & 0.8398884                                                                          & 3.135142                                                                           & 13.37181                                                                          \\\\\n",
       "\t 5                                                                                  & lm, mpg \\textasciitilde{} poly(weight, 2) + poly(origin, 2) + poly(year, 2), Auto & 0.8643326                                                                          & 2.897138                                                                           & 12.35668                                                                          \\\\\n",
       "\\end{tabular}\n"
      ],
      "text/markdown": [
       "\n",
       "Model | Predictors | R.squared | RSE | Error | \n",
       "|---|---|---|---|---|\n",
       "| 1                                                                 | lm, mpg ~ displacement + weight + origin + year, Auto             | 0.8180977                                                         | 3.345995                                                          | 14.27112                                                          | \n",
       "| 2                                                                 | lm, mpg ~ weight + origin + year, Auto                            | 0.8174522                                                         | 3.347605                                                          | 14.27798                                                          | \n",
       "| 3                                                                 | lm, mpg ~ weight * origin + weight * year + origin * year, Auto   | 0.8436896                                                         | 3.109748                                                          | 13.26350                                                          | \n",
       "| 4                                                                 | lm, mpg ~ I(log(weight)) + I(log(origin)) + I(log(year)), Auto    | 0.8398884                                                         | 3.135142                                                          | 13.37181                                                          | \n",
       "| 5                                                                 | lm, mpg ~ poly(weight, 2) + poly(origin, 2) + poly(year, 2), Auto | 0.8643326                                                         | 2.897138                                                          | 12.35668                                                          | \n",
       "\n",
       "\n"
      ],
      "text/plain": [
       "  Model Predictors                                                       \n",
       "1 1     lm, mpg ~ displacement + weight + origin + year, Auto            \n",
       "2 2     lm, mpg ~ weight + origin + year, Auto                           \n",
       "3 3     lm, mpg ~ weight * origin + weight * year + origin * year, Auto  \n",
       "4 4     lm, mpg ~ I(log(weight)) + I(log(origin)) + I(log(year)), Auto   \n",
       "5 5     lm, mpg ~ poly(weight, 2) + poly(origin, 2) + poly(year, 2), Auto\n",
       "  R.squared RSE      Error   \n",
       "1 0.8180977 3.345995 14.27112\n",
       "2 0.8174522 3.347605 14.27798\n",
       "3 0.8436896 3.109748 13.26350\n",
       "4 0.8398884 3.135142 13.37181\n",
       "5 0.8643326 2.897138 12.35668"
      ]
     },
     "metadata": {},
     "output_type": "display_data"
    }
   ],
   "source": [
    "models=list(mlrf1,mlrf2,mlrf3,mlrf4,mlrf5)\n",
    "pred=list()\n",
    "r=list()\n",
    "rse=list()\n",
    "error=list()\n",
    "for (model in models) {\n",
    "    pred=append(pred,toString(summary(model)$call))\n",
    "    r=append(r,summary(model)$r.squared)\n",
    "    rse=append(rse,summary(model)$sigma) \n",
    "    #error=append(error,)\n",
    "}\n",
    "pred=unlist(pred)\n",
    "r=unlist(r)\n",
    "rse=unlist(rse)\n",
    "results=data.frame(\"Model\"=1:5,\"Predictors\"=pred,\"R-squared\"=r,\"RSE\"=rse,'Error'=100*rse/mean(mpg))\n",
    "results"
   ]
  },
  {
   "cell_type": "markdown",
   "metadata": {},
   "source": [
    "# 11-"
   ]
  },
  {
   "cell_type": "code",
   "execution_count": 144,
   "metadata": {},
   "outputs": [],
   "source": [
    "set.seed(1)\n",
    "x=rnorm(100)\n",
    "y=2*x+rnorm(100)"
   ]
  },
  {
   "cell_type": "code",
   "execution_count": 146,
   "metadata": {},
   "outputs": [
    {
     "data": {
      "text/plain": [
       "\n",
       "Call:\n",
       "lm(formula = y ~ x + 0)\n",
       "\n",
       "Residuals:\n",
       "    Min      1Q  Median      3Q     Max \n",
       "-1.9154 -0.6472 -0.1771  0.5056  2.3109 \n",
       "\n",
       "Coefficients:\n",
       "  Estimate Std. Error t value Pr(>|t|)    \n",
       "x   1.9939     0.1065   18.73   <2e-16 ***\n",
       "---\n",
       "Signif. codes:  0 '***' 0.001 '**' 0.01 '*' 0.05 '.' 0.1 ' ' 1\n",
       "\n",
       "Residual standard error: 0.9586 on 99 degrees of freedom\n",
       "Multiple R-squared:  0.7798,\tAdjusted R-squared:  0.7776 \n",
       "F-statistic: 350.7 on 1 and 99 DF,  p-value: < 2.2e-16\n"
      ]
     },
     "metadata": {},
     "output_type": "display_data"
    }
   ],
   "source": [
    "slrwi1=lm(y~x+0)\n",
    "summary(slrwi1)"
   ]
  },
  {
   "cell_type": "markdown",
   "metadata": {},
   "source": [
    "We have an estimate for beta equal to 1,9939 really close to the actual value 2. The p-value corresponding to null hypothesis is almost so the relationship as we know exists and we reject the null hypothesis. R squared is 0,7798 is a little lower than you would expect but it's high enough the RSE is small and equal to 0,9586."
   ]
  },
  {
   "cell_type": "code",
   "execution_count": 147,
   "metadata": {},
   "outputs": [
    {
     "data": {
      "text/plain": [
       "\n",
       "Call:\n",
       "lm(formula = x ~ y + 0)\n",
       "\n",
       "Residuals:\n",
       "    Min      1Q  Median      3Q     Max \n",
       "-0.8699 -0.2368  0.1030  0.2858  0.8938 \n",
       "\n",
       "Coefficients:\n",
       "  Estimate Std. Error t value Pr(>|t|)    \n",
       "y  0.39111    0.02089   18.73   <2e-16 ***\n",
       "---\n",
       "Signif. codes:  0 '***' 0.001 '**' 0.01 '*' 0.05 '.' 0.1 ' ' 1\n",
       "\n",
       "Residual standard error: 0.4246 on 99 degrees of freedom\n",
       "Multiple R-squared:  0.7798,\tAdjusted R-squared:  0.7776 \n",
       "F-statistic: 350.7 on 1 and 99 DF,  p-value: < 2.2e-16\n"
      ]
     },
     "metadata": {},
     "output_type": "display_data"
    }
   ],
   "source": [
    "slrwi2=lm(x~y+0)\n",
    "summary(slrwi2)"
   ]
  },
  {
   "cell_type": "markdown",
   "metadata": {},
   "source": [
    "We can say the exact same thing about the reverse regression, but instead in this situation beta actual value would be 0,5 and we will try to estimate that by least squares the estimate is 0,391 which is off by 0,1, worst estimate than for y~x coefficient. \n",
    "\n",
    "\n",
    "c- We trying to modelize the same problem first $y=2*x+\\varepsilon$  and after $x=0,5*(y-\\varepsilon)$ instead. "
   ]
  },
  {
   "cell_type": "markdown",
   "metadata": {},
   "source": [
    "d- For simple linear regression without intercept we have: \n",
    "         $SE(\\hat{\\beta})=\\sqrt{\\frac{\\sum_{i=1}^{n}(y_i-\\hat{\\beta} x_i)^2}{(n-1)\\sum_{i=1}^{n}x_i^2}}$ and $\\hat{\\beta}=\\frac{\\sum_{i=1}^{n}y_ix_i}{\\sum_{i=1}^{n}x_i^2}$\n",
    "  \n",
    "  \n",
    "  $t=\\frac{\\hat\\beta}{SE(\\hat{\\beta})}$ \n",
    "  \n",
    "  $t=\\frac{\\sum_{i=1}^{n}y_ix_i}{\\sum_{i=1}^{n}x_i^2} \\sqrt{\\frac{(n-1)\\sum_{i=1}^{n}x_i^2}{\\sum_{i=1}^{n}(y_i-\\hat{\\beta} x_i)^2}}$ \n",
    "  \n",
    "  $t=\\frac{\\sqrt{n-1}\\sum_{i=1}^{n}y_ix_i}{\\sqrt{\\sum_{i=1}^{n}x_i^2(\\sum_{i=1}^{n}y_i^2-2\\hat{\\beta}\\sum_{i=1}^{n}y_ix_i+\\hat{\\beta}^2\\sum_{i=1}^{n}x_i^2)}}$\n",
    "\n",
    "Let A be: \n",
    "\n",
    "$A=\\sum_{i=1}^{n}x_i^2(\\sum_{i=1}^{n}y_i^2-2\\hat{\\beta}\\sum_{i=1}^{n}y_ix_i+\\hat{\\beta}^2\\sum_{i=1}^{n}x_i^2)$\n",
    "\n",
    "then:\n",
    "\n",
    "$A=(\\sum_{i=1}^{n}x_i^2)(\\sum_{i=1}^{n}y_i^2)-2\\frac{\\sum_{i=1}^{n}y_ix_i}{\\sum_{i=1}^{n}x_i^2}\\sum_{i=1}^{n}y_ix_i\\sum_{i=1}^{n}x_i^2+(\\frac{\\sum_{i=1}^{n}y_ix_i}{\\sum_{i=1}^{n}x_i^2})^2(\\sum_{i=1}^{n}x_i^2)^2$\n",
    "\n",
    "it is finally simple to get to:\n",
    "\n",
    "$A=(\\sum_{i=1}^{n}x_i^2)(\\sum_{i=1}^{n}y_i^2)-(\\sum_{i=1}^{n}y_ix_i)^2$\n",
    "  \n",
    "And we conclude that: \n",
    "\n",
    "$t=\\frac{\\sqrt{n-1}\\sum_{i=1}^{n}y_ix_i}{\\sqrt{A}}=\\frac{\\sqrt{n-1}\\sum_{i=1}^{n}y_ix_i}{\\sqrt{(\\sum_{i=1}^{n}x_i^2)(\\sum_{i=1}^{n}y_i^2)-(\\sum_{i=1}^{n}y_ix_i)^2}}$\n",
    "  \n"
   ]
  },
  {
   "cell_type": "code",
   "execution_count": 149,
   "metadata": {},
   "outputs": [
    {
     "data": {
      "text/html": [
       "100"
      ],
      "text/latex": [
       "100"
      ],
      "text/markdown": [
       "100"
      ],
      "text/plain": [
       "[1] 100"
      ]
     },
     "metadata": {},
     "output_type": "display_data"
    },
    {
     "data": {
      "text/html": [
       "100"
      ],
      "text/latex": [
       "100"
      ],
      "text/markdown": [
       "100"
      ],
      "text/plain": [
       "[1] 100"
      ]
     },
     "metadata": {},
     "output_type": "display_data"
    },
    {
     "name": "stdout",
     "output_type": "stream",
     "text": [
      "[1] 18.72593\n"
     ]
    }
   ],
   "source": [
    "#let's compare t-values for both models, well by inspecting formula more closely you will notice we'll have same t-value for both models:\n",
    "length(x)\n",
    "length(y)\n",
    "t=sqrt(length(x)-1)*sum(y*x)/sqrt(sum(x^2)*sum(y^2)-(sum(y*x))^2)\n",
    "print(t)\n",
    "#We get the same result as both models."
   ]
  },
  {
   "cell_type": "markdown",
   "metadata": {},
   "source": [
    "(e) We just proved that algebraically and in R.\n",
    "\n",
    "(f) Let's prove the last result for SLR with intercept."
   ]
  },
  {
   "cell_type": "code",
   "execution_count": 151,
   "metadata": {},
   "outputs": [
    {
     "data": {
      "text/plain": [
       "\n",
       "Call:\n",
       "lm(formula = y ~ x)\n",
       "\n",
       "Residuals:\n",
       "    Min      1Q  Median      3Q     Max \n",
       "-1.8768 -0.6138 -0.1395  0.5394  2.3462 \n",
       "\n",
       "Coefficients:\n",
       "            Estimate Std. Error t value Pr(>|t|)    \n",
       "(Intercept) -0.03769    0.09699  -0.389    0.698    \n",
       "x            1.99894    0.10773  18.556   <2e-16 ***\n",
       "---\n",
       "Signif. codes:  0 '***' 0.001 '**' 0.01 '*' 0.05 '.' 0.1 ' ' 1\n",
       "\n",
       "Residual standard error: 0.9628 on 98 degrees of freedom\n",
       "Multiple R-squared:  0.7784,\tAdjusted R-squared:  0.7762 \n",
       "F-statistic: 344.3 on 1 and 98 DF,  p-value: < 2.2e-16\n"
      ]
     },
     "metadata": {},
     "output_type": "display_data"
    },
    {
     "data": {
      "text/plain": [
       "\n",
       "Call:\n",
       "lm(formula = x ~ y)\n",
       "\n",
       "Residuals:\n",
       "     Min       1Q   Median       3Q      Max \n",
       "-0.90848 -0.28101  0.06274  0.24570  0.85736 \n",
       "\n",
       "Coefficients:\n",
       "            Estimate Std. Error t value Pr(>|t|)    \n",
       "(Intercept)  0.03880    0.04266    0.91    0.365    \n",
       "y            0.38942    0.02099   18.56   <2e-16 ***\n",
       "---\n",
       "Signif. codes:  0 '***' 0.001 '**' 0.01 '*' 0.05 '.' 0.1 ' ' 1\n",
       "\n",
       "Residual standard error: 0.4249 on 98 degrees of freedom\n",
       "Multiple R-squared:  0.7784,\tAdjusted R-squared:  0.7762 \n",
       "F-statistic: 344.3 on 1 and 98 DF,  p-value: < 2.2e-16\n"
      ]
     },
     "metadata": {},
     "output_type": "display_data"
    }
   ],
   "source": [
    "set.seed(1)\n",
    "x=rnorm(100)\n",
    "y=2*x+rnorm(100)\n",
    "slr1=lm(y~x)\n",
    "slr2=lm(x~y)\n",
    "summary(slr1)\n",
    "summary(slr2)\n",
    "#As you see below both t-values of the intercept null hypothesis are equal for the 2 models."
   ]
  },
  {
   "cell_type": "markdown",
   "metadata": {},
   "source": [
    "12- Easy exercise, I'll just leave the hint and move on. The intercept is the same for both models of y on x and x on y is when: $\\sum_{i=1}^{n}x_i^2=\\sum_{i=1}^{n}y_i^2$"
   ]
  },
  {
   "cell_type": "markdown",
   "metadata": {},
   "source": [
    "# 13-"
   ]
  },
  {
   "cell_type": "code",
   "execution_count": 212,
   "metadata": {},
   "outputs": [],
   "source": [
    "set.seed(5)\n",
    "x=rnorm(100)\n",
    "eps=rnorm(100,mean=0,sd=0.25)\n",
    "y=-1+0.5*x+eps"
   ]
  },
  {
   "cell_type": "code",
   "execution_count": 213,
   "metadata": {},
   "outputs": [],
   "source": [
    "beta0=-1\n",
    "beta1=0.5\n",
    "leny=length(y) #100 obviously!"
   ]
  },
  {
   "cell_type": "code",
   "execution_count": 214,
   "metadata": {},
   "outputs": [
    {
     "data": {
      "image/png": "[encoded data removed]",
      "text/plain": [
       "plot without title"
      ]
     },
     "metadata": {},
     "output_type": "display_data"
    }
   ],
   "source": [
    "plot(x,y,col='darkgoldenrod1',pch=20)"
   ]
  },
  {
   "cell_type": "code",
   "execution_count": 215,
   "metadata": {
    "scrolled": true
   },
   "outputs": [
    {
     "data": {
      "text/plain": [
       "\n",
       "Call:\n",
       "lm(formula = y ~ x)\n",
       "\n",
       "Residuals:\n",
       "     Min       1Q   Median       3Q      Max \n",
       "-0.62059 -0.15387  0.02532  0.18585  0.68291 \n",
       "\n",
       "Coefficients:\n",
       "            Estimate Std. Error t value Pr(>|t|)    \n",
       "(Intercept) -0.99693    0.02611  -38.18   <2e-16 ***\n",
       "x            0.53328    0.02775   19.22   <2e-16 ***\n",
       "---\n",
       "Signif. codes:  0 '***' 0.001 '**' 0.01 '*' 0.05 '.' 0.1 ' ' 1\n",
       "\n",
       "Residual standard error: 0.261 on 98 degrees of freedom\n",
       "Multiple R-squared:  0.7903,\tAdjusted R-squared:  0.7882 \n",
       "F-statistic: 369.4 on 1 and 98 DF,  p-value: < 2.2e-16\n"
      ]
     },
     "metadata": {},
     "output_type": "display_data"
    }
   ],
   "source": [
    "slrff1=lm(y~x)\n",
    "summary(slrff1)"
   ]
  },
  {
   "cell_type": "markdown",
   "metadata": {},
   "source": [
    "The model have a little error term 0.261 and somehow high $R^2$ value of 0,79 this due to the values of $\\hat{\\beta_0}$ and $\\hat{\\beta_1}$ that are close to the actual values."
   ]
  },
  {
   "cell_type": "code",
   "execution_count": 216,
   "metadata": {},
   "outputs": [
    {
     "data": {
      "image/png": "[encoded data removed]",
      "text/plain": [
       "plot without title"
      ]
     },
     "metadata": {},
     "output_type": "display_data"
    }
   ],
   "source": [
    "plot(x,y,col='darkgoldenrod1',pch=20)\n",
    "abline(slrff1,lwd=3,col='cornflowerblue')\n",
    "abline(-1,0.5,lwd=3,col='brown2')\n",
    "legend(-2.25,0.2,legend=c('Real','Estimate'),col=c('brown2','cornflowerblue'),lwd=3)"
   ]
  },
  {
   "cell_type": "code",
   "execution_count": 217,
   "metadata": {},
   "outputs": [
    {
     "data": {
      "text/plain": [
       "\n",
       "Call:\n",
       "lm(formula = y ~ poly(x, 2))\n",
       "\n",
       "Residuals:\n",
       "     Min       1Q   Median       3Q      Max \n",
       "-0.61154 -0.16155  0.01887  0.20026  0.68997 \n",
       "\n",
       "Coefficients:\n",
       "            Estimate Std. Error t value Pr(>|t|)    \n",
       "(Intercept) -0.98005    0.02617 -37.448   <2e-16 ***\n",
       "poly(x, 2)1  5.01572    0.26171  19.165   <2e-16 ***\n",
       "poly(x, 2)2 -0.17489    0.26171  -0.668    0.506    \n",
       "---\n",
       "Signif. codes:  0 '***' 0.001 '**' 0.01 '*' 0.05 '.' 0.1 ' ' 1\n",
       "\n",
       "Residual standard error: 0.2617 on 97 degrees of freedom\n",
       "Multiple R-squared:  0.7913,\tAdjusted R-squared:  0.787 \n",
       "F-statistic: 183.9 on 2 and 97 DF,  p-value: < 2.2e-16\n"
      ]
     },
     "metadata": {},
     "output_type": "display_data"
    }
   ],
   "source": [
    "slrfq=lm(y~poly(x,2))\n",
    "summary(slrfq)"
   ]
  },
  {
   "cell_type": "markdown",
   "metadata": {},
   "source": [
    "We notice very slight decrease in $R^2$ and $RSE$ this is to be expected, as we get the model more flexible we fit more the learning data, although this change is not that significant, since the p-value related the the null hypothesis concerning the coefficient for $x^2$ is very large. So no, no improvement have been introduced by the quadratic term. Logical enough since the true relationship is linear."
   ]
  },
  {
   "cell_type": "code",
   "execution_count": 226,
   "metadata": {},
   "outputs": [],
   "source": [
    "#We change the value of eps to 0.1\n",
    "set.seed(5)\n",
    "x=rnorm(100)\n",
    "eps=rnorm(100,mean=0,sd=0.1)\n",
    "y=-1+0.5*x+eps"
   ]
  },
  {
   "cell_type": "code",
   "execution_count": 227,
   "metadata": {},
   "outputs": [
    {
     "data": {
      "text/plain": [
       "\n",
       "Call:\n",
       "lm(formula = y ~ x)\n",
       "\n",
       "Residuals:\n",
       "     Min       1Q   Median       3Q      Max \n",
       "-0.24824 -0.06155  0.01013  0.07434  0.27316 \n",
       "\n",
       "Coefficients:\n",
       "            Estimate Std. Error t value Pr(>|t|)    \n",
       "(Intercept) -0.99877    0.01044  -95.62   <2e-16 ***\n",
       "x            0.51331    0.01110   46.25   <2e-16 ***\n",
       "---\n",
       "Signif. codes:  0 '***' 0.001 '**' 0.01 '*' 0.05 '.' 0.1 ' ' 1\n",
       "\n",
       "Residual standard error: 0.1044 on 98 degrees of freedom\n",
       "Multiple R-squared:  0.9562,\tAdjusted R-squared:  0.9557 \n",
       "F-statistic:  2139 on 1 and 98 DF,  p-value: < 2.2e-16\n"
      ]
     },
     "metadata": {},
     "output_type": "display_data"
    }
   ],
   "source": [
    "slrff2=lm(y~x)\n",
    "summary(slrff2)"
   ]
  },
  {
   "cell_type": "code",
   "execution_count": 228,
   "metadata": {},
   "outputs": [
    {
     "data": {
      "image/png": "[encoded data removed]",
      "text/plain": [
       "plot without title"
      ]
     },
     "metadata": {},
     "output_type": "display_data"
    }
   ],
   "source": [
    "plot(x,y,col='darkgoldenrod1',pch=20)\n",
    "abline(slrff2,lwd=3,col='cornflowerblue')\n",
    "abline(-1,0.5,lwd=3,col='brown2')\n",
    "legend(-2.25,0.25,legend=c('Real','Estimate'),col=c('brown2','cornflowerblue'),lwd=3)\n",
    "#As you can see the two lines the estimated and real are almost identical  "
   ]
  },
  {
   "cell_type": "markdown",
   "metadata": {},
   "source": [
    "As you would expect reducing the variance of the irreductible error will make the linear regression perform better and get close as possible to the actual function."
   ]
  },
  {
   "cell_type": "code",
   "execution_count": 229,
   "metadata": {},
   "outputs": [],
   "source": [
    "#We change the value of eps to 0.5\n",
    "set.seed(5)\n",
    "x=rnorm(100)\n",
    "eps=rnorm(100,mean=0,sd=0.5)\n",
    "y=-1+0.5*x+eps"
   ]
  },
  {
   "cell_type": "code",
   "execution_count": 230,
   "metadata": {},
   "outputs": [
    {
     "data": {
      "text/plain": [
       "\n",
       "Call:\n",
       "lm(formula = y ~ x)\n",
       "\n",
       "Residuals:\n",
       "     Min       1Q   Median       3Q      Max \n",
       "-1.24118 -0.30774  0.05064  0.37170  1.36583 \n",
       "\n",
       "Coefficients:\n",
       "            Estimate Std. Error t value Pr(>|t|)    \n",
       "(Intercept) -0.99385    0.05222  -19.03   <2e-16 ***\n",
       "x            0.56656    0.05549   10.21   <2e-16 ***\n",
       "---\n",
       "Signif. codes:  0 '***' 0.001 '**' 0.01 '*' 0.05 '.' 0.1 ' ' 1\n",
       "\n",
       "Residual standard error: 0.5219 on 98 degrees of freedom\n",
       "Multiple R-squared:  0.5154,\tAdjusted R-squared:  0.5105 \n",
       "F-statistic: 104.2 on 1 and 98 DF,  p-value: < 2.2e-16\n"
      ]
     },
     "metadata": {},
     "output_type": "display_data"
    }
   ],
   "source": [
    "slrff3=lm(y~x)\n",
    "summary(slrff3)"
   ]
  },
  {
   "cell_type": "code",
   "execution_count": 233,
   "metadata": {},
   "outputs": [
    {
     "data": {
      "image/png": "[encoded data removed]",
      "text/plain": [
       "plot without title"
      ]
     },
     "metadata": {},
     "output_type": "display_data"
    }
   ],
   "source": [
    "plot(x,y,col='darkgoldenrod1',pch=20)\n",
    "abline(slrff3,lwd=3,col='cornflowerblue')\n",
    "abline(-1,0.5,lwd=3,col='brown2')\n",
    "legend(-2.25,0.5,legend=c('Real','Estimate'),col=c('brown2','cornflowerblue'),lwd=3)\n",
    "#As you can see the two lines the estimated and real are almost identical  "
   ]
  },
  {
   "cell_type": "markdown",
   "metadata": {},
   "source": [
    "As you would expect increasing the variance of the irreductible error will make the linear regression perform worse than before and be largely off the actual function."
   ]
  },
  {
   "cell_type": "code",
   "execution_count": 234,
   "metadata": {},
   "outputs": [
    {
     "data": {
      "text/html": [
       "<ol class=list-inline>\n",
       "\t<li>'call'</li>\n",
       "\t<li>'terms'</li>\n",
       "\t<li>'residuals'</li>\n",
       "\t<li>'coefficients'</li>\n",
       "\t<li>'aliased'</li>\n",
       "\t<li>'sigma'</li>\n",
       "\t<li>'df'</li>\n",
       "\t<li>'r.squared'</li>\n",
       "\t<li>'adj.r.squared'</li>\n",
       "\t<li>'fstatistic'</li>\n",
       "\t<li>'cov.unscaled'</li>\n",
       "</ol>\n"
      ],
      "text/latex": [
       "\\begin{enumerate*}\n",
       "\\item 'call'\n",
       "\\item 'terms'\n",
       "\\item 'residuals'\n",
       "\\item 'coefficients'\n",
       "\\item 'aliased'\n",
       "\\item 'sigma'\n",
       "\\item 'df'\n",
       "\\item 'r.squared'\n",
       "\\item 'adj.r.squared'\n",
       "\\item 'fstatistic'\n",
       "\\item 'cov.unscaled'\n",
       "\\end{enumerate*}\n"
      ],
      "text/markdown": [
       "1. 'call'\n",
       "2. 'terms'\n",
       "3. 'residuals'\n",
       "4. 'coefficients'\n",
       "5. 'aliased'\n",
       "6. 'sigma'\n",
       "7. 'df'\n",
       "8. 'r.squared'\n",
       "9. 'adj.r.squared'\n",
       "10. 'fstatistic'\n",
       "11. 'cov.unscaled'\n",
       "\n",
       "\n"
      ],
      "text/plain": [
       " [1] \"call\"          \"terms\"         \"residuals\"     \"coefficients\" \n",
       " [5] \"aliased\"       \"sigma\"         \"df\"            \"r.squared\"    \n",
       " [9] \"adj.r.squared\" \"fstatistic\"    \"cov.unscaled\" "
      ]
     },
     "metadata": {},
     "output_type": "display_data"
    }
   ],
   "source": [
    "summary(slrff3))"
   ]
  },
  {
   "cell_type": "code",
   "execution_count": 238,
   "metadata": {},
   "outputs": [
    {
     "data": {
      "text/html": [
       "<table>\n",
       "<thead><tr><th></th><th scope=col>2.5 %</th><th scope=col>97.5 %</th></tr></thead>\n",
       "<tbody>\n",
       "\t<tr><th scope=row>(Intercept)</th><td>-1.0487431</td><td>-0.9451071</td></tr>\n",
       "\t<tr><th scope=row>x</th><td> 0.4782154</td><td> 0.5883401</td></tr>\n",
       "</tbody>\n",
       "</table>\n"
      ],
      "text/latex": [
       "\\begin{tabular}{r|ll}\n",
       "  & 2.5 \\% & 97.5 \\%\\\\\n",
       "\\hline\n",
       "\t(Intercept) & -1.0487431 & -0.9451071\\\\\n",
       "\tx &  0.4782154 &  0.5883401\\\\\n",
       "\\end{tabular}\n"
      ],
      "text/markdown": [
       "\n",
       "| <!--/--> | 2.5 % | 97.5 % | \n",
       "|---|---|\n",
       "| (Intercept) | -1.0487431 | -0.9451071 | \n",
       "| x |  0.4782154 |  0.5883401 | \n",
       "\n",
       "\n"
      ],
      "text/plain": [
       "            2.5 %      97.5 %    \n",
       "(Intercept) -1.0487431 -0.9451071\n",
       "x            0.4782154  0.5883401"
      ]
     },
     "metadata": {},
     "output_type": "display_data"
    },
    {
     "data": {
      "text/html": [
       "<table>\n",
       "<thead><tr><th></th><th scope=col>2.5 %</th><th scope=col>97.5 %</th></tr></thead>\n",
       "<tbody>\n",
       "\t<tr><th scope=row>(Intercept)</th><td>-1.0194973</td><td>-0.9780428</td></tr>\n",
       "\t<tr><th scope=row>x</th><td> 0.4912861</td><td> 0.5353361</td></tr>\n",
       "</tbody>\n",
       "</table>\n"
      ],
      "text/latex": [
       "\\begin{tabular}{r|ll}\n",
       "  & 2.5 \\% & 97.5 \\%\\\\\n",
       "\\hline\n",
       "\t(Intercept) & -1.0194973 & -0.9780428\\\\\n",
       "\tx &  0.4912861 &  0.5353361\\\\\n",
       "\\end{tabular}\n"
      ],
      "text/markdown": [
       "\n",
       "| <!--/--> | 2.5 % | 97.5 % | \n",
       "|---|---|\n",
       "| (Intercept) | -1.0194973 | -0.9780428 | \n",
       "| x |  0.4912861 |  0.5353361 | \n",
       "\n",
       "\n"
      ],
      "text/plain": [
       "            2.5 %      97.5 %    \n",
       "(Intercept) -1.0194973 -0.9780428\n",
       "x            0.4912861  0.5353361"
      ]
     },
     "metadata": {},
     "output_type": "display_data"
    },
    {
     "data": {
      "text/html": [
       "<table>\n",
       "<thead><tr><th></th><th scope=col>2.5 %</th><th scope=col>97.5 %</th></tr></thead>\n",
       "<tbody>\n",
       "\t<tr><th scope=row>(Intercept)</th><td>-1.0974863</td><td>-0.8902142</td></tr>\n",
       "\t<tr><th scope=row>x</th><td> 0.4564307</td><td> 0.6766803</td></tr>\n",
       "</tbody>\n",
       "</table>\n"
      ],
      "text/latex": [
       "\\begin{tabular}{r|ll}\n",
       "  & 2.5 \\% & 97.5 \\%\\\\\n",
       "\\hline\n",
       "\t(Intercept) & -1.0974863 & -0.8902142\\\\\n",
       "\tx &  0.4564307 &  0.6766803\\\\\n",
       "\\end{tabular}\n"
      ],
      "text/markdown": [
       "\n",
       "| <!--/--> | 2.5 % | 97.5 % | \n",
       "|---|---|\n",
       "| (Intercept) | -1.0974863 | -0.8902142 | \n",
       "| x |  0.4564307 |  0.6766803 | \n",
       "\n",
       "\n"
      ],
      "text/plain": [
       "            2.5 %      97.5 %    \n",
       "(Intercept) -1.0974863 -0.8902142\n",
       "x            0.4564307  0.6766803"
      ]
     },
     "metadata": {},
     "output_type": "display_data"
    }
   ],
   "source": [
    "confint(slrff1)\n",
    "confint(slrff2)\n",
    "confint(slrff3)"
   ]
  },
  {
   "cell_type": "code",
   "execution_count": null,
   "metadata": {},
   "outputs": [],
   "source": []
  }
 ],
 "metadata": {
  "kernelspec": {
   "display_name": "R",
   "language": "R",
   "name": "ir"
  },
  "language_info": {
   "codemirror_mode": "r",
   "file_extension": ".r",
   "mimetype": "text/x-r-source",
   "name": "R",
   "pygments_lexer": "r",
   "version": "3.5.1"
  }
 },
 "nbformat": 4,
 "nbformat_minor": 2
}
